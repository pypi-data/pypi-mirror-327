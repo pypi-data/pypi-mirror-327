{
 "cells": [
  {
   "cell_type": "code",
   "execution_count": 1,
   "metadata": {},
   "outputs": [],
   "source": [
    "import tap\n",
    "from expedantic import ConfigBase, Field"
   ]
  },
  {
   "cell_type": "code",
   "execution_count": 2,
   "metadata": {},
   "outputs": [],
   "source": [
    "class TestInnerConfig(ConfigBase):\n",
    "    a: int = -1\n",
    "    b: float = -2.0\n",
    "\n",
    "class TestConfig(ConfigBase):\n",
    "    a: int\n",
    "    b: float = 2.0\n",
    "    c: str = \"3.0\"\n",
    "    d: list[float] = Field(default_factory=lambda: [1.0,2.0,3.0])\n",
    "    e: TestInnerConfig = TestInnerConfig()\n",
    "\n",
    "    # def __getitem__(self, key: str):\n",
    "    #     if key not in self.model_fields:\n",
    "    #         raise KeyError(f\"Key '{key}' not found.\")\n",
    "    #     return self.__getattribute__(key)\n",
    "\n",
    "    # def __iter__(self):\n",
    "    #     # dumped = self.model_dump()\n",
    "    #     # return iter(dumped)\n",
    "    #     for key in self.model_fields:\n",
    "    #         yield key\n",
    "\n",
    "    # def __len__(self):\n",
    "    #     return len(self.model_fields)"
   ]
  },
  {
   "cell_type": "code",
   "execution_count": 14,
   "metadata": {},
   "outputs": [],
   "source": [
    "c = TestConfig(a=1)"
   ]
  },
  {
   "cell_type": "code",
   "execution_count": 18,
   "metadata": {},
   "outputs": [
    {
     "data": {
      "text/plain": [
       "{'$defs': {'TestInnerConfig': {'additionalProperties': False,\n",
       "   'properties': {'a': {'default': -1, 'title': 'A', 'type': 'integer'},\n",
       "    'b': {'default': -2.0, 'title': 'B', 'type': 'number'}},\n",
       "   'title': 'TestInnerConfig',\n",
       "   'type': 'object'}},\n",
       " 'additionalProperties': False,\n",
       " 'properties': {'a': {'title': 'A', 'type': 'integer'},\n",
       "  'b': {'default': 2.0, 'title': 'B', 'type': 'number'},\n",
       "  'c': {'default': '3.0', 'title': 'C', 'type': 'string'},\n",
       "  'd': {'items': {'type': 'number'}, 'title': 'D', 'type': 'array'},\n",
       "  'e': {'allOf': [{'$ref': '#/$defs/TestInnerConfig'}],\n",
       "   'default': {'a': -1, 'b': -2.0}}},\n",
       " 'required': ['a'],\n",
       " 'title': 'TestConfig',\n",
       " 'type': 'object'}"
      ]
     },
     "execution_count": 18,
     "metadata": {},
     "output_type": "execute_result"
    }
   ],
   "source": [
    "TestConfig.model_json_schema()"
   ]
  },
  {
   "cell_type": "code",
   "execution_count": 16,
   "metadata": {},
   "outputs": [],
   "source": [
    "d = {**c}"
   ]
  },
  {
   "cell_type": "code",
   "execution_count": 17,
   "metadata": {},
   "outputs": [
    {
     "data": {
      "text/plain": [
       "{'a': 1,\n",
       " 'b': 2.0,\n",
       " 'c': '3.0',\n",
       " 'd': [1.0, 2.0, 3.0],\n",
       " 'e': TestInnerConfig(a=-1, b=-2.0)}"
      ]
     },
     "execution_count": 17,
     "metadata": {},
     "output_type": "execute_result"
    }
   ],
   "source": [
    "d"
   ]
  },
  {
   "cell_type": "code",
   "execution_count": 4,
   "metadata": {},
   "outputs": [
    {
     "data": {
      "text/plain": [
       "5"
      ]
     },
     "execution_count": 4,
     "metadata": {},
     "output_type": "execute_result"
    }
   ],
   "source": [
    "len(c)"
   ]
  },
  {
   "cell_type": "code",
   "execution_count": 13,
   "metadata": {},
   "outputs": [
    {
     "data": {
      "text/plain": [
       "{'a': 1,\n",
       " 'b': 2.0,\n",
       " 'c': '3.0',\n",
       " 'd': [1.0, 2.0, 3.0],\n",
       " 'e': TestInnerConfig(a=-1, b=-2.0)}"
      ]
     },
     "execution_count": 13,
     "metadata": {},
     "output_type": "execute_result"
    }
   ],
   "source": [
    "{**c}"
   ]
  },
  {
   "cell_type": "code",
   "execution_count": 12,
   "metadata": {},
   "outputs": [
    {
     "ename": "TypeError",
     "evalue": "'TestConfig' object does not support item assignment",
     "output_type": "error",
     "traceback": [
      "\u001b[0;31m---------------------------------------------------------------------------\u001b[0m",
      "\u001b[0;31mTypeError\u001b[0m                                 Traceback (most recent call last)",
      "Cell \u001b[0;32mIn[12], line 1\u001b[0m\n\u001b[0;32m----> 1\u001b[0m \u001b[43mc\u001b[49m\u001b[43m[\u001b[49m\u001b[38;5;124;43m'\u001b[39;49m\u001b[38;5;124;43mbd\u001b[39;49m\u001b[38;5;124;43m'\u001b[39;49m\u001b[43m]\u001b[49m \u001b[38;5;241m=\u001b[39m \u001b[38;5;241m1\u001b[39m\n",
      "\u001b[0;31mTypeError\u001b[0m: 'TestConfig' object does not support item assignment"
     ]
    }
   ],
   "source": [
    "c['bd'] = 1"
   ]
  },
  {
   "cell_type": "code",
   "execution_count": 10,
   "metadata": {},
   "outputs": [
    {
     "data": {
      "text/plain": [
       "'c'"
      ]
     },
     "execution_count": 10,
     "metadata": {},
     "output_type": "execute_result"
    }
   ],
   "source": [
    "c.get('bd', 'c')"
   ]
  },
  {
   "cell_type": "code",
   "execution_count": 6,
   "metadata": {},
   "outputs": [
    {
     "name": "stdout",
     "output_type": "stream",
     "text": [
      "('a', 1)\n",
      "('b', 2.0)\n",
      "('c', '3.0')\n",
      "('d', [1.0, 2.0, 3.0])\n",
      "('e', TestInnerConfig(a=-1, b=-2.0))\n"
     ]
    }
   ],
   "source": [
    "for i in c.__iter__():\n",
    "    print(i)\n",
    "    "
   ]
  },
  {
   "cell_type": "code",
   "execution_count": 7,
   "metadata": {},
   "outputs": [
    {
     "data": {
      "text/plain": [
       "5"
      ]
     },
     "execution_count": 7,
     "metadata": {},
     "output_type": "execute_result"
    }
   ],
   "source": [
    "len(c)"
   ]
  },
  {
   "cell_type": "code",
   "execution_count": 27,
   "metadata": {},
   "outputs": [
    {
     "data": {
      "text/plain": [
       "{'a': FieldInfo(annotation=int, required=True),\n",
       " 'b': FieldInfo(annotation=float, required=False, default=2.0),\n",
       " 'c': FieldInfo(annotation=str, required=False, default='3.0'),\n",
       " 'd': FieldInfo(annotation=list[float], required=False, default_factory=<lambda>),\n",
       " 'e': FieldInfo(annotation=TestInnerConfig, required=False, default=TestInnerConfig(a=-1, b=-2.0))}"
      ]
     },
     "execution_count": 27,
     "metadata": {},
     "output_type": "execute_result"
    }
   ],
   "source": [
    "c.__getattribute__('model_fields')"
   ]
  },
  {
   "cell_type": "code",
   "execution_count": 28,
   "metadata": {},
   "outputs": [],
   "source": [
    "c.save_as_yaml(\"save_test.yaml\")"
   ]
  },
  {
   "cell_type": "code",
   "execution_count": 14,
   "metadata": {},
   "outputs": [],
   "source": [
    "cc = TestConfig.load_from_yaml('save_test.yaml')"
   ]
  },
  {
   "cell_type": "code",
   "execution_count": 5,
   "metadata": {},
   "outputs": [
    {
     "data": {
      "text/plain": [
       "{'a': 1, 'b': 2.0, 'c': '3.0', 'd': [1.0, 2.0, 3.0], 'e.a': -1, 'e.b': -2.0}"
      ]
     },
     "execution_count": 5,
     "metadata": {},
     "output_type": "execute_result"
    }
   ],
   "source": [
    "c.flatten()"
   ]
  },
  {
   "cell_type": "code",
   "execution_count": 8,
   "metadata": {},
   "outputs": [
    {
     "name": "stderr",
     "output_type": "stream",
     "text": [
      "usage: ipykernel_launcher.py [-h]\n",
      "ipykernel_launcher.py: error: unrecognized arguments: --f=/home/js/.local/share/jupyter/runtime/kernel-v2-323287a1MeCM3BKiaU.json\n"
     ]
    },
    {
     "ename": "SystemExit",
     "evalue": "2",
     "output_type": "error",
     "traceback": [
      "An exception has occurred, use %tb to see the full traceback.\n",
      "\u001b[0;31mSystemExit\u001b[0m\u001b[0;31m:\u001b[0m 2\n"
     ]
    },
    {
     "name": "stderr",
     "output_type": "stream",
     "text": [
      "/home/js/miniconda3/envs/expedantic/lib/python3.10/site-packages/IPython/core/interactiveshell.py:3585: UserWarning: To exit: use 'exit', 'quit', or Ctrl-D.\n",
      "  warn(\"To exit: use 'exit', 'quit', or Ctrl-D.\", stacklevel=1)\n"
     ]
    }
   ],
   "source": [
    "TestConfig.tapify()"
   ]
  },
  {
   "cell_type": "code",
   "execution_count": 9,
   "metadata": {},
   "outputs": [],
   "source": [
    "import inspect"
   ]
  },
  {
   "cell_type": "code",
   "execution_count": 17,
   "metadata": {},
   "outputs": [],
   "source": [
    "sig = inspect.signature(TestConfig)"
   ]
  },
  {
   "cell_type": "code",
   "execution_count": 29,
   "metadata": {},
   "outputs": [
    {
     "name": "stdout",
     "output_type": "stream",
     "text": [
      "a KEYWORD_ONLY <class 'int'>\n",
      "b KEYWORD_ONLY <class 'float'>\n",
      "c KEYWORD_ONLY <class 'str'>\n",
      "d KEYWORD_ONLY list[float]\n",
      "e KEYWORD_ONLY <class '__main__.TestInnerConfig'>\n"
     ]
    }
   ],
   "source": [
    "for name, param in sig.parameters.items():\n",
    "    print(name, param.kind, param.annotation)"
   ]
  },
  {
   "cell_type": "code",
   "execution_count": 45,
   "metadata": {},
   "outputs": [],
   "source": [
    "v = sig.parameters['d'].default"
   ]
  },
  {
   "cell_type": "code",
   "execution_count": 64,
   "metadata": {},
   "outputs": [
    {
     "ename": "TypeError",
     "evalue": "descriptor 'init' for 'FieldInfo' objects doesn't apply to a 'FieldInfo' object",
     "output_type": "error",
     "traceback": [
      "\u001b[0;31m---------------------------------------------------------------------------\u001b[0m",
      "\u001b[0;31mTypeError\u001b[0m                                 Traceback (most recent call last)",
      "Cell \u001b[0;32mIn[64], line 1\u001b[0m\n\u001b[0;32m----> 1\u001b[0m \u001b[43mTestConfig\u001b[49m\u001b[38;5;241;43m.\u001b[39;49m\u001b[43mmodel_fields\u001b[49m\u001b[43m[\u001b[49m\u001b[38;5;124;43m'\u001b[39;49m\u001b[38;5;124;43mc\u001b[39;49m\u001b[38;5;124;43m'\u001b[39;49m\u001b[43m]\u001b[49m\u001b[38;5;241;43m.\u001b[39;49m\u001b[43minit\u001b[49m\n",
      "\u001b[0;31mTypeError\u001b[0m: descriptor 'init' for 'FieldInfo' objects doesn't apply to a 'FieldInfo' object"
     ]
    }
   ],
   "source": [
    "TestConfig.model_fields['c'].init"
   ]
  },
  {
   "cell_type": "code",
   "execution_count": 41,
   "metadata": {},
   "outputs": [],
   "source": [
    "import typing"
   ]
  },
  {
   "cell_type": "code",
   "execution_count": 44,
   "metadata": {},
   "outputs": [],
   "source": [
    "typing.get_origin(int)"
   ]
  },
  {
   "cell_type": "code",
   "execution_count": 10,
   "metadata": {},
   "outputs": [
    {
     "name": "stdout",
     "output_type": "stream",
     "text": [
      "Namespace(a=20, b=NOT_PROVIDED, c=NOT_PROVIDED, d=NOT_PROVIDED, e=NOT_PROVIDED)\n"
     ]
    }
   ],
   "source": [
    "\n",
    "import argparse\n",
    "import sys\n",
    "\n",
    "sys.argv=['']\n",
    "\n",
    "args = TestConfig.parse_args(['--a', '20'])"
   ]
  },
  {
   "cell_type": "code",
   "execution_count": 7,
   "metadata": {},
   "outputs": [
    {
     "data": {
      "text/plain": [
       "{'a': 20, 'b': None, 'c': None, 'd': None, 'e.a': None, 'e.b': None}"
      ]
     },
     "execution_count": 7,
     "metadata": {},
     "output_type": "execute_result"
    }
   ],
   "source": [
    "vars(args)"
   ]
  },
  {
   "cell_type": "code",
   "execution_count": 15,
   "metadata": {},
   "outputs": [],
   "source": [
    "for a in unknown:\n",
    "    print(a)"
   ]
  },
  {
   "cell_type": "code",
   "execution_count": 7,
   "metadata": {},
   "outputs": [
    {
     "data": {
      "text/plain": [
       "{'a': 20, 'b': 2.0, 'c': '3.0', 'd': [1.0, 2.0, 3.0], 'e.a': -1, 'e.b': -2.0}"
      ]
     },
     "execution_count": 7,
     "metadata": {},
     "output_type": "execute_result"
    }
   ],
   "source": [
    "vars(args)"
   ]
  },
  {
   "cell_type": "code",
   "execution_count": 8,
   "metadata": {},
   "outputs": [
    {
     "name": "stdout",
     "output_type": "stream",
     "text": [
      "['a']\n",
      "['b']\n",
      "['c']\n",
      "['d']\n",
      "['e', 'a']\n",
      "['e', 'b']\n"
     ]
    }
   ],
   "source": [
    "for k, v in vars(args).items():\n",
    "    keys = k.split('.')\n",
    "    \n",
    "    for key in keys[:-1]:\n",
    "        "
   ]
  },
  {
   "cell_type": "code",
   "execution_count": 1,
   "metadata": {},
   "outputs": [],
   "source": [
    "from expedantic import ConfigBase"
   ]
  },
  {
   "cell_type": "code",
   "execution_count": 2,
   "metadata": {},
   "outputs": [
    {
     "data": {
      "text/plain": [
       "[expedantic.config_base.ConfigBase, pydantic.main.BaseModel, abc.ABC, object]"
      ]
     },
     "execution_count": 2,
     "metadata": {},
     "output_type": "execute_result"
    }
   ],
   "source": [
    "ConfigBase.mro()"
   ]
  },
  {
   "cell_type": "code",
   "execution_count": 3,
   "metadata": {},
   "outputs": [],
   "source": [
    "class TestBase(ConfigBase):\n",
    "    a: int = 1\n",
    "    b: float = 2.0\n",
    "\n",
    "\n",
    "class TestChild(TestBase):\n",
    "    c: str = \"c\""
   ]
  },
  {
   "cell_type": "code",
   "execution_count": 4,
   "metadata": {},
   "outputs": [],
   "source": [
    "d = {'a': 2, 'b': 3.0}"
   ]
  },
  {
   "cell_type": "code",
   "execution_count": 5,
   "metadata": {},
   "outputs": [
    {
     "data": {
      "text/plain": [
       "TestBase(a=2, b=3.0)"
      ]
     },
     "execution_count": 5,
     "metadata": {},
     "output_type": "execute_result"
    }
   ],
   "source": [
    "TestBase.model_validate(d)"
   ]
  },
  {
   "cell_type": "code",
   "execution_count": 6,
   "metadata": {},
   "outputs": [
    {
     "data": {
      "text/plain": [
       "TestChild(a=2, b=3.0, c='c')"
      ]
     },
     "execution_count": 6,
     "metadata": {},
     "output_type": "execute_result"
    }
   ],
   "source": [
    "TestChild.model_validate(d)"
   ]
  },
  {
   "cell_type": "code",
   "execution_count": 13,
   "metadata": {},
   "outputs": [
    {
     "data": {
      "text/plain": [
       "(pydantic.main.BaseModel, abc.ABC)"
      ]
     },
     "execution_count": 13,
     "metadata": {},
     "output_type": "execute_result"
    }
   ],
   "source": [
    "ConfigBase.__bases__"
   ]
  },
  {
   "cell_type": "code",
   "execution_count": 12,
   "metadata": {},
   "outputs": [
    {
     "data": {
      "text/plain": [
       "(expedantic.config_base.ConfigBase,)"
      ]
     },
     "execution_count": 12,
     "metadata": {},
     "output_type": "execute_result"
    }
   ],
   "source": [
    "TestBase.__bases__"
   ]
  },
  {
   "cell_type": "code",
   "execution_count": 11,
   "metadata": {},
   "outputs": [
    {
     "data": {
      "text/plain": [
       "(__main__.TestBase,)"
      ]
     },
     "execution_count": 11,
     "metadata": {},
     "output_type": "execute_result"
    }
   ],
   "source": [
    "TestChild.__bases__"
   ]
  },
  {
   "cell_type": "code",
   "execution_count": 2,
   "metadata": {},
   "outputs": [],
   "source": [
    "inp = \"\"\"\\\n",
    "- &CENTER {x: 1, y: 2}\n",
    "- &LEFT {x: 0, y: 2}\n",
    "- &BIG {r: 10}\n",
    "- &SMALL {r: 1}\n",
    "# All the following maps are equal:\n",
    "# Explicit keys\n",
    "- x: 1\n",
    "  y: 2\n",
    "  r: 10\n",
    "  label: center/big\n",
    "# Merge one map\n",
    "- <<: *CENTER\n",
    "  r: 10\n",
    "  label: center/big\n",
    "# Merge multiple maps\n",
    "- <<: [*CENTER, *BIG]\n",
    "  label: center/big\n",
    "# Override\n",
    "- <<: [*BIG, *LEFT, *SMALL]\n",
    "  x: 1\n",
    "  label: center/big\n",
    "\"\"\""
   ]
  },
  {
   "cell_type": "code",
   "execution_count": 3,
   "metadata": {},
   "outputs": [],
   "source": [
    "from ruamel.yaml import YAML\n",
    "yaml = YAML()"
   ]
  },
  {
   "cell_type": "code",
   "execution_count": 18,
   "metadata": {},
   "outputs": [],
   "source": [
    "data = yaml.load(inp)"
   ]
  },
  {
   "cell_type": "code",
   "execution_count": 19,
   "metadata": {},
   "outputs": [
    {
     "data": {
      "text/plain": [
       "[{'x': 1, 'y': 2},\n",
       " {'x': 0, 'y': 2},\n",
       " {'r': 10},\n",
       " {'r': 1},\n",
       " {'x': 1, 'y': 2, 'r': 10, 'label': 'center/big'},\n",
       " {'x': 1, 'y': 2, 'r': 10, 'label': 'center/big'},\n",
       " {'r': 10, 'x': 1, 'y': 2, 'label': 'center/big'},\n",
       " {'r': 10, 'x': 1, 'y': 2, 'label': 'center/big'}]"
      ]
     },
     "execution_count": 19,
     "metadata": {},
     "output_type": "execute_result"
    }
   ],
   "source": [
    "data"
   ]
  },
  {
   "cell_type": "code",
   "execution_count": 7,
   "metadata": {},
   "outputs": [
    {
     "data": {
      "text/plain": [
       "{}"
      ]
     },
     "execution_count": 7,
     "metadata": {},
     "output_type": "execute_result"
    }
   ],
   "source": [
    "yaml.tags"
   ]
  },
  {
   "cell_type": "code",
   "execution_count": 3,
   "metadata": {},
   "outputs": [
    {
     "data": {
      "text/plain": [
       "'- &CENTER {x: 1, y: 2}\\n- &LEFT {x: 0, y: 2}\\n- &BIG {r: 10}\\n- &SMALL {r: 1}\\n# All the following maps are equal:\\n# Explicit keys\\n- x: 1\\n  y: 2\\n  r: 10\\n  label: center/big\\n# Merge one map\\n- <<: *CENTER\\n  r: 10\\n  label: center/big\\n# Merge multiple maps\\n- <<: [*CENTER, *BIG]\\n  label: center/big\\n# Override\\n- <<: [*BIG, *LEFT, *SMALL]\\n  x: 1\\n  label: center/big\\n'"
      ]
     },
     "execution_count": 3,
     "metadata": {},
     "output_type": "execute_result"
    }
   ],
   "source": [
    "inp"
   ]
  },
  {
   "cell_type": "code",
   "execution_count": 25,
   "metadata": {},
   "outputs": [],
   "source": [
    "from ccorp.ruamel.yaml.include import YAML\n",
    "from pathlib import Path\n",
    "\n",
    "def test():\n",
    "    base = \"\"\"\\\n",
    "    device: cpu \n",
    "    batch_size: 1024 \n",
    "    learning_rate: 0.0003 \n",
    "    \"\"\"\n",
    "    child = \"\"\"\\\n",
    "    <<: !include ./base.yaml \n",
    "    device: 'cuda' \n",
    "    gradient_clip_range: 0.2 \n",
    "    \"\"\"\n",
    "    grandchild = \"\"\"\\\n",
    "    <<: !include ./child.yaml \n",
    "    learning_rate: 5.0e-5 \n",
    "    gradient_clip_range: 0.3 \n",
    "    decoder_net_arch: \n",
    "    - 128 \n",
    "    - 128 \n",
    "    \"\"\"\n",
    "    # print(base)\n",
    "\n",
    "    yaml = YAML()\n",
    "    # file = Path('./tmp/test.yaml')\n",
    "    # yaml.dump(base, file.open('w'))\n",
    "    yaml.dump(yaml.load(base), file,op)"
   ]
  },
  {
   "cell_type": "code",
   "execution_count": 26,
   "metadata": {},
   "outputs": [
    {
     "name": "stdout",
     "output_type": "stream",
     "text": [
      "{'device': 'cpu', 'batch_size': 1024, 'learning_rate': 0.0003}\n"
     ]
    }
   ],
   "source": [
    "test()"
   ]
  },
  {
   "cell_type": "code",
   "execution_count": 20,
   "metadata": {},
   "outputs": [
    {
     "data": {
      "text/plain": [
       "'    device: cpu \\n    batch_size: 1024 \\n    learning_rate: 0.0003 \\n    '"
      ]
     },
     "execution_count": 20,
     "metadata": {},
     "output_type": "execute_result"
    }
   ],
   "source": [
    "yaml = YAML()\n",
    "file = Path('./tmp/test.yaml')\n",
    "data = yaml.load(file.open())\n",
    "data"
   ]
  },
  {
   "cell_type": "code",
   "execution_count": null,
   "metadata": {},
   "outputs": [],
   "source": []
  }
 ],
 "metadata": {
  "kernelspec": {
   "display_name": "expedantic",
   "language": "python",
   "name": "python3"
  },
  "language_info": {
   "codemirror_mode": {
    "name": "ipython",
    "version": 3
   },
   "file_extension": ".py",
   "mimetype": "text/x-python",
   "name": "python",
   "nbconvert_exporter": "python",
   "pygments_lexer": "ipython3",
   "version": "3.10.13"
  }
 },
 "nbformat": 4,
 "nbformat_minor": 2
}
