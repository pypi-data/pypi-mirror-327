{
 "cells": [
  {
   "cell_type": "code",
   "execution_count": 3,
   "metadata": {},
   "outputs": [],
   "source": [
    "#!/usr/bin/env python3"
   ]
  },
  {
   "cell_type": "code",
   "execution_count": 4,
   "metadata": {},
   "outputs": [],
   "source": [
    "import types\n",
    "import os"
   ]
  },
  {
   "cell_type": "code",
   "execution_count": 5,
   "metadata": {},
   "outputs": [],
   "source": [
    "import ruamel.yaml\n",
    "import ruamel.yaml.composer\n",
    "import ruamel.yaml.constructor\n",
    "from ruamel.yaml.nodes import ScalarNode, MappingNode, SequenceNode\n",
    "from ruamel.yaml.compat import StringIO"
   ]
  },
  {
   "cell_type": "code",
   "execution_count": 6,
   "metadata": {},
   "outputs": [],
   "source": [
    "class CompositingComposer(ruamel.yaml.composer.Composer):\n",
    "    compositors = { k: {} for k in (ScalarNode, MappingNode, SequenceNode)}\n",
    "\n",
    "    @classmethod\n",
    "    def add_compositor(cls, tag, compositor, *, nodeTypes=(ScalarNode,)):\n",
    "        for nodeType in nodeTypes:\n",
    "            cls.compositors[nodeType][tag] = compositor\n",
    "\n",
    "    @classmethod\n",
    "    def get_compositor(cls, tag, nodeType):\n",
    "        return cls.compositors[nodeType].get(tag, None)\n",
    "\n",
    "    def __compose_dispatch(self, anchor, nodeType, callback):\n",
    "        event = self.parser.peek_event()\n",
    "        compositor = self.get_compositor(event.tag, nodeType) or callback\n",
    "        if isinstance(compositor, types.MethodType):\n",
    "            return compositor(anchor)\n",
    "        else:\n",
    "            return compositor(self, anchor)\n",
    "\n",
    "    def compose_scalar_node(self, anchor):\n",
    "        return self.__compose_dispatch(anchor, ScalarNode, super().compose_scalar_node)\n",
    "    \n",
    "    def compose_sequence_node(self, anchor):\n",
    "        return self.__compose_dispatch(anchor, SequenceNode, super().compose_sequence_node)\n",
    "    \n",
    "    def compose_mapping_node(self, anchor):\n",
    "        return self.__compose_dispatch(anchor, MappingNode, super().compose_mapping_node)"
   ]
  },
  {
   "cell_type": "code",
   "execution_count": 7,
   "metadata": {},
   "outputs": [],
   "source": [
    "class ExcludingConstructor(ruamel.yaml.constructor.Constructor):\n",
    "    filters = { k: [] for k in (MappingNode, SequenceNode)}\n",
    "\n",
    "    @classmethod\n",
    "    def add_filter(cls, filter, *, nodeTypes=(MappingNode,)):\n",
    "        for nodeType in nodeTypes:\n",
    "            cls.filters[nodeType].append(filter)\n",
    "\n",
    "    def construct_mapping(self, node):\n",
    "        node.value = [(key_node, value_node) for key_node, value_node in node.value\n",
    "                if not any(f(key_node, value_node) for f in self.filters[MappingNode])]\n",
    "        return super().construct_mapping(node)\n",
    "    \n",
    "    def construct_sequence(self, node, deep=True):\n",
    "        node.value = [value_node for value_node in node.value if not any(f(value_node) for f in self.filters[SequenceNode])]\n",
    "        return super().construct_sequence(node)"
   ]
  },
  {
   "cell_type": "code",
   "execution_count": 8,
   "metadata": {},
   "outputs": [],
   "source": [
    "class YAML(ruamel.yaml.YAML):\n",
    "    def __init__(self, *args, **kwargs):\n",
    "        if 'typ' not in kwargs:\n",
    "            kwargs['typ'] = ['safe']\n",
    "        elif kwargs['typ'] not in ('safe', 'unsafe') and kwargs['typ'] not in (['safe'], ['unsafe']):\n",
    "            raise Exception(\"Can't do typ={} parsing w/ composition time directives!\".format(kwargs['typ']))\n",
    "        \n",
    "        if 'pure' not in kwargs:\n",
    "            kwargs['pure'] = True\n",
    "        elif not kwargs['pure']:\n",
    "            raise Exception(\"Can't do non-pure python parsing w/ composition time directives!\")\n",
    "\n",
    "        super().__init__(*args, **kwargs)\n",
    "        self.Composer = CompositingComposer\n",
    "        self.Constructor = ExcludingConstructor\n",
    "\n",
    "    def compose(self, stream):\n",
    "        # type: (Union[Path, StreamTextType]) -> Any\n",
    "        \"\"\"\n",
    "        at this point you either have the non-pure Parser (which has its own reader and\n",
    "        scanner) or you have the pure Parser.\n",
    "        If the pure Parser is set, then set the Reader and Scanner, if not already set.\n",
    "        If either the Scanner or Reader are set, you cannot use the non-pure Parser,\n",
    "            so reset it to the pure parser and set the Reader resp. Scanner if necessary\n",
    "        \"\"\"\n",
    "        constructor, parser = self.get_constructor_parser(stream)\n",
    "        try:\n",
    "            return self.composer.get_single_node()\n",
    "        finally:\n",
    "            parser.dispose()\n",
    "            try:\n",
    "                self._reader.reset_reader()\n",
    "            except AttributeError:\n",
    "                pass\n",
    "            try:\n",
    "                self._scanner.reset_scanner()\n",
    "            except AttributeError:\n",
    "                pass\n",
    "\n",
    "    def fork(self):\n",
    "        yaml = type(self)(typ=self.typ, pure=self.pure)\n",
    "        yaml.composer.anchors = self.composer.anchors\n",
    "        return yaml\n",
    "    \n",
    "    def dumps(self, data, stream=None, **kw):\n",
    "        inefficient = False\n",
    "        if stream is None:\n",
    "            inefficient = True\n",
    "            stream = StringIO()\n",
    "        YAML.dump(self, data, stream, **kw)\n",
    "        if inefficient: return stream.getvalue()\n",
    "        return stream"
   ]
  },
  {
   "cell_type": "code",
   "execution_count": 9,
   "metadata": {},
   "outputs": [],
   "source": [
    "def include_compositor(self, anchor):\n",
    "    event = self.parser.get_event()\n",
    "    yaml = self.loader.fork()\n",
    "    path = os.path.join(os.path.dirname(self.loader.reader.name), event.value)\n",
    "    with open(os.path.abspath(path), encoding='utf-8') as f:\n",
    "        return yaml.compose(f)\n",
    "\n",
    "def exclude_filter(key_node, value_node = None):\n",
    "    value_node = value_node or key_node # copy ref if None\n",
    "    return key_node.tag == '!exclude' or value_node.tag == '!exclude'\n",
    "\n",
    "CompositingComposer.add_compositor('!include', include_compositor) \n",
    "ExcludingConstructor.add_filter(exclude_filter, nodeTypes=(MappingNode, SequenceNode))"
   ]
  },
  {
   "cell_type": "code",
   "execution_count": null,
   "metadata": {},
   "outputs": [],
   "source": [
    "yaml = YAML()\n",
    "with open('data/root.yaml', encoding='utf-8') as f:\n",
    "    result = yaml.load(f)\n",
    "result"
   ]
  },
  {
   "cell_type": "code",
   "execution_count": null,
   "metadata": {},
   "outputs": [],
   "source": [
    "%run example.py"
   ]
  },
  {
   "cell_type": "code",
   "execution_count": null,
   "metadata": {},
   "outputs": [],
   "source": [
    "if __name__ == '__main__':\n",
    "    import argparse\n",
    "    import pprint\n",
    "\n",
    "    yaml = YAML(typ='safe', pure=True)\n",
    "    parser = argparse.ArgumentParser()\n",
    "    parser.add_argument('file')\n",
    "\n",
    "    args = parser.parse_args()\n",
    "\n",
    "    with open(args.file, encoding='utf-8') as f:\n",
    "        pprint.pprint(yaml.load(f))"
   ]
  }
 ],
 "metadata": {
  "kernelspec": {
   "display_name": "Python 3",
   "language": "python",
   "name": "python3"
  },
  "language_info": {
   "codemirror_mode": {
    "name": "ipython",
    "version": 3
   },
   "file_extension": ".py",
   "mimetype": "text/x-python",
   "name": "python",
   "nbconvert_exporter": "python",
   "pygments_lexer": "ipython3",
   "version": "3.8.5"
  }
 },
 "nbformat": 4,
 "nbformat_minor": 4
}
