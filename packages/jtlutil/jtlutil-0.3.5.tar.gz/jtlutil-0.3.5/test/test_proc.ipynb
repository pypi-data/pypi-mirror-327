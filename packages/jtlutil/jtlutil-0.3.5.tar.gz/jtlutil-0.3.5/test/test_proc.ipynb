{
 "cells": [
  {
   "cell_type": "code",
   "execution_count": 7,
   "metadata": {},
   "outputs": [
    {
     "name": "stdout",
     "output_type": "stream",
     "text": [
      "The autoreload extension is already loaded. To reload it, use:\n",
      "  %reload_ext autoreload\n"
     ]
    }
   ],
   "source": [
    "%load_ext autoreload\n",
    "%autoreload 2\n",
    "\n",
    "import docker\n",
    "import logging\n",
    "\n",
    "from jtlutil.docker import *\n",
    "from jtlutil.config import get_config\n",
    "\n",
    "config = get_config('./config/config.env')\n",
    "\n",
    "def hostname_f(node_name):\n",
    "    return f\"{node_name}.jointheleague.org\"\n",
    "\n",
    "cm  =  DockerManager.new(config.SSH_URI_DOCKER, hostname_f=hostname_f)\n",
    "\n",
    "sm = DockerManager.new(config.SSH_URI_SWARM)\n"
   ]
  },
  {
   "cell_type": "markdown",
   "metadata": {},
   "source": []
  },
  {
   "cell_type": "code",
   "execution_count": null,
   "metadata": {},
   "outputs": [
    {
     "data": {
      "text/plain": [
       "<jtlutil.docker.proc.Container at 0x1157985d0>"
      ]
     },
     "execution_count": 56,
     "metadata": {},
     "output_type": "execute_result"
    }
   ],
   "source": [
    "image = config['IMAGES_PYTHONCS']\n",
    "username = 'foobar'\n",
    "config['HOSTNAME_TEMPLATE']='{username}.do.jointheleague.org'\n",
    "\n",
    "d = define_cs_container(config, image, username)\n",
    "\n",
    "c = cm.run(**d)\n",
    "c"
   ]
  },
  {
   "cell_type": "code",
   "execution_count": 11,
   "metadata": {},
   "outputs": [
    {
     "name": "stdout",
     "output_type": "stream",
     "text": [
      "Started alan-turing\n",
      "Started donald-knuth\n",
      "Started john-von-neumann\n",
      "Started tim-berners-lee\n",
      "Started claude-shannon\n",
      "Started kenneth-thompson\n",
      "Started dennis-ritchie\n",
      "Started linus-torvalds\n",
      "Started edsger-dijkstra\n",
      "Started vint-cerf\n"
     ]
    }
   ],
   "source": [
    "config['HOSTNAME_TEMPLATE']='{username}.doswarm.jointheleague.org'\n",
    "\n",
    "image = config['IMAGES_PYTHONCS']\n",
    "\n",
    "sm.ensure_network('jtlctl')\n",
    "\n",
    "\n",
    "names = [\n",
    "    \"alan_turing\",\n",
    "    \"donald_knuth\",\n",
    "    \"john_von_neumann\",\n",
    "    \"tim_berners_lee\",\n",
    "    \"claude_shannon\",\n",
    "    \"kenneth_thompson\",\n",
    "    \"dennis_ritchie\",\n",
    "    \"linus_torvalds\",\n",
    "    \"edsger_dijkstra\",\n",
    "    \"vint_cerf\"\n",
    "]\n",
    "\n",
    "for name in names:\n",
    "\n",
    "    d = define_cs_container(config, image, name)\n",
    "\n",
    "    try:\n",
    "        c = sm.run(**d)\n",
    "        print(\"Started\", c.name)\n",
    "    except docker.errors.APIError as e:\n",
    "        print(\"Error\", e)\n"
   ]
  },
  {
   "cell_type": "code",
   "execution_count": 9,
   "metadata": {},
   "outputs": [],
   "source": [
    "for e in sm.list(filters={\"label\": f\"jtl.codeserver\"}):\n",
    "    print(e.name)\n",
    "    e.remove()"
   ]
  },
  {
   "cell_type": "code",
   "execution_count": 104,
   "metadata": {},
   "outputs": [
    {
     "name": "stdout",
     "output_type": "stream",
     "text": [
      "6igd1sqbmvnl7nbpczgo7jnyr doswarm1\n",
      "gz5ferechgc8qpd55njq40t75 doswarm2\n",
      "jtlr50hzc1v5kt3cvx83bcgo6 doswarm3\n"
     ]
    }
   ],
   "source": [
    "for n in swarm_client.nodes.list():\n",
    "    print(n.id, n.attrs['Description']['Hostname'])"
   ]
  },
  {
   "cell_type": "code",
   "execution_count": 17,
   "metadata": {},
   "outputs": [
    {
     "name": "stdout",
     "output_type": "stream",
     "text": [
      "<jtlutil.docker.manager.ContainersManager object at 0x114e15fd0>\n",
      "/linus-torvalds.1.v35ml6m76di2hq3vjrkjxh1hr 142704640\n",
      "/caddy_hello.1.lukoe9o1pxk8hzse2z811ecp3 1449984\n",
      "/caddy_caddy.1.iqje5kvokgc1wjdy15tp2py9d 62808064\n",
      "/caddy_whoami.1.f8nmur0gqmimpo2gocx9rvmew 6496256\n",
      "/pgadmin_pgadmin.1.r4xvpzbzifc7axdybdaqfn5d8 299270144\n",
      "<jtlutil.docker.manager.ContainersManager object at 0x114e47390>\n",
      "/edsger-dijkstra.1.mme9v4hbp9ymld6tjttoyym1y 141139968\n",
      "/kenneth-thompson.1.7jx1ncivhpsngkqxml3t6yg6x 186425344\n",
      "/tim-berners-lee.1.j1zl5walh562guo9qzn0p10uj 191180800\n",
      "/john-von-neumann.1.xhlbjnfl7yhfivpk7c43p1oms 194875392\n",
      "/gitea_server.1.upd20iphr74v7tm2ffzuql2k8 395898880\n",
      "<jtlutil.docker.manager.ContainersManager object at 0x114f97c90>\n",
      "/alan-turing.1.xac356zcv7i05qmc3bazhkw2w 513662976\n",
      "/claude-shannon.1.l4w0l86matf5x3lu6qtzcjctn 136822784\n",
      "/vint-cerf.1.n3zi2pwmt1v10n5vrizfmrnyz 138088448\n",
      "/dennis-ritchie.1.ffdqepsjdyl227twx3bft8skw 138280960\n",
      "/donald-knuth.1.80z877c5nzuftroxh0c8c2wy6 228225024\n"
     ]
    }
   ],
   "source": [
    "for n in sm.nodes:\n",
    "    print(n)\n",
    "    for c in n.list():\n",
    "        print(c.name, c.simple_stats['memory_usage'])"
   ]
  },
  {
   "cell_type": "code",
   "execution_count": 20,
   "metadata": {},
   "outputs": [
    {
     "ename": "AttributeError",
     "evalue": "'Service' object has no attribute 'simple_stats'",
     "output_type": "error",
     "traceback": [
      "\u001b[0;31m---------------------------------------------------------------------------\u001b[0m",
      "\u001b[0;31mAttributeError\u001b[0m                            Traceback (most recent call last)",
      "Cell \u001b[0;32mIn[20], line 1\u001b[0m\n\u001b[0;32m----> 1\u001b[0m \u001b[38;5;28;43;01mfor\u001b[39;49;00m\u001b[43m \u001b[49m\u001b[43mss\u001b[49m\u001b[43m \u001b[49m\u001b[38;5;129;43;01min\u001b[39;49;00m\u001b[43m \u001b[49m\u001b[43msm\u001b[49m\u001b[38;5;241;43m.\u001b[39;49m\u001b[43msimple_stats\u001b[49m\u001b[43m(\u001b[49m\u001b[43m)\u001b[49m\u001b[43m:\u001b[49m\n\u001b[1;32m      2\u001b[0m \u001b[43m    \u001b[49m\u001b[38;5;28;43mprint\u001b[39;49m\u001b[43m(\u001b[49m\u001b[43mss\u001b[49m\u001b[43m)\u001b[49m\n",
      "File \u001b[0;32m~/proj/league-projects/code-server-mono/jtlutil/src/jtlutil/docker/manager.py:227\u001b[0m, in \u001b[0;36mServicesManager.simple_stats\u001b[0;34m(self)\u001b[0m\n\u001b[1;32m    224\u001b[0m \u001b[38;5;250m\u001b[39m\u001b[38;5;124;03m\"\"\"Get stats for all services.\"\"\"\u001b[39;00m\n\u001b[1;32m    226\u001b[0m \u001b[38;5;28;01mfor\u001b[39;00m s \u001b[38;5;129;01min\u001b[39;00m \u001b[38;5;28mself\u001b[39m\u001b[38;5;241m.\u001b[39mlist():\n\u001b[0;32m--> 227\u001b[0m     \u001b[38;5;28;01myield from\u001b[39;00m \u001b[43ms\u001b[49m\u001b[38;5;241;43m.\u001b[39;49m\u001b[43msimple_stats\u001b[49m\n",
      "\u001b[0;31mAttributeError\u001b[0m: 'Service' object has no attribute 'simple_stats'"
     ]
    }
   ],
   "source": [
    "for ss in sm.simple_stats():\n",
    "    print(ss)"
   ]
  },
  {
   "cell_type": "code",
   "execution_count": 89,
   "metadata": {},
   "outputs": [
    {
     "ename": "NotFound",
     "evalue": "404 Client Error for http+docker://ssh/v1.47/containers/35c46d8315d92faeccf922feb84107f1d016169216bb87f5f53c9a219fa0c864/json: Not Found (\"No such container: 35c46d8315d92faeccf922feb84107f1d016169216bb87f5f53c9a219fa0c864\")",
     "output_type": "error",
     "traceback": [
      "\u001b[0;31m---------------------------------------------------------------------------\u001b[0m",
      "\u001b[0;31mHTTPError\u001b[0m                                 Traceback (most recent call last)",
      "File \u001b[0;32m~/proj/league-projects/code-server-mono/jtlutil/.venv/lib/python3.11/site-packages/docker/api/client.py:275\u001b[0m, in \u001b[0;36mAPIClient._raise_for_status\u001b[0;34m(self, response)\u001b[0m\n\u001b[1;32m    274\u001b[0m \u001b[38;5;28;01mtry\u001b[39;00m:\n\u001b[0;32m--> 275\u001b[0m     \u001b[43mresponse\u001b[49m\u001b[38;5;241;43m.\u001b[39;49m\u001b[43mraise_for_status\u001b[49m\u001b[43m(\u001b[49m\u001b[43m)\u001b[49m\n\u001b[1;32m    276\u001b[0m \u001b[38;5;28;01mexcept\u001b[39;00m requests\u001b[38;5;241m.\u001b[39mexceptions\u001b[38;5;241m.\u001b[39mHTTPError \u001b[38;5;28;01mas\u001b[39;00m e:\n",
      "File \u001b[0;32m~/proj/league-projects/code-server-mono/jtlutil/.venv/lib/python3.11/site-packages/requests/models.py:1024\u001b[0m, in \u001b[0;36mResponse.raise_for_status\u001b[0;34m(self)\u001b[0m\n\u001b[1;32m   1023\u001b[0m \u001b[38;5;28;01mif\u001b[39;00m http_error_msg:\n\u001b[0;32m-> 1024\u001b[0m     \u001b[38;5;28;01mraise\u001b[39;00m HTTPError(http_error_msg, response\u001b[38;5;241m=\u001b[39m\u001b[38;5;28mself\u001b[39m)\n",
      "\u001b[0;31mHTTPError\u001b[0m: 404 Client Error: Not Found for url: http+docker://ssh/v1.47/containers/35c46d8315d92faeccf922feb84107f1d016169216bb87f5f53c9a219fa0c864/json",
      "\nThe above exception was the direct cause of the following exception:\n",
      "\u001b[0;31mNotFound\u001b[0m                                  Traceback (most recent call last)",
      "Cell \u001b[0;32mIn[89], line 17\u001b[0m\n\u001b[1;32m      7\u001b[0m         rows\u001b[38;5;241m.\u001b[39mappend({\n\u001b[1;32m      8\u001b[0m             \u001b[38;5;124m'\u001b[39m\u001b[38;5;124mid\u001b[39m\u001b[38;5;124m'\u001b[39m: c\u001b[38;5;241m.\u001b[39mid,\n\u001b[1;32m      9\u001b[0m             \u001b[38;5;124m'\u001b[39m\u001b[38;5;124mstate\u001b[39m\u001b[38;5;124m'\u001b[39m: c\u001b[38;5;241m.\u001b[39mstatus,\n\u001b[0;32m   (...)\u001b[0m\n\u001b[1;32m     12\u001b[0m             \u001b[38;5;124m'\u001b[39m\u001b[38;5;124mhostname\u001b[39m\u001b[38;5;124m'\u001b[39m: c\u001b[38;5;241m.\u001b[39mlabels[\u001b[38;5;124m'\u001b[39m\u001b[38;5;124mcaddy\u001b[39m\u001b[38;5;124m'\u001b[39m]\n\u001b[1;32m     13\u001b[0m         })\n\u001b[1;32m     15\u001b[0m     \u001b[38;5;28;01mreturn\u001b[39;00m rows\n\u001b[0;32m---> 17\u001b[0m \u001b[43mstats\u001b[49m\u001b[43m(\u001b[49m\u001b[43msm\u001b[49m\u001b[43m)\u001b[49m\n",
      "Cell \u001b[0;32mIn[89], line 5\u001b[0m, in \u001b[0;36mstats\u001b[0;34m(manager)\u001b[0m\n\u001b[1;32m      3\u001b[0m \u001b[38;5;28;01mdef\u001b[39;00m\u001b[38;5;250m \u001b[39m\u001b[38;5;21mstats\u001b[39m(manager):\n\u001b[1;32m      4\u001b[0m     \u001b[38;5;28;01mfor\u001b[39;00m c \u001b[38;5;129;01min\u001b[39;00m manager\u001b[38;5;241m.\u001b[39mlist(filters\u001b[38;5;241m=\u001b[39m{\u001b[38;5;124m\"\u001b[39m\u001b[38;5;124mlabel\u001b[39m\u001b[38;5;124m\"\u001b[39m: \u001b[38;5;124mf\u001b[39m\u001b[38;5;124m\"\u001b[39m\u001b[38;5;124mjtl.codeserver\u001b[39m\u001b[38;5;124m\"\u001b[39m}):\n\u001b[0;32m----> 5\u001b[0m         stats \u001b[38;5;241m=\u001b[39m \u001b[43mc\u001b[49m\u001b[38;5;241;43m.\u001b[39;49m\u001b[43mstats\u001b[49m\u001b[43m(\u001b[49m\u001b[43m)\u001b[49m\n\u001b[1;32m      6\u001b[0m         mem \u001b[38;5;241m=\u001b[39m stats[\u001b[38;5;124m'\u001b[39m\u001b[38;5;124mmemory_stats\u001b[39m\u001b[38;5;124m'\u001b[39m][\u001b[38;5;124m'\u001b[39m\u001b[38;5;124musage\u001b[39m\u001b[38;5;124m'\u001b[39m]\n\u001b[1;32m      7\u001b[0m         rows\u001b[38;5;241m.\u001b[39mappend({\n\u001b[1;32m      8\u001b[0m             \u001b[38;5;124m'\u001b[39m\u001b[38;5;124mid\u001b[39m\u001b[38;5;124m'\u001b[39m: c\u001b[38;5;241m.\u001b[39mid,\n\u001b[1;32m      9\u001b[0m             \u001b[38;5;124m'\u001b[39m\u001b[38;5;124mstate\u001b[39m\u001b[38;5;124m'\u001b[39m: c\u001b[38;5;241m.\u001b[39mstatus,\n\u001b[0;32m   (...)\u001b[0m\n\u001b[1;32m     12\u001b[0m             \u001b[38;5;124m'\u001b[39m\u001b[38;5;124mhostname\u001b[39m\u001b[38;5;124m'\u001b[39m: c\u001b[38;5;241m.\u001b[39mlabels[\u001b[38;5;124m'\u001b[39m\u001b[38;5;124mcaddy\u001b[39m\u001b[38;5;124m'\u001b[39m]\n\u001b[1;32m     13\u001b[0m         })\n",
      "File \u001b[0;32m~/proj/league-projects/code-server-mono/jtlutil/src/jtlutil/docker/proc.py:97\u001b[0m, in \u001b[0;36mService.stats\u001b[0;34m(self)\u001b[0m\n\u001b[1;32m     95\u001b[0m container_id \u001b[38;5;241m=\u001b[39m task[\u001b[38;5;124m\"\u001b[39m\u001b[38;5;124mStatus\u001b[39m\u001b[38;5;124m\"\u001b[39m]\u001b[38;5;241m.\u001b[39mget(\u001b[38;5;124m\"\u001b[39m\u001b[38;5;124mContainerStatus\u001b[39m\u001b[38;5;124m\"\u001b[39m, {})\u001b[38;5;241m.\u001b[39mget(\u001b[38;5;124m\"\u001b[39m\u001b[38;5;124mContainerID\u001b[39m\u001b[38;5;124m\"\u001b[39m)\n\u001b[1;32m     96\u001b[0m \u001b[38;5;28;01mif\u001b[39;00m container_id:\n\u001b[0;32m---> 97\u001b[0m     container \u001b[38;5;241m=\u001b[39m \u001b[38;5;28;43mself\u001b[39;49m\u001b[38;5;241;43m.\u001b[39;49m\u001b[43mclient\u001b[49m\u001b[38;5;241;43m.\u001b[39;49m\u001b[43mcontainers\u001b[49m\u001b[38;5;241;43m.\u001b[39;49m\u001b[43mget\u001b[49m\u001b[43m(\u001b[49m\u001b[43mcontainer_id\u001b[49m\u001b[43m)\u001b[49m\n\u001b[1;32m     98\u001b[0m     \u001b[38;5;28;01mreturn\u001b[39;00m container\u001b[38;5;241m.\u001b[39mstats(stream\u001b[38;5;241m=\u001b[39m\u001b[38;5;28;01mFalse\u001b[39;00m)\n",
      "File \u001b[0;32m~/proj/league-projects/code-server-mono/jtlutil/.venv/lib/python3.11/site-packages/docker/models/containers.py:954\u001b[0m, in \u001b[0;36mContainerCollection.get\u001b[0;34m(self, container_id)\u001b[0m\n\u001b[1;32m    938\u001b[0m \u001b[38;5;28;01mdef\u001b[39;00m\u001b[38;5;250m \u001b[39m\u001b[38;5;21mget\u001b[39m(\u001b[38;5;28mself\u001b[39m, container_id):\n\u001b[1;32m    939\u001b[0m \u001b[38;5;250m    \u001b[39m\u001b[38;5;124;03m\"\"\"\u001b[39;00m\n\u001b[1;32m    940\u001b[0m \u001b[38;5;124;03m    Get a container by name or ID.\u001b[39;00m\n\u001b[1;32m    941\u001b[0m \n\u001b[0;32m   (...)\u001b[0m\n\u001b[1;32m    952\u001b[0m \u001b[38;5;124;03m            If the server returns an error.\u001b[39;00m\n\u001b[1;32m    953\u001b[0m \u001b[38;5;124;03m    \"\"\"\u001b[39;00m\n\u001b[0;32m--> 954\u001b[0m     resp \u001b[38;5;241m=\u001b[39m \u001b[38;5;28;43mself\u001b[39;49m\u001b[38;5;241;43m.\u001b[39;49m\u001b[43mclient\u001b[49m\u001b[38;5;241;43m.\u001b[39;49m\u001b[43mapi\u001b[49m\u001b[38;5;241;43m.\u001b[39;49m\u001b[43minspect_container\u001b[49m\u001b[43m(\u001b[49m\u001b[43mcontainer_id\u001b[49m\u001b[43m)\u001b[49m\n\u001b[1;32m    955\u001b[0m     \u001b[38;5;28;01mreturn\u001b[39;00m \u001b[38;5;28mself\u001b[39m\u001b[38;5;241m.\u001b[39mprepare_model(resp)\n",
      "File \u001b[0;32m~/proj/league-projects/code-server-mono/jtlutil/.venv/lib/python3.11/site-packages/docker/utils/decorators.py:19\u001b[0m, in \u001b[0;36mcheck_resource.<locals>.decorator.<locals>.wrapped\u001b[0;34m(self, resource_id, *args, **kwargs)\u001b[0m\n\u001b[1;32m     15\u001b[0m \u001b[38;5;28;01mif\u001b[39;00m \u001b[38;5;129;01mnot\u001b[39;00m resource_id:\n\u001b[1;32m     16\u001b[0m     \u001b[38;5;28;01mraise\u001b[39;00m errors\u001b[38;5;241m.\u001b[39mNullResource(\n\u001b[1;32m     17\u001b[0m         \u001b[38;5;124m'\u001b[39m\u001b[38;5;124mResource ID was not provided\u001b[39m\u001b[38;5;124m'\u001b[39m\n\u001b[1;32m     18\u001b[0m     )\n\u001b[0;32m---> 19\u001b[0m \u001b[38;5;28;01mreturn\u001b[39;00m \u001b[43mf\u001b[49m\u001b[43m(\u001b[49m\u001b[38;5;28;43mself\u001b[39;49m\u001b[43m,\u001b[49m\u001b[43m \u001b[49m\u001b[43mresource_id\u001b[49m\u001b[43m,\u001b[49m\u001b[43m \u001b[49m\u001b[38;5;241;43m*\u001b[39;49m\u001b[43margs\u001b[49m\u001b[43m,\u001b[49m\u001b[43m \u001b[49m\u001b[38;5;241;43m*\u001b[39;49m\u001b[38;5;241;43m*\u001b[39;49m\u001b[43mkwargs\u001b[49m\u001b[43m)\u001b[49m\n",
      "File \u001b[0;32m~/proj/league-projects/code-server-mono/jtlutil/.venv/lib/python3.11/site-packages/docker/api/container.py:793\u001b[0m, in \u001b[0;36mContainerApiMixin.inspect_container\u001b[0;34m(self, container)\u001b[0m\n\u001b[1;32m    777\u001b[0m \u001b[38;5;129m@utils\u001b[39m\u001b[38;5;241m.\u001b[39mcheck_resource(\u001b[38;5;124m'\u001b[39m\u001b[38;5;124mcontainer\u001b[39m\u001b[38;5;124m'\u001b[39m)\n\u001b[1;32m    778\u001b[0m \u001b[38;5;28;01mdef\u001b[39;00m\u001b[38;5;250m \u001b[39m\u001b[38;5;21minspect_container\u001b[39m(\u001b[38;5;28mself\u001b[39m, container):\n\u001b[1;32m    779\u001b[0m \u001b[38;5;250m    \u001b[39m\u001b[38;5;124;03m\"\"\"\u001b[39;00m\n\u001b[1;32m    780\u001b[0m \u001b[38;5;124;03m    Identical to the `docker inspect` command, but only for containers.\u001b[39;00m\n\u001b[1;32m    781\u001b[0m \n\u001b[0;32m   (...)\u001b[0m\n\u001b[1;32m    791\u001b[0m \u001b[38;5;124;03m            If the server returns an error.\u001b[39;00m\n\u001b[1;32m    792\u001b[0m \u001b[38;5;124;03m    \"\"\"\u001b[39;00m\n\u001b[0;32m--> 793\u001b[0m     \u001b[38;5;28;01mreturn\u001b[39;00m \u001b[38;5;28;43mself\u001b[39;49m\u001b[38;5;241;43m.\u001b[39;49m\u001b[43m_result\u001b[49m\u001b[43m(\u001b[49m\n\u001b[1;32m    794\u001b[0m \u001b[43m        \u001b[49m\u001b[38;5;28;43mself\u001b[39;49m\u001b[38;5;241;43m.\u001b[39;49m\u001b[43m_get\u001b[49m\u001b[43m(\u001b[49m\u001b[38;5;28;43mself\u001b[39;49m\u001b[38;5;241;43m.\u001b[39;49m\u001b[43m_url\u001b[49m\u001b[43m(\u001b[49m\u001b[38;5;124;43m\"\u001b[39;49m\u001b[38;5;124;43m/containers/\u001b[39;49m\u001b[38;5;132;43;01m{0}\u001b[39;49;00m\u001b[38;5;124;43m/json\u001b[39;49m\u001b[38;5;124;43m\"\u001b[39;49m\u001b[43m,\u001b[49m\u001b[43m \u001b[49m\u001b[43mcontainer\u001b[49m\u001b[43m)\u001b[49m\u001b[43m)\u001b[49m\u001b[43m,\u001b[49m\u001b[43m \u001b[49m\u001b[38;5;28;43;01mTrue\u001b[39;49;00m\n\u001b[1;32m    795\u001b[0m \u001b[43m    \u001b[49m\u001b[43m)\u001b[49m\n",
      "File \u001b[0;32m~/proj/league-projects/code-server-mono/jtlutil/.venv/lib/python3.11/site-packages/docker/api/client.py:281\u001b[0m, in \u001b[0;36mAPIClient._result\u001b[0;34m(self, response, json, binary)\u001b[0m\n\u001b[1;32m    279\u001b[0m \u001b[38;5;28;01mdef\u001b[39;00m\u001b[38;5;250m \u001b[39m\u001b[38;5;21m_result\u001b[39m(\u001b[38;5;28mself\u001b[39m, response, json\u001b[38;5;241m=\u001b[39m\u001b[38;5;28;01mFalse\u001b[39;00m, binary\u001b[38;5;241m=\u001b[39m\u001b[38;5;28;01mFalse\u001b[39;00m):\n\u001b[1;32m    280\u001b[0m     \u001b[38;5;28;01massert\u001b[39;00m \u001b[38;5;129;01mnot\u001b[39;00m (json \u001b[38;5;129;01mand\u001b[39;00m binary)\n\u001b[0;32m--> 281\u001b[0m     \u001b[38;5;28;43mself\u001b[39;49m\u001b[38;5;241;43m.\u001b[39;49m\u001b[43m_raise_for_status\u001b[49m\u001b[43m(\u001b[49m\u001b[43mresponse\u001b[49m\u001b[43m)\u001b[49m\n\u001b[1;32m    283\u001b[0m     \u001b[38;5;28;01mif\u001b[39;00m json:\n\u001b[1;32m    284\u001b[0m         \u001b[38;5;28;01mreturn\u001b[39;00m response\u001b[38;5;241m.\u001b[39mjson()\n",
      "File \u001b[0;32m~/proj/league-projects/code-server-mono/jtlutil/.venv/lib/python3.11/site-packages/docker/api/client.py:277\u001b[0m, in \u001b[0;36mAPIClient._raise_for_status\u001b[0;34m(self, response)\u001b[0m\n\u001b[1;32m    275\u001b[0m     response\u001b[38;5;241m.\u001b[39mraise_for_status()\n\u001b[1;32m    276\u001b[0m \u001b[38;5;28;01mexcept\u001b[39;00m requests\u001b[38;5;241m.\u001b[39mexceptions\u001b[38;5;241m.\u001b[39mHTTPError \u001b[38;5;28;01mas\u001b[39;00m e:\n\u001b[0;32m--> 277\u001b[0m     \u001b[38;5;28;01mraise\u001b[39;00m \u001b[43mcreate_api_error_from_http_exception\u001b[49m\u001b[43m(\u001b[49m\u001b[43me\u001b[49m\u001b[43m)\u001b[49m \u001b[38;5;28;01mfrom\u001b[39;00m\u001b[38;5;250m \u001b[39m\u001b[38;5;21;01me\u001b[39;00m\n",
      "File \u001b[0;32m~/proj/league-projects/code-server-mono/jtlutil/.venv/lib/python3.11/site-packages/docker/errors.py:39\u001b[0m, in \u001b[0;36mcreate_api_error_from_http_exception\u001b[0;34m(e)\u001b[0m\n\u001b[1;32m     37\u001b[0m     \u001b[38;5;28;01melse\u001b[39;00m:\n\u001b[1;32m     38\u001b[0m         \u001b[38;5;28mcls\u001b[39m \u001b[38;5;241m=\u001b[39m NotFound\n\u001b[0;32m---> 39\u001b[0m \u001b[38;5;28;01mraise\u001b[39;00m \u001b[38;5;28mcls\u001b[39m(e, response\u001b[38;5;241m=\u001b[39mresponse, explanation\u001b[38;5;241m=\u001b[39mexplanation) \u001b[38;5;28;01mfrom\u001b[39;00m\u001b[38;5;250m \u001b[39m\u001b[38;5;21;01me\u001b[39;00m\n",
      "\u001b[0;31mNotFound\u001b[0m: 404 Client Error for http+docker://ssh/v1.47/containers/35c46d8315d92faeccf922feb84107f1d016169216bb87f5f53c9a219fa0c864/json: Not Found (\"No such container: 35c46d8315d92faeccf922feb84107f1d016169216bb87f5f53c9a219fa0c864\")"
     ]
    }
   ],
   "source": [
    "rows = []\n",
    "\n",
    "def stats(manager):\n",
    "    for c in manager.list(filters={\"label\": f\"jtl.codeserver\"}):\n",
    "        \n",
    "        \n",
    "    return rows\n",
    "    \n",
    "stats(sm)"
   ]
  },
  {
   "cell_type": "code",
   "execution_count": null,
   "metadata": {},
   "outputs": [],
   "source": []
  }
 ],
 "metadata": {
  "kernelspec": {
   "display_name": ".venv",
   "language": "python",
   "name": "python3"
  },
  "language_info": {
   "codemirror_mode": {
    "name": "ipython",
    "version": 3
   },
   "file_extension": ".py",
   "mimetype": "text/x-python",
   "name": "python",
   "nbconvert_exporter": "python",
   "pygments_lexer": "ipython3",
   "version": "3.11.11"
  }
 },
 "nbformat": 4,
 "nbformat_minor": 2
}
