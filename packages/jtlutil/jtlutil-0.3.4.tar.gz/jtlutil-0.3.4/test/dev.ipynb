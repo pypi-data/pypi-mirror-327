{
 "cells": [
  {
   "cell_type": "code",
   "execution_count": 1,
   "metadata": {},
   "outputs": [
    {
     "name": "stderr",
     "output_type": "stream",
     "text": [
      "DEBUG:jtlutil.docker.dctl:Network 'x11' already exists.\n"
     ]
    },
    {
     "name": "stdout",
     "output_type": "stream",
     "text": [
      "ssh://root@64.23.135.161\n"
     ]
    },
    {
     "name": "stderr",
     "output_type": "stream",
     "text": [
      "DEBUG:jtlutil.docker.dctl:Network 'jtlctl' already exists.\n",
      "DEBUG:jtlutil.docker.dctl:Network 'caddy' already exists.\n"
     ]
    },
    {
     "data": {
      "text/plain": [
       "'http://cs-spawner:8000/telem'"
      ]
     },
     "execution_count": 1,
     "metadata": {},
     "output_type": "execute_result"
    }
   ],
   "source": [
    "%load_ext autoreload\n",
    "%autoreload 2\n",
    "\n",
    "import docker\n",
    "import logging\n",
    "from jtlutil.docker.dctl import *\n",
    "import hashlib\n",
    "\n",
    "from jtlutil.config import get_config\n",
    "\n",
    "config = get_config('./config/config.env')\n",
    "\n",
    "logging.basicConfig(level=logging.ERROR)\n",
    "logger.setLevel(logging.DEBUG)\n",
    "\n",
    "client = docker.DockerClient(base_url=config.SSH_URI )\n",
    "\n",
    "print(config.SSH_URI)\n",
    "ensure_network_exists(client, 'x11', is_external=False, network_type=\"bridge\")\n",
    "ensure_network_exists(client, 'jtlctl', is_external=False, network_type=\"bridge\")\n",
    "ensure_network_exists(client, 'caddy', is_external=True, network_type=\"bridge\")\n",
    "\n",
    "config.KST_REPORTING_URL"
   ]
  },
  {
   "cell_type": "code",
   "execution_count": 8,
   "metadata": {},
   "outputs": [
    {
     "name": "stderr",
     "output_type": "stream",
     "text": [
      "INFO:jtlutil.docker.dctl:Creating container from image 'ghcr.io/league-infrastructure/novnc-service:v0.1.3'...\n"
     ]
    },
    {
     "name": "stdout",
     "output_type": "stream",
     "text": [
      "----\n"
     ]
    },
    {
     "name": "stderr",
     "output_type": "stream",
     "text": [
      "INFO:jtlutil.docker.dctl:Connecting container to network 'x11' : 81b081a8f85991990d1603f8af7c48603159f741149d68f5d44df36b8f21fc36\n",
      "INFO:jtlutil.docker.dctl:Connecting container to network 'jtlctl' : fc7f9235fcdc4f062e1429e10918fa9491398caade111e528450db7c06a7c660\n",
      "INFO:jtlutil.docker.dctl:Connecting container to network 'caddy' : 341c37b26522cf9aaf53c4e37df9a6b94fe50cb0cc79e05d7d35d6a3f2327fb5\n",
      "INFO:jtlutil.docker.dctl:Container 'jed-novnc' (b47d643d6ed75d649cfa4dab066cd7a1e24795d97609c9a575b942d884f24aba) created successfully.\n",
      "INFO:jtlutil.docker.dctl:Creating container from image 'ghcr.io/league-infrastructure/league-infrastructure/docker-codeserver-python:v0.1.5'...\n",
      "INFO:jtlutil.docker.dctl:Connecting container to network 'x11' : 81b081a8f85991990d1603f8af7c48603159f741149d68f5d44df36b8f21fc36\n",
      "INFO:jtlutil.docker.dctl:Connecting container to network 'jtlctl' : fc7f9235fcdc4f062e1429e10918fa9491398caade111e528450db7c06a7c660\n",
      "INFO:jtlutil.docker.dctl:Connecting container to network 'caddy' : 341c37b26522cf9aaf53c4e37df9a6b94fe50cb0cc79e05d7d35d6a3f2327fb5\n",
      "INFO:jtlutil.docker.dctl:Container 'jed' (8557dbe87880bad8e3b8df2e0ceaffcbf9967c6421c20c99eadeb8e13848de6f) created successfully.\n",
      "INFO:jtlutil.docker.dctl:Creating container from image 'ghcr.io/league-infrastructure/novnc-service:v0.1.3'...\n"
     ]
    },
    {
     "name": "stdout",
     "output_type": "stream",
     "text": [
      "b47d643d6ed75d649cfa4dab066cd7a1e24795d97609c9a575b942d884f24aba jed.do.jointheleague.org\n"
     ]
    },
    {
     "name": "stderr",
     "output_type": "stream",
     "text": [
      "INFO:jtlutil.docker.dctl:Connecting container to network 'x11' : 81b081a8f85991990d1603f8af7c48603159f741149d68f5d44df36b8f21fc36\n",
      "INFO:jtlutil.docker.dctl:Connecting container to network 'jtlctl' : fc7f9235fcdc4f062e1429e10918fa9491398caade111e528450db7c06a7c660\n",
      "INFO:jtlutil.docker.dctl:Connecting container to network 'caddy' : 341c37b26522cf9aaf53c4e37df9a6b94fe50cb0cc79e05d7d35d6a3f2327fb5\n",
      "INFO:jtlutil.docker.dctl:Container 'osvaldo-novnc' (4413bc4bd0f4c610a987b068fadb49564207a2e6ae9ff69efda744f7b4f7e054) created successfully.\n",
      "INFO:jtlutil.docker.dctl:Creating container from image 'ghcr.io/league-infrastructure/league-infrastructure/docker-codeserver-python:v0.1.5'...\n",
      "INFO:jtlutil.docker.dctl:Connecting container to network 'x11' : 81b081a8f85991990d1603f8af7c48603159f741149d68f5d44df36b8f21fc36\n",
      "INFO:jtlutil.docker.dctl:Connecting container to network 'jtlctl' : fc7f9235fcdc4f062e1429e10918fa9491398caade111e528450db7c06a7c660\n",
      "INFO:jtlutil.docker.dctl:Connecting container to network 'caddy' : 341c37b26522cf9aaf53c4e37df9a6b94fe50cb0cc79e05d7d35d6a3f2327fb5\n",
      "INFO:jtlutil.docker.dctl:Container 'osvaldo' (fb1b4a1ab879d094048619aeed24bf9c75eb2b162869b5bc261c5d61c359c9b8) created successfully.\n",
      "INFO:jtlutil.docker.dctl:Creating container from image 'ghcr.io/league-infrastructure/novnc-service:v0.1.3'...\n"
     ]
    },
    {
     "name": "stdout",
     "output_type": "stream",
     "text": [
      "4413bc4bd0f4c610a987b068fadb49564207a2e6ae9ff69efda744f7b4f7e054 osvaldo.do.jointheleague.org\n"
     ]
    },
    {
     "name": "stderr",
     "output_type": "stream",
     "text": [
      "INFO:jtlutil.docker.dctl:Connecting container to network 'x11' : 81b081a8f85991990d1603f8af7c48603159f741149d68f5d44df36b8f21fc36\n",
      "INFO:jtlutil.docker.dctl:Connecting container to network 'jtlctl' : fc7f9235fcdc4f062e1429e10918fa9491398caade111e528450db7c06a7c660\n",
      "INFO:jtlutil.docker.dctl:Connecting container to network 'caddy' : 341c37b26522cf9aaf53c4e37df9a6b94fe50cb0cc79e05d7d35d6a3f2327fb5\n",
      "INFO:jtlutil.docker.dctl:Container 'eric-novnc' (05528f62ac6f6fc540c46e5a138d4a84dadc183453c245dad11dcbba446ee28f) created successfully.\n",
      "INFO:jtlutil.docker.dctl:Creating container from image 'ghcr.io/league-infrastructure/league-infrastructure/docker-codeserver-python:v0.1.5'...\n",
      "INFO:jtlutil.docker.dctl:Connecting container to network 'x11' : 81b081a8f85991990d1603f8af7c48603159f741149d68f5d44df36b8f21fc36\n",
      "INFO:jtlutil.docker.dctl:Connecting container to network 'jtlctl' : fc7f9235fcdc4f062e1429e10918fa9491398caade111e528450db7c06a7c660\n",
      "INFO:jtlutil.docker.dctl:Connecting container to network 'caddy' : 341c37b26522cf9aaf53c4e37df9a6b94fe50cb0cc79e05d7d35d6a3f2327fb5\n",
      "INFO:jtlutil.docker.dctl:Container 'eric' (9bf9309cfb4f07781f54ff54ac2f413fd7134238e5d8df0b282ba62c470b3f1f) created successfully.\n"
     ]
    },
    {
     "name": "stdout",
     "output_type": "stream",
     "text": [
      "05528f62ac6f6fc540c46e5a138d4a84dadc183453c245dad11dcbba446ee28f eric.do.jointheleague.org\n"
     ]
    }
   ],
   "source": [
    "def make_servers(usernames):\n",
    "    servers = []\n",
    "    for username in usernames:\n",
    "        nvc, pa = create_cs_pair(client, config, config.IMAGES_PYTHONCS, username)\n",
    "        yield (nvc, pa)\n",
    "    return servers\n",
    "\n",
    "print('----')\n",
    "for nvc, pa in make_servers(['jed','osvaldo', 'eric']):\n",
    "    print(nvc.id, pa.labels['caddy'])\n"
   ]
  },
  {
   "cell_type": "code",
   "execution_count": 4,
   "metadata": {},
   "outputs": [
    {
     "name": "stdout",
     "output_type": "stream",
     "text": [
      "283ef20bf2dfaa260c05cb77fcb3a9ebdadb8159b1e688c4e338983fb996f48a running bob.do.jointheleague.org\n",
      "ae66ca4c70631adb44dc4c82f01f12e33ba02565a7a2bc75cca519a0f8710eb4 running bob-novnc.do.jointheleague.org\n"
     ]
    },
    {
     "name": "stderr",
     "output_type": "stream",
     "text": [
      "INFO:jtlutil.docker.dctl:Creating container from image 'ghcr.io/league-infrastructure/novnc-service:v0.1.3'...\n",
      "DEBUG:jtlutil.docker.dctl:Port bindings: None\n",
      "DEBUG:jtlutil.docker.dctl:Volumes: None\n",
      "INFO:jtlutil.docker.dctl:Connecting container to network 'x11' : 70fb967b471875d0782b3bfc9d4cf106fb4a653665127f127f76ba744c328a72\n",
      "INFO:jtlutil.docker.dctl:Connecting container to network 'jtlctl' : faf019272add9022b098afa197c53577b7d3f28d4e8b8afb32ae42850a7d6156\n",
      "INFO:jtlutil.docker.dctl:Connecting container to network 'caddy' : 0b503a35a820d17b7a65b953195b8e2bd3c3a63bd55bc3b91cd2e4262e5d26e1\n",
      "INFO:jtlutil.docker.dctl:Container 'bob-novnc' (2743709f34ec8e331f0847186f7852459d4a0f87caee37f554fa7979d7a45ea1) created successfully.\n",
      "INFO:jtlutil.docker.dctl:Creating container from image 'ghcr.io/league-infrastructure/league-infrastructure/docker-codeserver-python:v0.1.5'...\n",
      "DEBUG:jtlutil.docker.dctl:Port bindings: {'8080/tcp': None}\n",
      "DEBUG:jtlutil.docker.dctl:Volumes: None\n",
      "INFO:jtlutil.docker.dctl:Connecting container to network 'x11' : 70fb967b471875d0782b3bfc9d4cf106fb4a653665127f127f76ba744c328a72\n",
      "INFO:jtlutil.docker.dctl:Connecting container to network 'jtlctl' : faf019272add9022b098afa197c53577b7d3f28d4e8b8afb32ae42850a7d6156\n",
      "INFO:jtlutil.docker.dctl:Connecting container to network 'caddy' : 0b503a35a820d17b7a65b953195b8e2bd3c3a63bd55bc3b91cd2e4262e5d26e1\n",
      "INFO:jtlutil.docker.dctl:Container 'bob' (3a7191d0aff96a75832176c745b39e17b54a454dbc3de88e44ca727e293c2aa5) created successfully.\n"
     ]
    },
    {
     "name": "stdout",
     "output_type": "stream",
     "text": [
      "running\n",
      "running\n",
      "running\n",
      "running\n",
      "running\n",
      "running\n",
      "running\n",
      "running\n",
      "running\n",
      "running\n"
     ]
    }
   ],
   "source": [
    "from time import sleep \n",
    "\n",
    "containers = client.containers.list(filters={\"label\": f\"jtl\"}, all=True)\n",
    "\n",
    "for c in containers:\n",
    "    print(c.id, c.status, c.labels['caddy'])\n",
    "    if c.status == 'running':\n",
    "        try:\n",
    "            c.stop()\n",
    "            c.remove()\n",
    "        except Exception as e:\n",
    "            print(e)\n",
    "\n",
    "username = 'bob'\n",
    "\n",
    "nvc, pa = create_cs_pair(client, config, config.IMAGES_PYTHONCS, username)\n",
    "\n",
    "for i in range(10):\n",
    "    print(container_status(client, pa.name))\n",
    "    sleep(1)"
   ]
  },
  {
   "cell_type": "code",
   "execution_count": 76,
   "metadata": {},
   "outputs": [
    {
     "name": "stderr",
     "output_type": "stream",
     "text": [
      "INFO:jtlutil.docker.dctl:Creating container from image 'ghcr.io/league-infrastructure/novnc-service:v0.1.3'...\n",
      "DEBUG:jtlutil.docker.dctl:Port bindings: None\n",
      "DEBUG:jtlutil.docker.dctl:Volumes: None\n",
      "INFO:jtlutil.docker.dctl:Connecting container to network 'x11' : 70fb967b471875d0782b3bfc9d4cf106fb4a653665127f127f76ba744c328a72\n",
      "INFO:jtlutil.docker.dctl:Connecting container to network 'jtlctl' : faf019272add9022b098afa197c53577b7d3f28d4e8b8afb32ae42850a7d6156\n",
      "INFO:jtlutil.docker.dctl:Connecting container to network 'caddy' : 0b503a35a820d17b7a65b953195b8e2bd3c3a63bd55bc3b91cd2e4262e5d26e1\n",
      "INFO:jtlutil.docker.dctl:Container 'jed-novnc' (6567efb3414b3a4a3888012ecfa2c2799d701c67b560c05d66684382cb320ec0) created successfully.\n",
      "INFO:jtlutil.docker.dctl:Creating container from image 'ghcr.io/league-infrastructure/league-infrastructure/docker-codeserver-python:v0.1.5'...\n",
      "DEBUG:jtlutil.docker.dctl:Port bindings: {'8080/tcp': None}\n",
      "DEBUG:jtlutil.docker.dctl:Volumes: None\n",
      "INFO:jtlutil.docker.dctl:Connecting container to network 'x11' : 70fb967b471875d0782b3bfc9d4cf106fb4a653665127f127f76ba744c328a72\n",
      "INFO:jtlutil.docker.dctl:Connecting container to network 'jtlctl' : faf019272add9022b098afa197c53577b7d3f28d4e8b8afb32ae42850a7d6156\n",
      "INFO:jtlutil.docker.dctl:Connecting container to network 'caddy' : 0b503a35a820d17b7a65b953195b8e2bd3c3a63bd55bc3b91cd2e4262e5d26e1\n",
      "INFO:jtlutil.docker.dctl:Container 'jed' (c27157fa53e84e3650343ac6a80f78bc855826bd52535cdf2fa4e818c6df8e8a) created successfully.\n"
     ]
    },
    {
     "name": "stdout",
     "output_type": "stream",
     "text": [
      "c27157fa53e84e3650343ac6a80f78bc855826bd52535cdf2fa4e818c6df8e8a running jed.do.jointheleague.org\n",
      "6567efb3414b3a4a3888012ecfa2c2799d701c67b560c05d66684382cb320ec0 running jed-novnc.do.jointheleague.org\n",
      "b2a93daceb0a3f8be27f95825e006c978f6d61f4bae4404c3e1e7ef91ef9290c running test-student-students-jointheleague-org.do.jointheleague.org\n",
      "75d528dc8e83f217b61b8d2bdb30927870d63b9efef479ca37343da989f2da34 running test-student-students-jointheleague-org-novnc.do.jointheleague.org\n",
      "2ff9f5dd022f477efcf3e9691c74d4bd03f001cf22145ad7a6ecc1b8009c9b4a running eric-busboom-org.do.jointheleague.org\n",
      "34aabb1d805674f6de93fef040271ab372448664899dfe4eeb8b8bae6b429186 running eric-busboom-org-novnc.do.jointheleague.org\n"
     ]
    }
   ],
   "source": [
    "containers = client.containers.list(filters={\"label\": f\"jtl\"}, all=True)\n",
    "\n",
    "for c in containers:\n",
    "    print(c.id, c.status, c.labels['caddy'])\n",
    "    if c.status == 'running':\n",
    "        try:\n",
    "            c.stop()\n",
    "            c.remove()\n",
    "        except Exception as e:\n",
    "            print(e)\n",
    "\n",
    "        \n",
    "list(make_servers(['jed']))\n",
    "\n",
    "container_status(client, 'eric-busboom-org')"
   ]
  },
  {
   "cell_type": "code",
   "execution_count": 77,
   "metadata": {},
   "outputs": [
    {
     "name": "stdout",
     "output_type": "stream",
     "text": [
      "c27157fa53e84e3650343ac6a80f78bc855826bd52535cdf2fa4e818c6df8e8a running jed.do.jointheleague.org\n",
      "6567efb3414b3a4a3888012ecfa2c2799d701c67b560c05d66684382cb320ec0 running jed-novnc.do.jointheleague.org\n",
      "b2a93daceb0a3f8be27f95825e006c978f6d61f4bae4404c3e1e7ef91ef9290c running test-student-students-jointheleague-org.do.jointheleague.org\n",
      "75d528dc8e83f217b61b8d2bdb30927870d63b9efef479ca37343da989f2da34 running test-student-students-jointheleague-org-novnc.do.jointheleague.org\n",
      "2ff9f5dd022f477efcf3e9691c74d4bd03f001cf22145ad7a6ecc1b8009c9b4a running eric-busboom-org.do.jointheleague.org\n",
      "34aabb1d805674f6de93fef040271ab372448664899dfe4eeb8b8bae6b429186 running eric-busboom-org-novnc.do.jointheleague.org\n"
     ]
    }
   ],
   "source": [
    "\n",
    "containers = client.containers.list(filters={\"label\": f\"jtl\"}, all=True)\n",
    "\n",
    "for c in containers:\n",
    "    print(c.id, c.status, c.labels['caddy'])\n",
    "    if c.status == 'running':\n",
    "        try:\n",
    "            c.stop()\n",
    "            c.remove()\n",
    "        except Exception as e:\n",
    "            print(e)\n",
    "    else:\n",
    "        ... #c.start()\n",
    "            "
   ]
  },
  {
   "cell_type": "code",
   "execution_count": null,
   "metadata": {},
   "outputs": [],
   "source": []
  },
  {
   "cell_type": "code",
   "execution_count": 5,
   "metadata": {},
   "outputs": [
    {
     "data": {
      "text/plain": [
       "'non-exist'"
      ]
     },
     "execution_count": 5,
     "metadata": {},
     "output_type": "execute_result"
    }
   ],
   "source": [
    "container_status(client, 'eric-busboom-org')"
   ]
  },
  {
   "cell_type": "code",
   "execution_count": 44,
   "metadata": {},
   "outputs": [],
   "source": [
    "id = '86fdd94433889853efc825ea18276adbd876e0fa420a84a865d2a76c5556999c'\n",
    "c = client.containers.get(id)\n",
    "\n",
    "for e in c.diff():\n",
    "    print(e)\n",
    "    "
   ]
  }
 ],
 "metadata": {
  "kernelspec": {
   "display_name": ".venv",
   "language": "python",
   "name": "python3"
  },
  "language_info": {
   "codemirror_mode": {
    "name": "ipython",
    "version": 3
   },
   "file_extension": ".py",
   "mimetype": "text/x-python",
   "name": "python",
   "nbconvert_exporter": "python",
   "pygments_lexer": "ipython3",
   "version": "3.11.11"
  }
 },
 "nbformat": 4,
 "nbformat_minor": 2
}
