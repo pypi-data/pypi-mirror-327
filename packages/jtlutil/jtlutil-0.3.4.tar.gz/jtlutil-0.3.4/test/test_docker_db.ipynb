{
 "cells": [
  {
   "cell_type": "code",
   "execution_count": 253,
   "metadata": {},
   "outputs": [
    {
     "name": "stdout",
     "output_type": "stream",
     "text": [
      "The autoreload extension is already loaded. To reload it, use:\n",
      "  %reload_ext autoreload\n"
     ]
    }
   ],
   "source": [
    "%load_ext autoreload\n",
    "%autoreload 2\n",
    "\n",
    "import docker\n",
    "import logging\n",
    "\n",
    "from pymongo import MongoClient\n",
    "from jtlutil.docker.manager import * \n",
    "from jtlutil.docker.db import * \n",
    "from jtlutil.config import get_config\n",
    "\n",
    "config = get_config('./config/config.env')\n",
    "\n",
    "mongo_client = MongoClient(config.MONGO_PUBLIC)\n",
    "\n",
    "dcsr = DockerContainerStatsRepository(mongo_client['test'])\n",
    "\n",
    "from pydantic import Field\n",
    "from faker import Faker\n",
    "\n",
    "fake = Faker()\n",
    "\n",
    "def create_fake_docker_container_stats() -> DockerContainerStats:\n",
    "    return DockerContainerStats(\n",
    "        container_id=fake.uuid4(),\n",
    "        state=fake.word(),\n",
    "        name=fake.word(),\n",
    "        memory_usage=fake.random_number(digits=6),\n",
    "        hostname=fake.hostname(),\n",
    "        node=fake.word(),\n",
    "        created=fake.date_time().isoformat()\n",
    "    )\n",
    "    \n",
    "dcsr.delete_all()\n"
   ]
  },
  {
   "cell_type": "code",
   "execution_count": 252,
   "metadata": {},
   "outputs": [
    {
     "data": {
      "text/plain": [
       "pymongo.synchronous.database.Database"
      ]
     },
     "execution_count": 252,
     "metadata": {},
     "output_type": "execute_result"
    }
   ],
   "source": [
    "type(mongo_client['test'])"
   ]
  },
  {
   "cell_type": "code",
   "execution_count": 232,
   "metadata": {},
   "outputs": [],
   "source": [
    "# Check that Sconstruction failes for docker uris ( rather than swarm ) \n",
    "try:\n",
    "    dcsr = DockerManager.new(config.SSH_URI_DOCKER, mongo_client=mongo_client)\n",
    "except AssertionError as e:\n",
    "    pass\n",
    "else:\n",
    "    raise AssertionError(\"Expected an AssertionError when trying to create a new DockerManager with an invalid SSH URI\")\n",
    "    "
   ]
  },
  {
   "cell_type": "code",
   "execution_count": 236,
   "metadata": {},
   "outputs": [
    {
     "name": "stdout",
     "output_type": "stream",
     "text": [
      "Inserted 10 fake Docker container stats into the repository.\n",
      "N= 10\n"
     ]
    }
   ],
   "source": [
    "\n",
    "# Generate and insert 10 fake Docker container stats into the repository\n",
    "for _ in range(10):\n",
    "    fake_stat = create_fake_docker_container_stats()\n",
    "    dcsr.update(fake_stat)\n",
    "\n",
    "print(\"Inserted 10 fake Docker container stats into the repository.\")\n",
    "\n",
    "N = len(dcsr.all)\n",
    "print(\"N=\", N)\n",
    "\n",
    "for record in  dcsr.all:\n",
    "    new_fake_stat = create_fake_docker_container_stats()\n",
    "    new_fake_stat.container_id = record.container_id\n",
    "    dcsr.update(new_fake_stat)\n",
    "\n",
    "assert len(dcsr.all) == N, f\"The number of records in the repository is not {N}\"\n",
    "\n",
    "for record in  dcsr.all:\n",
    "    new_fake_stat = create_fake_docker_container_stats()\n",
    "    new_fake_stat.container_id = record.container_id\n",
    "    dcsr.update(new_fake_stat)\n",
    "\n",
    "assert len(dcsr.all) == N, f\"The number of records in the repository is not {N}\"\n",
    "\n"
   ]
  },
  {
   "cell_type": "code",
   "execution_count": 247,
   "metadata": {},
   "outputs": [],
   "source": [
    "dcsr.delete_all()\n",
    "\n",
    "csm = DockerManager.new(config.SSH_URI_SWARM, mongo_client=mongo_client)\n"
   ]
  },
  {
   "cell_type": "code",
   "execution_count": 243,
   "metadata": {},
   "outputs": [],
   "source": [
    "csm.collect_containers()\n",
    "\n",
    "assert len(dcsr.all) == N, f\"The number of records in the repository is not {N}\"\n",
    "\n",
    "dcsr.delete_all()\n",
    "\n",
    "assert len(dcsr.all) == 0 "
   ]
  },
  {
   "cell_type": "code",
   "execution_count": 246,
   "metadata": {},
   "outputs": [
    {
     "name": "stdout",
     "output_type": "stream",
     "text": [
      "{'service_id': '0o3w3srdwcs511qmjkty9s9p3', 'service_name': 'linus-torvalds', 'container_id': '1434b9ccdc88996068fb36fc4a9359665e3cff6c5eb29f93f63980dada4c40c8', 'node_id': '6igd1sqbmvnl7nbpczgo7jnyr', 'state': 'running', 'hostname': 'linus-torvalds.doswarm.jointheleague.org', 'timestamp': '2025-01-31T21:44:25.654835127Z', 'labels': {'jt.codeserver.password': 'code4life', 'jtl': 'true', 'jtl.codeserver': 'true', 'jtl.codeserver.start_time': '2025-01-31T13:44:21.969260-08:00', 'jtl.codeserver.username': 'linus_torvalds'}}\n",
      "{'service_id': '87nmm7pbl7zcft487hrgjrdiv', 'service_name': 'caddy_caddy', 'container_id': 'cccf0dcde6381ea902de82dafbf5436332881480bdf9e3d92699448436a11e7c', 'node_id': '6igd1sqbmvnl7nbpczgo7jnyr', 'state': 'failed', 'hostname': None, 'timestamp': '2025-01-30T21:42:53.707326404Z', 'labels': {'com.docker.stack.namespace': 'caddy'}}\n",
      "{'service_id': '87nmm7pbl7zcft487hrgjrdiv', 'service_name': 'caddy_caddy', 'container_id': '034cb13513fde554fc546c69838ef78728cd3b7c55bf7987725d089f23b54e96', 'node_id': '6igd1sqbmvnl7nbpczgo7jnyr', 'state': 'running', 'hostname': None, 'timestamp': '2025-01-30T21:43:28.27110661Z', 'labels': {'com.docker.stack.namespace': 'caddy'}}\n",
      "{'service_id': '8ku6fjw43t74gcidkfw7que01', 'service_name': 'vint-cerf', 'container_id': '212ee47f75ec5e1adc47e6abec9b97a78ead6e11044bacbe864280052dcca596', 'node_id': 'gz5ferechgc8qpd55njq40t75', 'state': 'running', 'hostname': 'vint-cerf.doswarm.jointheleague.org', 'timestamp': '2025-01-31T21:44:26.075855833Z', 'labels': {'jt.codeserver.password': 'code4life', 'jtl': 'true', 'jtl.codeserver': 'true', 'jtl.codeserver.start_time': '2025-01-31T13:44:22.313639-08:00', 'jtl.codeserver.username': 'vint_cerf'}}\n",
      "{'service_id': '9rbjofcogba3uq9jt41cg89w8', 'service_name': 'edsger-dijkstra', 'container_id': 'c7b099c10f084aefa00ea312fdaf387265e7f975200a22d9777b779c61520c7e', 'node_id': 'jtlr50hzc1v5kt3cvx83bcgo6', 'state': 'running', 'hostname': 'edsger-dijkstra.doswarm.jointheleague.org', 'timestamp': '2025-01-31T21:44:25.7810262Z', 'labels': {'jt.codeserver.password': 'code4life', 'jtl': 'true', 'jtl.codeserver': 'true', 'jtl.codeserver.start_time': '2025-01-31T13:44:22.137998-08:00', 'jtl.codeserver.username': 'edsger_dijkstra'}}\n",
      "{'service_id': 'bdpz8kvviwdc33bd0i840cgiv', 'service_name': 'claude-shannon', 'container_id': 'f4c1e7acc186b9075f3eac5a45b030081fade280b8a94beb9e41eb1ac6bcc9f8', 'node_id': 'jtlr50hzc1v5kt3cvx83bcgo6', 'state': 'running', 'hostname': 'claude-shannon.doswarm.jointheleague.org', 'timestamp': '2025-01-31T21:44:25.429460953Z', 'labels': {'jt.codeserver.password': 'code4life', 'jtl': 'true', 'jtl.codeserver': 'true', 'jtl.codeserver.start_time': '2025-01-31T13:44:21.438963-08:00', 'jtl.codeserver.username': 'claude_shannon'}}\n",
      "{'service_id': 'bpxxqotfh46b0cka90b0uznsa', 'service_name': 'donald-knuth', 'container_id': 'e2466f79df15f86bfe18337debf7c5454f62d3d538cf931065a85fd7e3214598', 'node_id': 'gz5ferechgc8qpd55njq40t75', 'state': 'running', 'hostname': 'donald-knuth.doswarm.jointheleague.org', 'timestamp': '2025-01-31T21:44:25.377215775Z', 'labels': {'jt.codeserver.password': 'code4life', 'jtl': 'true', 'jtl.codeserver': 'true', 'jtl.codeserver.start_time': '2025-01-31T13:44:20.926232-08:00', 'jtl.codeserver.username': 'donald_knuth'}}\n",
      "{'service_id': 'hb29sgxy30vnxg7cqz5lpre2n', 'service_name': 'kenneth-thompson', 'container_id': 'b83a0b3bd8cc4a3d4fb8ad2117305d2935b6057158c8a6e0fe31f28320996142', 'node_id': 'jtlr50hzc1v5kt3cvx83bcgo6', 'state': 'running', 'hostname': 'kenneth-thompson.doswarm.jointheleague.org', 'timestamp': '2025-01-31T21:44:25.563567648Z', 'labels': {'jt.codeserver.password': 'code4life', 'jtl': 'true', 'jtl.codeserver': 'true', 'jtl.codeserver.start_time': '2025-01-31T13:44:21.623677-08:00', 'jtl.codeserver.username': 'kenneth_thompson'}}\n",
      "{'service_id': 'n27qdmwyfc4hep6knza14ylmr', 'service_name': 'john-von-neumann', 'container_id': '3c121f726242b31dfff59cb6afd750d3d6400acd1fc37b7e1678639d6989e502', 'node_id': 'jtlr50hzc1v5kt3cvx83bcgo6', 'state': 'running', 'hostname': 'john-von-neumann.doswarm.jointheleague.org', 'timestamp': '2025-01-31T21:44:25.538387293Z', 'labels': {'jt.codeserver.password': 'code4life', 'jtl': 'true', 'jtl.codeserver': 'true', 'jtl.codeserver.start_time': '2025-01-31T13:44:21.089135-08:00', 'jtl.codeserver.username': 'john_von_neumann'}}\n",
      "{'service_id': 'q0kecgsswiq47xhc47k92se3k', 'service_name': 'pgadmin_pgadmin', 'container_id': 'ea94f23f2ef04ace0865b7e59d93a2cbe109215c99f556fe0e9502f4330f7762', 'node_id': '6igd1sqbmvnl7nbpczgo7jnyr', 'state': 'shutdown', 'hostname': None, 'timestamp': '2025-01-30T21:42:53.707668826Z', 'labels': {'com.docker.stack.namespace': 'pgadmin'}}\n",
      "{'service_id': 'q0kecgsswiq47xhc47k92se3k', 'service_name': 'pgadmin_pgadmin', 'container_id': 'f40f7f84f5029ce91c46ca535f111e7a09996b11d0e2a76f53a1c623fce49639', 'node_id': '6igd1sqbmvnl7nbpczgo7jnyr', 'state': 'running', 'hostname': None, 'timestamp': '2025-01-30T21:43:27.591900431Z', 'labels': {'com.docker.stack.namespace': 'pgadmin'}}\n",
      "{'service_id': 'q0kecgsswiq47xhc47k92se3k', 'service_name': 'pgadmin_pgadmin', 'container_id': 'e00c64f2f956787c98f320492de7b79108867356ff43b7aaba315b36c8b48981', 'node_id': '6igd1sqbmvnl7nbpczgo7jnyr', 'state': 'failed', 'hostname': None, 'timestamp': '2025-01-30T21:42:53.70666687Z', 'labels': {'com.docker.stack.namespace': 'pgadmin'}}\n",
      "{'service_id': 'qsh9edg176tlu3ew3vy7u6wmb', 'service_name': 'caddy_whoami', 'container_id': '1cfcea8f042829efd9b75cce01a4619a843532286a7519c0939424398d8b0f6f', 'node_id': 'gz5ferechgc8qpd55njq40t75', 'state': 'shutdown', 'hostname': None, 'timestamp': '2025-01-30T20:19:28.312197595Z', 'labels': {'com.docker.stack.namespace': 'caddy'}}\n",
      "{'service_id': 'qsh9edg176tlu3ew3vy7u6wmb', 'service_name': 'caddy_whoami', 'container_id': 'dbf61fbade4408a10c770c59cbcc5126afc97e1872a445235a050823aceb0f4d', 'node_id': '6igd1sqbmvnl7nbpczgo7jnyr', 'state': 'running', 'hostname': None, 'timestamp': '2025-01-30T21:43:27.837275533Z', 'labels': {'com.docker.stack.namespace': 'caddy'}}\n",
      "{'service_id': 'qsh9edg176tlu3ew3vy7u6wmb', 'service_name': 'caddy_whoami', 'container_id': '8f5ed91c4de84a2c4057446eea1ecbefa8dd074853078fdc07c05808e44c8d1c', 'node_id': '6igd1sqbmvnl7nbpczgo7jnyr', 'state': 'failed', 'hostname': None, 'timestamp': '2025-01-30T21:42:53.707573408Z', 'labels': {'com.docker.stack.namespace': 'caddy'}}\n",
      "{'service_id': 'r8akmbjs6rqd8qxyg82n5ct96', 'service_name': 'tim-berners-lee', 'container_id': 'e2b901165056e52d6641a9c63d3780ccc902c637907b29e510a04f2c38564335', 'node_id': 'gz5ferechgc8qpd55njq40t75', 'state': 'running', 'hostname': 'tim-berners-lee.doswarm.jointheleague.org', 'timestamp': '2025-01-31T21:44:25.455768878Z', 'labels': {'jt.codeserver.password': 'code4life', 'jtl': 'true', 'jtl.codeserver': 'true', 'jtl.codeserver.start_time': '2025-01-31T13:44:21.254165-08:00', 'jtl.codeserver.username': 'tim_berners_lee'}}\n",
      "{'service_id': 's216qqugfa726z43sn30uk6aa', 'service_name': 'caddy_hello', 'container_id': '3c61c7493a2f4d4b63c1db3901426557672f991dd5ec6778d0e8aefea374f475', 'node_id': '6igd1sqbmvnl7nbpczgo7jnyr', 'state': 'failed', 'hostname': None, 'timestamp': '2025-01-30T21:42:53.70719828Z', 'labels': {'com.docker.stack.namespace': 'caddy'}}\n",
      "{'service_id': 's216qqugfa726z43sn30uk6aa', 'service_name': 'caddy_hello', 'container_id': 'a263d09b60012312c50fdd10290ece2e572d598e774b7b5077722ec0ede239a2', 'node_id': 'gz5ferechgc8qpd55njq40t75', 'state': 'shutdown', 'hostname': None, 'timestamp': '2025-01-30T20:19:28.607844063Z', 'labels': {'com.docker.stack.namespace': 'caddy'}}\n",
      "{'service_id': 's216qqugfa726z43sn30uk6aa', 'service_name': 'caddy_hello', 'container_id': 'fef9184be1ada4b86474ef94f0e8cff82b3c0baeac60173e1e06001cac5c5947', 'node_id': '6igd1sqbmvnl7nbpczgo7jnyr', 'state': 'running', 'hostname': None, 'timestamp': '2025-01-30T21:43:58.172014404Z', 'labels': {'com.docker.stack.namespace': 'caddy'}}\n",
      "{'service_id': 'sncoiar75nt6t1o3ifccptrl7', 'service_name': 'gitea_server', 'container_id': 'f4a9706871931622efc8d99a1cbfc491105eb20718b3fd43099694a2bae026ff', 'node_id': 'gz5ferechgc8qpd55njq40t75', 'state': 'complete', 'hostname': 'git.doswarm.jointheleague.org', 'timestamp': '2025-01-30T20:18:07.737485299Z', 'labels': {'com.docker.stack.namespace': 'gitea'}}\n",
      "{'service_id': 'sncoiar75nt6t1o3ifccptrl7', 'service_name': 'gitea_server', 'container_id': 'e354527c204928df7690cce9f425c999a90c23c179dedb1c8f38414f91b491dd', 'node_id': 'gz5ferechgc8qpd55njq40t75', 'state': 'running', 'hostname': 'git.doswarm.jointheleague.org', 'timestamp': '2025-01-30T21:42:57.261152718Z', 'labels': {'com.docker.stack.namespace': 'gitea'}}\n",
      "{'service_id': 'vnvgvjzen0gg01dnmmgor29td', 'service_name': 'alan-turing', 'container_id': 'a06597fa5e5af7e2f615dcbdbfd85d9480eeb495aed5652a7dda362c199276f3', 'node_id': 'jtlr50hzc1v5kt3cvx83bcgo6', 'state': 'running', 'hostname': 'alan-turing.doswarm.jointheleague.org', 'timestamp': '2025-01-31T21:44:24.950414565Z', 'labels': {'jt.codeserver.password': 'code4life', 'jtl': 'true', 'jtl.codeserver': 'true', 'jtl.codeserver.start_time': '2025-01-31T13:44:20.654387-08:00', 'jtl.codeserver.username': 'alan_turing'}}\n",
      "{'service_id': 'y4uld21or6v04cg91m5tsf7gj', 'service_name': 'dennis-ritchie', 'container_id': '2102aab959d785b5a3e82e724cf841525d4f88403a4a7c8b6531cc61459e76a3', 'node_id': 'gz5ferechgc8qpd55njq40t75', 'state': 'running', 'hostname': 'dennis-ritchie.doswarm.jointheleague.org', 'timestamp': '2025-01-31T21:44:25.510531067Z', 'labels': {'jt.codeserver.password': 'code4life', 'jtl': 'true', 'jtl.codeserver': 'true', 'jtl.codeserver.start_time': '2025-01-31T13:44:21.796372-08:00', 'jtl.codeserver.username': 'dennis_ritchie'}}\n"
     ]
    }
   ],
   "source": [
    "for c in csm.containers:\n",
    "    print(c)\n",
    "    "
   ]
  },
  {
   "cell_type": "code",
   "execution_count": null,
   "metadata": {},
   "outputs": [],
   "source": []
  }
 ],
 "metadata": {
  "kernelspec": {
   "display_name": ".venv",
   "language": "python",
   "name": "python3"
  },
  "language_info": {
   "codemirror_mode": {
    "name": "ipython",
    "version": 3
   },
   "file_extension": ".py",
   "mimetype": "text/x-python",
   "name": "python",
   "nbconvert_exporter": "python",
   "pygments_lexer": "ipython3",
   "version": "3.11.11"
  }
 },
 "nbformat": 4,
 "nbformat_minor": 2
}
