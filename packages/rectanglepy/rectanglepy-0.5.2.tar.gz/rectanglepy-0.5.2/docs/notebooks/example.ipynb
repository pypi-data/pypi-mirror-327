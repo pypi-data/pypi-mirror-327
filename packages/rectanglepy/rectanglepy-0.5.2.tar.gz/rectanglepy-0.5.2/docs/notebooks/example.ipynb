{
 "cells": [
  {
   "cell_type": "markdown",
   "metadata": {},
   "source": [
    "# Example workflow"
   ]
  },
  {
   "cell_type": "markdown",
   "source": [],
   "metadata": {
    "collapsed": false
   }
  },
  {
   "cell_type": "code",
   "metadata": {},
   "source": [
    "import rectanglepy as rectangle\n",
    "from anndata import AnnData"
   ],
   "outputs": [],
   "execution_count": null
  },
  {
   "cell_type": "markdown",
   "source": [
    "## Load tutorial data"
   ],
   "metadata": {
    "collapsed": false
   }
  },
  {
   "cell_type": "code",
   "metadata": {},
   "source": [
    "sc_counts, annotations, bulks  = rectangle.load_tutorial_data()"
   ],
   "outputs": [],
   "execution_count": null
  },
  {
   "cell_type": "code",
   "source": "sc_counts.iloc[:, :5].head()",
   "metadata": {
    "collapsed": false,
    "ExecuteTime": {
     "end_time": "2025-01-23T05:46:15.359490Z",
     "start_time": "2025-01-23T05:46:15.352713Z"
    }
   },
   "outputs": [
    {
     "data": {
      "text/plain": [
       "                       MIR1302-2HG  AL627309.1  AL627309.4  AC114498.1   \n",
       "E2L4_GATGCTACAGGCACAA            0           0           0           0  \\\n",
       "L5_AACAACCAGGAACTAT              0           0           0           0   \n",
       "L5_TCCTTCTGTACTCCGG              0           0           0           0   \n",
       "L2_GCCCGAACACGTATAC              0           0           0           0   \n",
       "E2L2_ATGCATGTCACACCCT            0           0           0           0   \n",
       "\n",
       "                       AL669831.5  \n",
       "E2L4_GATGCTACAGGCACAA           0  \n",
       "L5_AACAACCAGGAACTAT             0  \n",
       "L5_TCCTTCTGTACTCCGG             0  \n",
       "L2_GCCCGAACACGTATAC             0  \n",
       "E2L2_ATGCATGTCACACCCT           0  "
      ],
      "text/html": [
       "<div>\n",
       "<style scoped>\n",
       "    .dataframe tbody tr th:only-of-type {\n",
       "        vertical-align: middle;\n",
       "    }\n",
       "\n",
       "    .dataframe tbody tr th {\n",
       "        vertical-align: top;\n",
       "    }\n",
       "\n",
       "    .dataframe thead th {\n",
       "        text-align: right;\n",
       "    }\n",
       "</style>\n",
       "<table border=\"1\" class=\"dataframe\">\n",
       "  <thead>\n",
       "    <tr style=\"text-align: right;\">\n",
       "      <th></th>\n",
       "      <th>MIR1302-2HG</th>\n",
       "      <th>AL627309.1</th>\n",
       "      <th>AL627309.4</th>\n",
       "      <th>AC114498.1</th>\n",
       "      <th>AL669831.5</th>\n",
       "    </tr>\n",
       "  </thead>\n",
       "  <tbody>\n",
       "    <tr>\n",
       "      <th>E2L4_GATGCTACAGGCACAA</th>\n",
       "      <td>0</td>\n",
       "      <td>0</td>\n",
       "      <td>0</td>\n",
       "      <td>0</td>\n",
       "      <td>0</td>\n",
       "    </tr>\n",
       "    <tr>\n",
       "      <th>L5_AACAACCAGGAACTAT</th>\n",
       "      <td>0</td>\n",
       "      <td>0</td>\n",
       "      <td>0</td>\n",
       "      <td>0</td>\n",
       "      <td>0</td>\n",
       "    </tr>\n",
       "    <tr>\n",
       "      <th>L5_TCCTTCTGTACTCCGG</th>\n",
       "      <td>0</td>\n",
       "      <td>0</td>\n",
       "      <td>0</td>\n",
       "      <td>0</td>\n",
       "      <td>0</td>\n",
       "    </tr>\n",
       "    <tr>\n",
       "      <th>L2_GCCCGAACACGTATAC</th>\n",
       "      <td>0</td>\n",
       "      <td>0</td>\n",
       "      <td>0</td>\n",
       "      <td>0</td>\n",
       "      <td>0</td>\n",
       "    </tr>\n",
       "    <tr>\n",
       "      <th>E2L2_ATGCATGTCACACCCT</th>\n",
       "      <td>0</td>\n",
       "      <td>0</td>\n",
       "      <td>0</td>\n",
       "      <td>0</td>\n",
       "      <td>0</td>\n",
       "    </tr>\n",
       "  </tbody>\n",
       "</table>\n",
       "</div>"
      ]
     },
     "execution_count": 12,
     "metadata": {},
     "output_type": "execute_result"
    }
   ],
   "execution_count": 12
  },
  {
   "cell_type": "code",
   "source": [
    "annotations.head()"
   ],
   "metadata": {
    "collapsed": false
   },
   "outputs": [],
   "execution_count": null
  },
  {
   "cell_type": "code",
   "source": "bulks.iloc[:, :5].head()",
   "metadata": {
    "collapsed": false,
    "ExecuteTime": {
     "end_time": "2025-01-23T05:46:13.242102Z",
     "start_time": "2025-01-23T05:46:13.235377Z"
    }
   },
   "outputs": [
    {
     "data": {
      "text/plain": [
       "         UBE2Q2P2  SSX9   CXorf67   EFCAB8  SPATA31B1P\n",
       "pbmc_1   0.000000   0.0  0.118865  0.00000         0.0\n",
       "pbmc_10  0.081115   0.0  0.086782  0.00000         0.0\n",
       "pbmc_12  0.000000   0.0  0.188464  0.03157         0.0"
      ],
      "text/html": [
       "<div>\n",
       "<style scoped>\n",
       "    .dataframe tbody tr th:only-of-type {\n",
       "        vertical-align: middle;\n",
       "    }\n",
       "\n",
       "    .dataframe tbody tr th {\n",
       "        vertical-align: top;\n",
       "    }\n",
       "\n",
       "    .dataframe thead th {\n",
       "        text-align: right;\n",
       "    }\n",
       "</style>\n",
       "<table border=\"1\" class=\"dataframe\">\n",
       "  <thead>\n",
       "    <tr style=\"text-align: right;\">\n",
       "      <th></th>\n",
       "      <th>UBE2Q2P2</th>\n",
       "      <th>SSX9</th>\n",
       "      <th>CXorf67</th>\n",
       "      <th>EFCAB8</th>\n",
       "      <th>SPATA31B1P</th>\n",
       "    </tr>\n",
       "  </thead>\n",
       "  <tbody>\n",
       "    <tr>\n",
       "      <th>pbmc_1</th>\n",
       "      <td>0.000000</td>\n",
       "      <td>0.0</td>\n",
       "      <td>0.118865</td>\n",
       "      <td>0.00000</td>\n",
       "      <td>0.0</td>\n",
       "    </tr>\n",
       "    <tr>\n",
       "      <th>pbmc_10</th>\n",
       "      <td>0.081115</td>\n",
       "      <td>0.0</td>\n",
       "      <td>0.086782</td>\n",
       "      <td>0.00000</td>\n",
       "      <td>0.0</td>\n",
       "    </tr>\n",
       "    <tr>\n",
       "      <th>pbmc_12</th>\n",
       "      <td>0.000000</td>\n",
       "      <td>0.0</td>\n",
       "      <td>0.188464</td>\n",
       "      <td>0.03157</td>\n",
       "      <td>0.0</td>\n",
       "    </tr>\n",
       "  </tbody>\n",
       "</table>\n",
       "</div>"
      ]
     },
     "execution_count": 11,
     "metadata": {},
     "output_type": "execute_result"
    }
   ],
   "execution_count": 11
  },
  {
   "cell_type": "markdown",
   "metadata": {},
   "source": [
    "### Convert to AnnData object"
   ]
  },
  {
   "cell_type": "code",
   "source": [
    "sc_adata = AnnData(sc_counts, obs=annotations.to_frame(name=\"cell_type\"))"
   ],
   "metadata": {
    "collapsed": false
   },
   "outputs": [],
   "execution_count": null
  },
  {
   "cell_type": "markdown",
   "source": [
    "# Single step Rectangle workflow"
   ],
   "metadata": {
    "collapsed": false
   }
  },
  {
   "metadata": {},
   "cell_type": "markdown",
   "source": "To deconvolute the bulk data in a single step, use the rectangle function. This function returns a tuple of the estimated cell type proportions and the signature result."
  },
  {
   "cell_type": "code",
   "source": [
    "estimations, signature_result = rectangle.rectangle(sc_adata, bulks)"
   ],
   "metadata": {
    "collapsed": false
   },
   "outputs": [],
   "execution_count": null
  },
  {
   "cell_type": "code",
   "source": "estimations",
   "metadata": {
    "collapsed": false
   },
   "outputs": [],
   "execution_count": null
  },
  {
   "cell_type": "markdown",
   "source": "signature_result is a [`RectangleSignatureResult`](../generated/rectanglepy.pp.RectangleSignatureResult.rst) object.",
   "metadata": {
    "collapsed": false
   }
  },
  {
   "cell_type": "markdown",
   "source": [
    "# 2-step Rectangle workflow"
   ],
   "metadata": {
    "collapsed": false
   }
  },
  {
   "cell_type": "markdown",
   "source": [
    "Rectangle can also be run in two steps, first creating the signature and then deconvoluting the bulk data."
   ],
   "metadata": {
    "collapsed": false
   }
  },
  {
   "cell_type": "markdown",
   "source": [
    "## Create Signature result"
   ],
   "metadata": {
    "collapsed": false
   }
  },
  {
   "cell_type": "code",
   "source": [
    "signature_result = rectangle.pp.build_rectangle_signatures(sc_adata, bulks=bulks)"
   ],
   "metadata": {
    "collapsed": false
   },
   "outputs": [],
   "execution_count": null
  },
  {
   "cell_type": "markdown",
   "source": [
    "This creates a [`RectangleSignatureResult`](../generated/rectanglepy.pp.RectangleSignatureResult.rst) object."
   ],
   "metadata": {
    "collapsed": false
   }
  },
  {
   "cell_type": "markdown",
   "source": [
    "## Deconvolute bulk data"
   ],
   "metadata": {
    "collapsed": false
   }
  },
  {
   "cell_type": "code",
   "source": [
    "estimations = rectangle.tl.deconvolution(signature_result, bulks)"
   ],
   "metadata": {
    "collapsed": false
   },
   "outputs": [],
   "execution_count": null
  },
  {
   "cell_type": "markdown",
   "source": [
    "This returns a pandas DataFrame with the estimated cell type proportions."
   ],
   "metadata": {
    "collapsed": false
   }
  },
  {
   "cell_type": "code",
   "source": "estimations.T",
   "metadata": {
    "collapsed": false,
    "ExecuteTime": {
     "end_time": "2025-01-23T05:46:46.255422Z",
     "start_time": "2025-01-23T05:46:46.248810Z"
    }
   },
   "outputs": [
    {
     "data": {
      "text/plain": [
       "                    pbmc_1       pbmc_10       pbmc_12\n",
       "B cells           0.089947  1.099018e-01  7.147636e-02\n",
       "ILC               0.008037  1.482882e-02  7.568929e-03\n",
       "Monocytes         0.227473  2.967478e-01  2.255510e-01\n",
       "NK cells          0.022183  1.626444e-02  1.011593e-01\n",
       "Plasma cells      0.005894  6.567050e-04  3.095959e-03\n",
       "Platelet          0.004847  2.190904e-02  1.863999e-02\n",
       "T cells CD4 conv  0.037192 -6.450194e-18 -3.137140e-17\n",
       "T cells CD8       0.161779  1.180941e-01  2.740643e-01\n",
       "Tregs             0.416100  3.962703e-01  2.563935e-01\n",
       "mDC               0.024173  2.066734e-02  1.005506e-02\n",
       "pDC               0.002376  4.659653e-03  2.985398e-03\n",
       "Unknown           0.000000  0.000000e+00  2.901021e-02"
      ],
      "text/html": [
       "<div>\n",
       "<style scoped>\n",
       "    .dataframe tbody tr th:only-of-type {\n",
       "        vertical-align: middle;\n",
       "    }\n",
       "\n",
       "    .dataframe tbody tr th {\n",
       "        vertical-align: top;\n",
       "    }\n",
       "\n",
       "    .dataframe thead th {\n",
       "        text-align: right;\n",
       "    }\n",
       "</style>\n",
       "<table border=\"1\" class=\"dataframe\">\n",
       "  <thead>\n",
       "    <tr style=\"text-align: right;\">\n",
       "      <th></th>\n",
       "      <th>pbmc_1</th>\n",
       "      <th>pbmc_10</th>\n",
       "      <th>pbmc_12</th>\n",
       "    </tr>\n",
       "  </thead>\n",
       "  <tbody>\n",
       "    <tr>\n",
       "      <th>B cells</th>\n",
       "      <td>0.089947</td>\n",
       "      <td>1.099018e-01</td>\n",
       "      <td>7.147636e-02</td>\n",
       "    </tr>\n",
       "    <tr>\n",
       "      <th>ILC</th>\n",
       "      <td>0.008037</td>\n",
       "      <td>1.482882e-02</td>\n",
       "      <td>7.568929e-03</td>\n",
       "    </tr>\n",
       "    <tr>\n",
       "      <th>Monocytes</th>\n",
       "      <td>0.227473</td>\n",
       "      <td>2.967478e-01</td>\n",
       "      <td>2.255510e-01</td>\n",
       "    </tr>\n",
       "    <tr>\n",
       "      <th>NK cells</th>\n",
       "      <td>0.022183</td>\n",
       "      <td>1.626444e-02</td>\n",
       "      <td>1.011593e-01</td>\n",
       "    </tr>\n",
       "    <tr>\n",
       "      <th>Plasma cells</th>\n",
       "      <td>0.005894</td>\n",
       "      <td>6.567050e-04</td>\n",
       "      <td>3.095959e-03</td>\n",
       "    </tr>\n",
       "    <tr>\n",
       "      <th>Platelet</th>\n",
       "      <td>0.004847</td>\n",
       "      <td>2.190904e-02</td>\n",
       "      <td>1.863999e-02</td>\n",
       "    </tr>\n",
       "    <tr>\n",
       "      <th>T cells CD4 conv</th>\n",
       "      <td>0.037192</td>\n",
       "      <td>-6.450194e-18</td>\n",
       "      <td>-3.137140e-17</td>\n",
       "    </tr>\n",
       "    <tr>\n",
       "      <th>T cells CD8</th>\n",
       "      <td>0.161779</td>\n",
       "      <td>1.180941e-01</td>\n",
       "      <td>2.740643e-01</td>\n",
       "    </tr>\n",
       "    <tr>\n",
       "      <th>Tregs</th>\n",
       "      <td>0.416100</td>\n",
       "      <td>3.962703e-01</td>\n",
       "      <td>2.563935e-01</td>\n",
       "    </tr>\n",
       "    <tr>\n",
       "      <th>mDC</th>\n",
       "      <td>0.024173</td>\n",
       "      <td>2.066734e-02</td>\n",
       "      <td>1.005506e-02</td>\n",
       "    </tr>\n",
       "    <tr>\n",
       "      <th>pDC</th>\n",
       "      <td>0.002376</td>\n",
       "      <td>4.659653e-03</td>\n",
       "      <td>2.985398e-03</td>\n",
       "    </tr>\n",
       "    <tr>\n",
       "      <th>Unknown</th>\n",
       "      <td>0.000000</td>\n",
       "      <td>0.000000e+00</td>\n",
       "      <td>2.901021e-02</td>\n",
       "    </tr>\n",
       "  </tbody>\n",
       "</table>\n",
       "</div>"
      ]
     },
     "execution_count": 14,
     "metadata": {},
     "output_type": "execute_result"
    }
   ],
   "execution_count": 14
  },
  {
   "metadata": {},
   "cell_type": "code",
   "outputs": [],
   "execution_count": null,
   "source": ""
  }
 ],
 "metadata": {
  "kernelspec": {
   "display_name": "Python 3.9.12 ('squidpy39')",
   "language": "python",
   "name": "python3"
  },
  "language_info": {
   "codemirror_mode": {
    "name": "ipython",
    "version": 3
   },
   "file_extension": ".py",
   "mimetype": "text/x-python",
   "name": "python",
   "nbconvert_exporter": "python",
   "pygments_lexer": "ipython3",
   "version": "3.9.12"
  },
  "vscode": {
   "interpreter": {
    "hash": "ae6466e8d4f517858789b5c9e8f0ed238fb8964458a36305fca7bddc149e9c64"
   }
  }
 },
 "nbformat": 4,
 "nbformat_minor": 4
}
