{
 "cells": [
  {
   "cell_type": "code",
   "execution_count": 2,
   "id": "83f5abe4-7205-4fc1-a2bf-a75c76bbbd23",
   "metadata": {
    "execution": {
     "iopub.execute_input": "2025-02-09T23:41:27.973699Z",
     "iopub.status.busy": "2025-02-09T23:41:27.973281Z",
     "iopub.status.idle": "2025-02-09T23:41:27.978856Z",
     "shell.execute_reply": "2025-02-09T23:41:27.978347Z",
     "shell.execute_reply.started": "2025-02-09T23:41:27.973676Z"
    },
    "jupyter": {
     "source_hidden": true
    },
    "tags": []
   },
   "outputs": [],
   "source": [
    "%reload_ext openad.notebooks.styles"
   ]
  },
  {
   "cell_type": "markdown",
   "id": "2350625b-139b-457e-8857-d6c6c33eabc8",
   "metadata": {},
   "source": [
    "<!-- Header banner -->\n",
    "<div class=\"banner\"><div>Working with the RXN Plugin</div><b>OpenAD <span>Tutorial</span></b></div>"
   ]
  },
  {
   "cell_type": "markdown",
   "id": "b38aac2b-5086-4741-9607-ac535634ef18",
   "metadata": {},
   "source": [
    "### Table of Contents\n",
    "\n",
    "1. [Getting Started](#Getting-Started)\n",
    "    1. [Installation](#Installation)\n",
    "    1. [Authentication](#Authentication)\n",
    "    1. [Magic Commands](#Magic-Commands)\n",
    "    1. [About RXN](#About-RXN)\n",
    "    1. [Command Documentation](#Command-Documentation)\n",
    "3. [Forward Reactions](#Forward-Reactions)\n",
    "   1. [Single Prediction](#Single-Prediction)\n",
    "   2. [Batch Predictions](#Batch-Predictions)\n",
    "   3. [Calculating top results at once](#Calculating-top-results-at-once)\n",
    "4. [Retrosynthesis](#Retrosynthesis)\n",
    "5. [Interpreting Recipes](#Interpreting-Recipes)\n",
    "6. [Enriching your Molecules with RXN Results](#Enriching-your-Molecules-with-RXN-Results)"
   ]
  },
  {
   "cell_type": "markdown",
   "id": "96aae46b-4f93-483c-b600-4f67a2a946a6",
   "metadata": {
    "tags": []
   },
   "source": [
    "## Getting Started"
   ]
  },
  {
   "cell_type": "markdown",
   "id": "f4b5ae4a-5a36-4f8b-90e5-92ea463e61ef",
   "metadata": {
    "tags": []
   },
   "source": [
    "<div class=\"alert alert-info\">\n",
    "<b>Note:</b> In order to prevent re-running the same queries as you practice with this Notebook, we'll use the <code>use cache</code> clause in all our examples.\n",
    "</div>"
   ]
  },
  {
   "cell_type": "markdown",
   "id": "fb3d1678-f853-465c-a58f-006ac76559be",
   "metadata": {},
   "source": [
    "### Installation\n",
    "If you haven't already, you can install the plugin directly from its [GitHub repo](https://github.com/acceleratedscience/openad-plugin-rxn#readme).\n",
    "    \n",
    "    pip install git+https://github.com/acceleratedscience/openad-plugin-rxn\n",
    "\n",
    "### Authentication\n",
    "Before you can work with the RXN plugin, you'll need to sign up for an RXN account and create an API key.<br>We have [detailed instructions in the plugin's README](https://github.com/acceleratedscience/openad-plugin-rxn#authentication). \n",
    "\n",
    "### Magic Commands\n",
    "Magic commands let you interact with the OpenAD shell.\n",
    "1. `%openad` - Display results directly in your notebook<br>\n",
    "2. `%openadd` - Store the returned data in a variable\n",
    "\n",
    "To learn more, check the [OpenAD intro to magic commands](https://github.com/acceleratedscience/openad-toolkit/blob/main/openad/notebooks/magic_commands.ipynb).\n",
    "\n",
    "### About RXN\n",
    "To learn about what this plugin does, and to list its available commands, run:\n",
    "\n",
    "    rxn"
   ]
  },
  {
   "cell_type": "code",
   "execution_count": null,
   "id": "b089a7c4-be38-4447-9e05-335e8f4d08e6",
   "metadata": {
    "tags": []
   },
   "outputs": [],
   "source": [
    "%openad rxn"
   ]
  },
  {
   "cell_type": "markdown",
   "id": "b304f72a-11a9-427c-9e01-8f815d5d42d6",
   "metadata": {},
   "source": [
    "### Command Documentation\n",
    "\n",
    "Every command has detailed documentation where you can find everything you need to know, including optional parameters and examples.\n",
    "\n",
    "To see the documentation of a command, just run the beginning of the command followed by a question mark."
   ]
  },
  {
   "cell_type": "code",
   "execution_count": null,
   "id": "86ed5600-3e08-49ea-80d9-41e91a3bbaf3",
   "metadata": {
    "tags": []
   },
   "outputs": [],
   "source": [
    "%openad rxn clear ?"
   ]
  },
  {
   "cell_type": "markdown",
   "id": "63fb5875-d2a7-44e5-bc3a-37a9132f8df5",
   "metadata": {
    "tags": []
   },
   "source": [
    "## Forward Reactions"
   ]
  },
  {
   "cell_type": "markdown",
   "id": "9289af23-2d19-46b8-9cb2-5689f9691661",
   "metadata": {
    "tags": []
   },
   "source": [
    "### Single Prediction"
   ]
  },
  {
   "cell_type": "markdown",
   "id": "9e4c187d-1669-471a-aa03-dd4fcf5e8e2d",
   "metadata": {
    "tags": []
   },
   "source": [
    "Predicting a reaction is as simple as passing a reactions SMILES.\n",
    "\n",
    "    rxn predict reaction '<smiles>.<smiles>'"
   ]
  },
  {
   "cell_type": "code",
   "execution_count": null,
   "id": "5c839759-fa3f-4abc-9433-5d971d30fd1d",
   "metadata": {
    "tags": []
   },
   "outputs": [],
   "source": [
    "# Hydrochloric acid + N-propylpropanamide + Oxygen + Water\n",
    "%openad rxn predict reaction 'Cl.CCC(=O)NCCC.O' use cache"
   ]
  },
  {
   "cell_type": "markdown",
   "id": "1ffc5519-514f-478a-b1a4-f4dca56f28e1",
   "metadata": {},
   "source": [
    "### Rich visualization\n",
    "\n",
    "Because things can become hard to read when your smiles strings are long, we provide a richer visualization.<br>\n",
    "This allows you to better see the structure of yoru reaction.\n",
    "\n",
    "This same clause is available for batch predictions."
   ]
  },
  {
   "cell_type": "code",
   "execution_count": null,
   "id": "59ce974f-536a-4046-9cab-b7b22c639439",
   "metadata": {
    "tags": []
   },
   "outputs": [],
   "source": [
    "# Rich visualisation\n",
    "%openad rxn predict reaction 'CC(C)(c1ccccn1)C(CC(=O)O)Nc1nc(-c2c[nH]c3ncc(Cl)cc23)c(C#N)cc1F.Cl.CCC(=O)NCCC.O' rich use cache"
   ]
  },
  {
   "cell_type": "markdown",
   "id": "8b921266-503f-4a89-9ec3-728763f1a207",
   "metadata": {
    "tags": []
   },
   "source": [
    "### Batch Predictions"
   ]
  },
  {
   "cell_type": "markdown",
   "id": "cedb5525-214f-4fde-a0ab-c4c75296f130",
   "metadata": {},
   "source": [
    "Batch predictions can be done from a list of SMILES, or a file or dataframe containing lists of smiles.\n",
    "\n",
    "#### From a List\n",
    "    \n",
    "    rxn predict reactions from list ['<smiles>.<smiles>',...]"
   ]
  },
  {
   "cell_type": "code",
   "execution_count": null,
   "id": "2ca33ff1-fea4-4975-83c0-040081a74b51",
   "metadata": {
    "tags": []
   },
   "outputs": [],
   "source": [
    "# Bromine + 2-anthracen-1-ylethanol / anthracene\n",
    "%openad rxn predict reactions from list ['BrBr.c1ccc2cc3ccccc3cc2c1', 'BrBr.c1ccc2cc3ccccc3cc2c1CCO'] use cache"
   ]
  },
  {
   "cell_type": "markdown",
   "id": "cd88a177-d08d-48dd-8e7c-ae466d3257d4",
   "metadata": {},
   "source": [
    "#### From a DataFrame\n",
    "\n",
    "    rxn predict reactions from dataframe <dataframe_name>\n",
    "    \n",
    "Your DataFrame should have a \"Reactions\" column."
   ]
  },
  {
   "cell_type": "code",
   "execution_count": null,
   "id": "e72741a1-646a-415e-93c7-c39ddee61271",
   "metadata": {},
   "outputs": [],
   "source": [
    "# Create a Pandas DataFrame with reaction SMILES\n",
    "reactions = [\"BrBr.c1ccc2cc3ccccc3cc2c1\", \"BrBr.c1ccc2cc3ccccc3cc2c1CCO\"]\n",
    "df = py.DataFrame(reactions, columns=[\"Reactions\"])"
   ]
  },
  {
   "cell_type": "code",
   "execution_count": null,
   "id": "f075a250-baf6-4d0e-8054-0a01949cf7aa",
   "metadata": {
    "tags": []
   },
   "outputs": [],
   "source": [
    "# Predict reactions\n",
    "%openad rxn predict reactions from dataframe df use cache"
   ]
  },
  {
   "cell_type": "markdown",
   "id": "82da38e4-849e-4ec7-a0ad-e053065337dc",
   "metadata": {
    "tags": []
   },
   "source": [
    "#### From a File\n",
    "\n",
    "    rxn predict reactions from file '<filename.csv>'\n",
    "    \n",
    "When using a CSV file, it should contain a \"Reactions\" column, just like with a dataframe. Alternatively, you can simply use a text file with one reaction per line.\n",
    "\n",
    "For the purpose of this demo, we'll store both a .txt a .csv file with reactions in your workspace."
   ]
  },
  {
   "cell_type": "code",
   "execution_count": null,
   "id": "57c3e283-410f-4cfc-83bb-7dd369e18836",
   "metadata": {
    "tags": []
   },
   "outputs": [],
   "source": [
    "import pandas as py\n",
    "\n",
    "# Prep\n",
    "reactions = [\"BrBr.c1ccc2cc3ccccc3cc2c1\", \"BrBr.c1ccc2cc3ccccc3cc2c1CCO\"]\n",
    "cmd_pointer = %openadd cmd_pointer\n",
    "workspace_path = cmd_pointer.workspace_path()\n",
    "csv_file_path = f\"{workspace_path}/rxn_demo_reactions.csv\"\n",
    "text_file_path = f\"{workspace_path}/rxn_demo_reactions.txt\"\n",
    "\n",
    "# Store reactions in a CSV file in your workspace\n",
    "df = py.DataFrame(reactions, columns=[\"Reactions\"])\n",
    "df.to_csv(csv_file_path)\n",
    "\n",
    "# Store reactions in a text file in your workspace\n",
    "with open(text_file_path, \"w\") as file:\n",
    "    for item in reactions:\n",
    "        _ = file.write(f\"{item}\\n\");"
   ]
  },
  {
   "cell_type": "code",
   "execution_count": null,
   "id": "60949157-bda7-471f-9c36-92ecdbf25d33",
   "metadata": {
    "tags": []
   },
   "outputs": [],
   "source": [
    "# Inspect the files we just created\n",
    "%cat {csv_file_path}\n",
    "print()\n",
    "%cat {text_file_path}"
   ]
  },
  {
   "cell_type": "code",
   "execution_count": null,
   "id": "4c0b61e7-e991-4dd8-8823-9e716416f2f0",
   "metadata": {
    "tags": []
   },
   "outputs": [],
   "source": [
    "# Predict reactions from a CSV file\n",
    "%openad rxn predict reactions from file 'rxn_demo_reactions.csv' use cache"
   ]
  },
  {
   "cell_type": "code",
   "execution_count": null,
   "id": "2198b0f3-29d4-4d39-91cd-484cb1517577",
   "metadata": {
    "tags": []
   },
   "outputs": [],
   "source": [
    "# Predict reactions from a text file\n",
    "%openad rxn predict reactions from file 'rxn_demo_reactions.txt' use cache"
   ]
  },
  {
   "cell_type": "markdown",
   "id": "aee2b432-455d-4b5e-949f-e8145b5bf475",
   "metadata": {
    "tags": []
   },
   "source": [
    "### Calculating top results at once"
   ]
  },
  {
   "cell_type": "markdown",
   "id": "6e92d23f-e927-48f3-96bf-9e7987b2e3bd",
   "metadata": {},
   "source": [
    "Sometimes one result per reaction may not be enough. You may want to see a list of most likely outcomes ranked by confidence.\n",
    "\n",
    "To do this, you can simply pass the `topn` parameter and set it to however many outcomes you want to see.\n",
    "\n",
    "This works for both single predictions and batch predictions."
   ]
  },
  {
   "cell_type": "code",
   "execution_count": null,
   "id": "cf11126d-0e6a-4fde-8d94-a2b64e696173",
   "metadata": {
    "tags": []
   },
   "outputs": [],
   "source": [
    "%openad rxn predict reaction 'BrBr.c1ccc2cc3ccccc3cc2c1' using (topn=3) use cache"
   ]
  },
  {
   "cell_type": "code",
   "execution_count": null,
   "id": "dbff3945-1f20-4ac3-9a7f-1d32969a0979",
   "metadata": {
    "tags": []
   },
   "outputs": [],
   "source": [
    "%openad rxn predict reactions from list ['BrBr.c1ccc2cc3ccccc3cc2c1', 'BrBr.c1ccc2cc3ccccc3cc2c1CCO'] using (topn=5) use cache"
   ]
  },
  {
   "cell_type": "markdown",
   "id": "16d88609-2f5f-4617-abec-ca0c5db48eb8",
   "metadata": {
    "tags": []
   },
   "source": [
    "## Retrosynthesis"
   ]
  },
  {
   "cell_type": "markdown",
   "id": "014be431-db61-4e90-825c-83c1b483d70a",
   "metadata": {
    "tags": []
   },
   "source": [
    "    rxn predict retro '<smiles>'\n",
    "\n",
    "Finding the retrosynthesis route of a molecule is again as simple as providing its SMILES.\n",
    "\n",
    "There's a number of options available, like `max_steps` or `exclude_substructures`.<br>\n",
    "To see the full list of options you can consult the command's documentation."
   ]
  },
  {
   "cell_type": "code",
   "execution_count": null,
   "id": "24369b33-cd1e-4f2c-8095-b1038a5c969c",
   "metadata": {
    "tags": []
   },
   "outputs": [],
   "source": [
    "%openad rxn predict retro ?"
   ]
  },
  {
   "cell_type": "markdown",
   "id": "d2fc79a5",
   "metadata": {},
   "source": [
    "You'll notice that we are using variable substitution below to provide the command with the SMILES molecule."
   ]
  },
  {
   "cell_type": "code",
   "execution_count": null,
   "id": "21e9e8bc-57ae-4771-8df2-0194f11f7af4",
   "metadata": {
    "scrolled": true,
    "tags": []
   },
   "outputs": [],
   "source": [
    "smiles = \"CC(C)(c1ccccn1)C(CC(=O)O)Nc1nc(-c2c[nH]c3ncc(Cl)cc23)c(C#N)cc1F\"\n",
    "%openad rxn predict retro {smiles} using (max_steps=5) use cache"
   ]
  },
  {
   "cell_type": "markdown",
   "id": "c0a1e420-c937-4069-ac66-5c53033a81e7",
   "metadata": {},
   "source": [
    "### Rich visualization\n",
    "Because a reaction tree is not linear, we provide a richer visualization. This makes it easier to piece together the structure of the tree, but takes up more space"
   ]
  },
  {
   "cell_type": "code",
   "execution_count": null,
   "id": "9b9fa5cf-6ba4-4908-a4f9-a003c29983e6",
   "metadata": {
    "tags": []
   },
   "outputs": [],
   "source": [
    "%openad rxn predict retro {smiles} using (max_steps=5) rich use cache"
   ]
  },
  {
   "cell_type": "markdown",
   "id": "e69d1d35-2e0d-4da3-abaf-925692d7f3ec",
   "metadata": {},
   "source": [
    "### Returning data\n",
    "Because a reaction tree is not linear, the data is returned in JSON format by default.\n",
    "\n",
    "If you wish to process your data in a table instead, you can use the `return df` clause to request the data as a DataFrame."
   ]
  },
  {
   "cell_type": "code",
   "execution_count": null,
   "id": "015e9872-3a60-4582-b06e-c132683c6af9",
   "metadata": {
    "tags": []
   },
   "outputs": [],
   "source": [
    "# Return data as JSON\n",
    "json_data = %openadd rxn predict retro {smiles} using (max_steps=5) use cache\n",
    "json_data"
   ]
  },
  {
   "cell_type": "code",
   "execution_count": null,
   "id": "22fec528-68eb-44b1-ac14-70d351210852",
   "metadata": {
    "tags": []
   },
   "outputs": [],
   "source": [
    "# Return data as DataFrame\n",
    "df = %openadd rxn predict retro {smiles} using (max_steps=5) use cache return df\n",
    "df"
   ]
  },
  {
   "cell_type": "markdown",
   "id": "95e3d699-abff-4d79-adde-ebfd94c6f420",
   "metadata": {
    "tags": []
   },
   "source": [
    "## Interpreting Recipes"
   ]
  },
  {
   "cell_type": "markdown",
   "id": "961c4f1c",
   "metadata": {},
   "source": [
    "RXN also lets you interpret a textual description of a process for performing a chemical reaction and spit it back as a set of defined steps.\n",
    "\n",
    "#### From a paragraph\n",
    "\n",
    "    rxn interpret recipe '<recipe>'"
   ]
  },
  {
   "cell_type": "code",
   "execution_count": null,
   "id": "87dffbe7-e832-4205-abdc-dabb7b987805",
   "metadata": {
    "tags": []
   },
   "outputs": [],
   "source": [
    "# Interpret recipe from a text paragraph\n",
    "%openad rxn interpret recipe 'To a stirred solution of 7-(difluoromethylsulfonyl)-4-fluoro-indan-1-one \\\n",
    "(110 mg, 0.42 mmol) in methanol (4 mL) was added sodium borohydride (24 mg, 0.62 mmol). \\\n",
    "The reaction mixture was stirred at ambient temperature for 1 hour.'"
   ]
  },
  {
   "cell_type": "markdown",
   "id": "0456a668-237c-4554-a751-5c5e1bfbf3eb",
   "metadata": {},
   "source": [
    "#### From a file\n",
    "    \n",
    "    rxn interpret recipe '<recipe.txt>'"
   ]
  },
  {
   "cell_type": "markdown",
   "id": "2f4be114-1060-4fdf-8db1-674e0ed4d562",
   "metadata": {},
   "source": [
    "For the purpose of this demo, we'll store a `rxn_demo_recipe.txt` file in your workspace."
   ]
  },
  {
   "cell_type": "code",
   "execution_count": null,
   "id": "b30be6db-d279-47ab-ab84-aff8837b0182",
   "metadata": {
    "tags": []
   },
   "outputs": [],
   "source": [
    "# Prep\n",
    "cmd_pointer = %openadd cmd_pointer\n",
    "workspace_path = cmd_pointer.workspace_path()\n",
    "recipe_file_path = f\"{workspace_path}/rxn_demo_recipe.txt\"\n",
    "\n",
    "recipe = \"To a stirred solution of 7-(difluoromethylsulfonyl)-4-fluoro-indan-1-one \\\n",
    "(110 mg, 0.42 mmol) in methanol (4 mL) was added sodium borohydride (24 mg, 0.62 mmol). \\\n",
    "The reaction mixture was stirred at ambient temperature for 1 hour.\"\n",
    "\n",
    "# Store recipe in a text file in your workspace\n",
    "with open(recipe_file_path, \"w\") as file:\n",
    "    _ = file.write(recipe);"
   ]
  },
  {
   "cell_type": "code",
   "execution_count": null,
   "id": "0548c900-5646-44d0-ad2f-7be89f33c518",
   "metadata": {
    "tags": []
   },
   "outputs": [],
   "source": [
    "# Inspect the file we just created\n",
    "%cat {recipe_file_path}"
   ]
  },
  {
   "cell_type": "code",
   "execution_count": null,
   "id": "0a491c3a-2c92-4bb3-b8c6-d4b3f1abe409",
   "metadata": {
    "tags": []
   },
   "outputs": [],
   "source": [
    "# Interpret recipe from a text file\n",
    "%openad rxn interpret recipe 'rxn_demo_recipe.txt'"
   ]
  },
  {
   "cell_type": "markdown",
   "id": "a712df4d-7832-461a-a77b-5f5fc567f557",
   "metadata": {},
   "source": [
    "## Enriching your Molecules with RXN Results"
   ]
  },
  {
   "cell_type": "markdown",
   "id": "35915f45-b8f8-4297-a82d-5fc76b9f5756",
   "metadata": {},
   "source": [
    "After running an RXN query, you can add the results to the related molecules in your molecule working set.\n",
    "\n",
    "    enrich molecules with analysis\n",
    "\n",
    "Commands that are supported by this functionality:\n",
    "- `rxn predict retrosynthesis ...`\n",
    "- `rxn predict reaction(s) ...`"
   ]
  },
  {
   "cell_type": "code",
   "execution_count": null,
   "id": "e4570358-dadb-4319-8114-fbd5ebe1cef3",
   "metadata": {
    "tags": []
   },
   "outputs": [],
   "source": [
    "# Clear any previously stored results\n",
    "%openad clear analysis cache\n",
    "\n",
    "# Empty your molecule working set\n",
    "%openad clear mols"
   ]
  },
  {
   "cell_type": "code",
   "execution_count": null,
   "id": "101cabec-3110-4914-854f-0556a6da2712",
   "metadata": {
    "tags": []
   },
   "outputs": [],
   "source": [
    "# Run retrosynthesis query (using %openadd to skip the printout)\n",
    "smiles = \"CC(C)(c1ccccn1)C(CC(=O)O)Nc1nc(-c2c[nH]c3ncc(Cl)cc23)c(C#N)cc1F\"\n",
    "_ = %openadd rxn predict retro '{smiles}' using (max_steps=5)\n",
    "\n",
    "# Add the relevant molecule to your molecule working set (MWS)\n",
    "%openad add molecule {smiles}\n",
    "\n",
    "# Enrich the MWS with the RXN result\n",
    "%openad enrich molecules with analysis\n",
    "\n",
    "# Display the molecule to see the result (scroll down to analysis).\n",
    "# From here you can export the molecule to a new file.\n",
    "%openad show molecule {smiles}"
   ]
  }
 ],
 "metadata": {
  "kernelspec": {
   "display_name": "ad-venv",
   "language": "python",
   "name": "ad-venv"
  },
  "language_info": {
   "codemirror_mode": {
    "name": "ipython",
    "version": 3
   },
   "file_extension": ".py",
   "mimetype": "text/x-python",
   "name": "python",
   "nbconvert_exporter": "python",
   "pygments_lexer": "ipython3",
   "version": "3.11.7"
  }
 },
 "nbformat": 4,
 "nbformat_minor": 5
}
