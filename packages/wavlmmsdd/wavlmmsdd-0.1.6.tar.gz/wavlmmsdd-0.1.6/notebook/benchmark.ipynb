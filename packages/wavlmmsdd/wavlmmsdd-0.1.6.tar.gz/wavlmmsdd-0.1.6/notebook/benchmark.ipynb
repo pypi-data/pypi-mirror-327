{
 "cells": [
  {
   "metadata": {
    "ExecuteTime": {
     "end_time": "2025-01-24T10:20:43.328707Z",
     "start_time": "2025-01-24T10:20:43.327088Z"
    }
   },
   "cell_type": "code",
   "source": "",
   "id": "735410f22ec13a65",
   "outputs": [],
   "execution_count": null
  }
 ],
 "metadata": {
  "kernelspec": {
   "display_name": "Python 3",
   "language": "python",
   "name": "python3"
  },
  "language_info": {
   "codemirror_mode": {
    "name": "ipython",
    "version": 2
   },
   "file_extension": ".py",
   "mimetype": "text/x-python",
   "name": "python",
   "nbconvert_exporter": "python",
   "pygments_lexer": "ipython2",
   "version": "2.7.6"
  }
 },
 "nbformat": 4,
 "nbformat_minor": 5
}
