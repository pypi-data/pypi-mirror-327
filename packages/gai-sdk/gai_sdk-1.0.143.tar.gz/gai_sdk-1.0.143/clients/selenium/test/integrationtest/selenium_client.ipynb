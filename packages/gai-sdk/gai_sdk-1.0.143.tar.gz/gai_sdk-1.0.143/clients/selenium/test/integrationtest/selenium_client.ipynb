{
 "cells": [
  {
   "cell_type": "markdown",
   "metadata": {},
   "source": [
    "### Search"
   ]
  },
  {
   "cell_type": "code",
   "execution_count": 1,
   "metadata": {},
   "outputs": [
    {
     "name": "stderr",
     "output_type": "stream",
     "text": [
      "\u001b[41m\u001b[30mERROR   \u001b[0m \u001b[31mhttp_utils.http_post_async: 500: {'code': 'unknown', 'message': 'Internal Server Error'}\u001b[0m\n"
     ]
    },
    {
     "ename": "ApiException",
     "evalue": "500: {'code': 'unknown', 'message': 'Internal Server Error'}",
     "output_type": "error",
     "traceback": [
      "\u001b[0;31m---------------------------------------------------------------------------\u001b[0m",
      "\u001b[0;31mApiException\u001b[0m                              Traceback (most recent call last)",
      "Cell \u001b[0;32mIn[1], line 11\u001b[0m\n\u001b[1;32m      1\u001b[0m \u001b[38;5;28;01mfrom\u001b[39;00m \u001b[38;5;21;01mgai\u001b[39;00m\u001b[38;5;21;01m.\u001b[39;00m\u001b[38;5;21;01mselenium\u001b[39;00m\u001b[38;5;21;01m.\u001b[39;00m\u001b[38;5;21;01mclient\u001b[39;00m \u001b[38;5;28;01mimport\u001b[39;00m SeleniumClient\n\u001b[1;32m      3\u001b[0m selenium_client \u001b[38;5;241m=\u001b[39m SeleniumClient(config\u001b[38;5;241m=\u001b[39m{\n\u001b[1;32m      4\u001b[0m     \u001b[38;5;124m\"\u001b[39m\u001b[38;5;124mtype\u001b[39m\u001b[38;5;124m\"\u001b[39m: \u001b[38;5;124m\"\u001b[39m\u001b[38;5;124mscraper\u001b[39m\u001b[38;5;124m\"\u001b[39m,\n\u001b[1;32m      5\u001b[0m     \u001b[38;5;124m\"\u001b[39m\u001b[38;5;124mengine\u001b[39m\u001b[38;5;124m\"\u001b[39m: \u001b[38;5;124m\"\u001b[39m\u001b[38;5;124mselenium\u001b[39m\u001b[38;5;124m\"\u001b[39m,\n\u001b[0;32m   (...)\u001b[0m\n\u001b[1;32m      9\u001b[0m     \u001b[38;5;124m\"\u001b[39m\u001b[38;5;124murl\u001b[39m\u001b[38;5;124m\"\u001b[39m: \u001b[38;5;124m\"\u001b[39m\u001b[38;5;124mhttp://localhost:12028/api/v1\u001b[39m\u001b[38;5;124m\"\u001b[39m\n\u001b[1;32m     10\u001b[0m })\n\u001b[0;32m---> 11\u001b[0m result \u001b[38;5;241m=\u001b[39m \u001b[38;5;28;01mawait\u001b[39;00m selenium_client\u001b[38;5;241m.\u001b[39msearch(query\u001b[38;5;241m=\u001b[39m\u001b[38;5;124m\"\u001b[39m\u001b[38;5;124mBest Chicken Rice in Singapore\u001b[39m\u001b[38;5;124m\"\u001b[39m,n_results\u001b[38;5;241m=\u001b[39m\u001b[38;5;241m5\u001b[39m)\n\u001b[1;32m     12\u001b[0m \u001b[38;5;28;01mfor\u001b[39;00m r \u001b[38;5;129;01min\u001b[39;00m result\u001b[38;5;241m.\u001b[39mresult:\n\u001b[1;32m     13\u001b[0m     \u001b[38;5;28mprint\u001b[39m(r\u001b[38;5;241m.\u001b[39mtitle\u001b[38;5;241m+\u001b[39m\u001b[38;5;124m\"\u001b[39m\u001b[38;5;124m - \u001b[39m\u001b[38;5;124m\"\u001b[39m\u001b[38;5;241m+\u001b[39mr\u001b[38;5;241m.\u001b[39mlink)\n",
      "File \u001b[0;32m~/github/kakkoii1337/gai-sdk/clients/selenium/src/gai/selenium/client/selenium_client.py:33\u001b[0m, in \u001b[0;36mSeleniumClient.search\u001b[0;34m(self, query, n_results, period)\u001b[0m\n\u001b[1;32m     31\u001b[0m url \u001b[38;5;241m=\u001b[39m \u001b[38;5;124mf\u001b[39m\u001b[38;5;124m'\u001b[39m\u001b[38;5;132;01m{\u001b[39;00m\u001b[38;5;28mself\u001b[39m\u001b[38;5;241m.\u001b[39mconfig\u001b[38;5;241m.\u001b[39murl\u001b[38;5;132;01m}\u001b[39;00m\u001b[38;5;124m/search\u001b[39m\u001b[38;5;124m'\u001b[39m\n\u001b[1;32m     32\u001b[0m params \u001b[38;5;241m=\u001b[39m SearchRequest(query\u001b[38;5;241m=\u001b[39mquery, n_results\u001b[38;5;241m=\u001b[39mn_results, period\u001b[38;5;241m=\u001b[39mperiod)\u001b[38;5;241m.\u001b[39mmodel_dump(exclude_none\u001b[38;5;241m=\u001b[39m\u001b[38;5;28;01mTrue\u001b[39;00m)\n\u001b[0;32m---> 33\u001b[0m results \u001b[38;5;241m=\u001b[39m \u001b[38;5;28;01mawait\u001b[39;00m http_post_async(url, data\u001b[38;5;241m=\u001b[39mparams)\n\u001b[1;32m     34\u001b[0m \u001b[38;5;28;01mreturn\u001b[39;00m SearchResponse(\u001b[38;5;241m*\u001b[39m\u001b[38;5;241m*\u001b[39mresults\u001b[38;5;241m.\u001b[39mjson())\n",
      "File \u001b[0;32m~/github/kakkoii1337/gai-sdk/gai-lib/src/gai/lib/common/http_utils.py:206\u001b[0m, in \u001b[0;36mhttp_post_async\u001b[0;34m(url, data, files, timeout)\u001b[0m\n\u001b[1;32m    204\u001b[0m         \u001b[38;5;28;01mreturn\u001b[39;00m response\n\u001b[1;32m    205\u001b[0m     \u001b[38;5;28;01melse\u001b[39;00m:\n\u001b[0;32m--> 206\u001b[0m         \u001b[38;5;28;01mawait\u001b[39;00m _handle_failed_response_async(response)\n\u001b[1;32m    208\u001b[0m \u001b[38;5;28;01mexcept\u001b[39;00m httpx\u001b[38;5;241m.\u001b[39mConnectError \u001b[38;5;28;01mas\u001b[39;00m e:\n\u001b[1;32m    209\u001b[0m     \u001b[38;5;28;01mraise\u001b[39;00m \u001b[38;5;167;01mException\u001b[39;00m(\u001b[38;5;124m\"\u001b[39m\u001b[38;5;124mConnection Error. Is the service Running?\u001b[39m\u001b[38;5;124m\"\u001b[39m)\n",
      "File \u001b[0;32m~/github/kakkoii1337/gai-sdk/gai-lib/src/gai/lib/common/http_utils.py:172\u001b[0m, in \u001b[0;36m_handle_failed_response_async\u001b[0;34m(response)\u001b[0m\n\u001b[1;32m    170\u001b[0m \u001b[38;5;28;01melse\u001b[39;00m:\n\u001b[1;32m    171\u001b[0m     error_data \u001b[38;5;241m=\u001b[39m response\u001b[38;5;241m.\u001b[39mtext\n\u001b[0;32m--> 172\u001b[0m \u001b[43m_handle_error_data\u001b[49m\u001b[43m(\u001b[49m\u001b[43merror_data\u001b[49m\u001b[43m,\u001b[49m\u001b[43m \u001b[49m\u001b[43mresponse\u001b[49m\u001b[38;5;241;43m.\u001b[39;49m\u001b[43mstatus_code\u001b[49m\u001b[43m)\u001b[49m\n",
      "File \u001b[0;32m~/github/kakkoii1337/gai-sdk/gai-lib/src/gai/lib/common/http_utils.py:30\u001b[0m, in \u001b[0;36m_handle_error_data\u001b[0;34m(error_data, status_code)\u001b[0m\n\u001b[1;32m     28\u001b[0m error_code \u001b[38;5;241m=\u001b[39m \u001b[38;5;124m\"\u001b[39m\u001b[38;5;124munknown\u001b[39m\u001b[38;5;124m\"\u001b[39m\n\u001b[1;32m     29\u001b[0m \u001b[38;5;28;01mif\u001b[39;00m \u001b[38;5;28misinstance\u001b[39m(error_data, \u001b[38;5;28mstr\u001b[39m):\n\u001b[0;32m---> 30\u001b[0m     \u001b[38;5;28;01mraise\u001b[39;00m ApiException(status_code\u001b[38;5;241m=\u001b[39mstatus_code, code\u001b[38;5;241m=\u001b[39merror_code, message\u001b[38;5;241m=\u001b[39merror_data)\n\u001b[1;32m     32\u001b[0m \u001b[38;5;28;01mif\u001b[39;00m \u001b[38;5;124m'\u001b[39m\u001b[38;5;124mdetail\u001b[39m\u001b[38;5;124m'\u001b[39m \u001b[38;5;129;01min\u001b[39;00m error_data:\n\u001b[1;32m     33\u001b[0m     \u001b[38;5;28;01mif\u001b[39;00m \u001b[38;5;28misinstance\u001b[39m(error_data[\u001b[38;5;124m'\u001b[39m\u001b[38;5;124mdetail\u001b[39m\u001b[38;5;124m'\u001b[39m], \u001b[38;5;28mstr\u001b[39m):\n",
      "\u001b[0;31mApiException\u001b[0m: 500: {'code': 'unknown', 'message': 'Internal Server Error'}"
     ]
    }
   ],
   "source": [
    "from gai.selenium.client import SeleniumClient\n",
    "\n",
    "selenium_client = SeleniumClient(config={\n",
    "    \"type\": \"scraper\",\n",
    "    \"engine\": \"selenium\",\n",
    "    \"model\": \"selenium\",\n",
    "    \"name\": \"gai-selenium\",\n",
    "    \"client_type\": \"gai\",\n",
    "    \"url\": \"http://localhost:12028/api/v1\"\n",
    "})\n",
    "result = await selenium_client.search(query=\"Best Chicken Rice in Singapore\",n_results=5)\n",
    "for r in result.result:\n",
    "    print(r.title+\" - \"+r.link)\n",
    "    print(r.parsed_text+\"\\n\")"
   ]
  },
  {
   "cell_type": "markdown",
   "metadata": {},
   "source": [
    "---\n",
    "\n",
    "### Scrape"
   ]
  },
  {
   "cell_type": "markdown",
   "metadata": {},
   "source": [
    "without cache"
   ]
  },
  {
   "cell_type": "code",
   "execution_count": 7,
   "metadata": {},
   "outputs": [
    {
     "name": "stdout",
     "output_type": "stream",
     "text": [
      "source:https://www.asiaone.com/world/trump-administration-says-gulf-america-name-change-now-official\n",
      "title:https://www.asiaone.com/world/trump-administration-says-gulf-america-name-change-now-official\n",
      "summary:The Trump administration's Interior Department said on Friday (Jan 24) it had officially changed the name of the Gulf of Mexico to the Gulf of America, and the Alaskan peak Denali to Mount McKinley.\n",
      "US President Donald Trump ordered the name changes as part of a flurry of executive actions hours after taking office on Monday, making good on a campaign promise.\n",
      "\"As directed by the President, the Gulf of Mexico will now officially be known as the Gulf of America and North America's highest peak will once again bear the name Mount McKinley,\" the Interior Department said in a statement.\n",
      "While Trump can direct the US Geological Survey to change how it denotes the Gulf of Mexico, such a name change would be unlikely to be recognised internationally.\n",
      "Mexican President Claudia Sheinbaum earlier this month jokingly suggested North America, including the United States, be renamed \"Mexican America\" — an historic name used on an early map of the region.\n",
      "keywords:president,states,mckinley,department,change,administration,mexico,trump,peak,official,america,gulf,mount\n",
      "categories:\n",
      "text:Trump administration says 'Gulf of America' name change now official, World News - AsiaOne ··· Latest ··· News ··· Entertainment ··· Lifestyle ··· Video ··· Digicult ··· EarthOne ··· More ··· world Tr...\n"
     ]
    }
   ],
   "source": [
    "from gai.selenium.client import SeleniumClient\n",
    "\n",
    "def display_parsed(result):\n",
    "    print(\"source:\"+result.source)\n",
    "    print(\"title:\"+result.title)\n",
    "    print(\"summary:\"+result.summary)\n",
    "    print(\"keywords:\"+\",\".join(result.keywords))\n",
    "    print(\"categories:\"+\",\".join(result.categories))\n",
    "    print(\"text:\"+result.text[:200]+\"...\")\n",
    "\n",
    "selenium_client = SeleniumClient()\n",
    "result = await selenium_client.scrape(root_url=\"https://www.asiaone.com/world/trump-administration-says-gulf-america-name-change-now-official\",force=True)\n",
    "display_parsed(result)"
   ]
  },
  {
   "cell_type": "markdown",
   "metadata": {},
   "source": [
    "with cache"
   ]
  },
  {
   "cell_type": "code",
   "execution_count": 8,
   "metadata": {},
   "outputs": [
    {
     "name": "stdout",
     "output_type": "stream",
     "text": [
      "source:https://www.asiaone.com/world/trump-administration-says-gulf-america-name-change-now-official\n",
      "title:https://www.asiaone.com/world/trump-administration-says-gulf-america-name-change-now-official\n",
      "summary:The Trump administration's Interior Department said on Friday (Jan 24) it had officially changed the name of the Gulf of Mexico to the Gulf of America, and the Alaskan peak Denali to Mount McKinley.\n",
      "US President Donald Trump ordered the name changes as part of a flurry of executive actions hours after taking office on Monday, making good on a campaign promise.\n",
      "\"As directed by the President, the Gulf of Mexico will now officially be known as the Gulf of America and North America's highest peak will once again bear the name Mount McKinley,\" the Interior Department said in a statement.\n",
      "While Trump can direct the US Geological Survey to change how it denotes the Gulf of Mexico, such a name change would be unlikely to be recognised internationally.\n",
      "Mexican President Claudia Sheinbaum earlier this month jokingly suggested North America, including the United States, be renamed \"Mexican America\" — an historic name used on an early map of the region.\n",
      "keywords:president,states,mckinley,department,change,administration,mexico,trump,peak,official,america,gulf,mount\n",
      "categories:\n",
      "text:Trump administration says 'Gulf of America' name change now official, World News - AsiaOne ··· Latest ··· News ··· Entertainment ··· Lifestyle ··· Video ··· Digicult ··· EarthOne ··· More ··· world Tr...\n"
     ]
    }
   ],
   "source": [
    "from gai.selenium.client import SeleniumClient\n",
    "\n",
    "selenium_client = SeleniumClient()\n",
    "result = await selenium_client.scrape(root_url=\"https://www.asiaone.com/world/trump-administration-says-gulf-america-name-change-now-official\")\n",
    "display_parsed(result)"
   ]
  },
  {
   "cell_type": "markdown",
   "metadata": {},
   "source": [
    "---\n",
    "\n",
    "### Run Crawl Job"
   ]
  },
  {
   "cell_type": "markdown",
   "metadata": {},
   "source": [
    "without cache"
   ]
  },
  {
   "cell_type": "code",
   "execution_count": 9,
   "metadata": {},
   "outputs": [
    {
     "name": "stdout",
     "output_type": "stream",
     "text": [
      "job_id='acc40af3-5dc7-4cb1-bfcf-419a64091837' root_url='https://www.asiaone.com/world/trump-administration-says-gulf-america-name-change-now-official' max_depth=0 max_count=1 include_external=False status='started' result={}\n"
     ]
    }
   ],
   "source": [
    "from gai.selenium.client import SeleniumClient\n",
    "\n",
    "selenium_client = SeleniumClient()\n",
    "result = await selenium_client.crawl(\n",
    "    root_url=\"https://www.asiaone.com/world/trump-administration-says-gulf-america-name-change-now-official\",\n",
    "    max_depth=0, \n",
    "    max_count=1,\n",
    "    force=True,\n",
    "    parser_type=\"hybrid\")\n",
    "print(result)"
   ]
  },
  {
   "cell_type": "markdown",
   "metadata": {},
   "source": [
    "### Check Crawl Job"
   ]
  },
  {
   "cell_type": "code",
   "execution_count": 10,
   "metadata": {},
   "outputs": [
    {
     "name": "stdout",
     "output_type": "stream",
     "text": [
      "analyzing\n",
      "0%\n",
      "analyzing(0%)\n",
      "analyzing(0%)\n",
      "analyzing(0%)\n",
      "analyzing(0%)\n",
      "analyzing(0%)\n",
      "analyzing(0%)\n",
      "completed(100%)\n"
     ]
    }
   ],
   "source": [
    "from gai.selenium.client import SeleniumClient\n",
    "import time\n",
    "\n",
    "selenium_client = SeleniumClient()\n",
    "job = await selenium_client.get_crawl_job(job_id=result.job_id)\n",
    "print(job.status)\n",
    "print(job.result[\"progress\"])\n",
    "\n",
    "while job.status != \"completed\":\n",
    "    time.sleep(60)\n",
    "    job = await selenium_client.get_crawl_job(job_id=result.job_id)\n",
    "    progress = job.result[\"progress\"]\n",
    "    print(f\"{job.status}({progress})\")"
   ]
  },
  {
   "cell_type": "markdown",
   "metadata": {},
   "source": [
    "### Check Crawled HTML"
   ]
  },
  {
   "cell_type": "code",
   "execution_count": 11,
   "metadata": {},
   "outputs": [
    {
     "name": "stdout",
     "output_type": "stream",
     "text": [
      "<html lang=\"en\" style=\"overflow-y: auto;\"><head><script type=\"text/javascript\" async=\"\" src=\"https://sb.scorecardresearch.com/c2/6288331/cs.js\"></script><script async=\"\" src=\"https://www.clarity.ms/s/...\n"
     ]
    }
   ],
   "source": [
    "from gai.selenium.client import SeleniumClient\n",
    "\n",
    "selenium_client = SeleniumClient()\n",
    "result = await selenium_client.get_html_text(root_url=\"https://www.asiaone.com/world/trump-administration-says-gulf-america-name-change-now-official\")\n",
    "print(result[\"html\"][:200]+\"...\")"
   ]
  },
  {
   "cell_type": "markdown",
   "metadata": {},
   "source": [
    "### Check Parsed Response"
   ]
  },
  {
   "cell_type": "code",
   "execution_count": 12,
   "metadata": {},
   "outputs": [
    {
     "name": "stdout",
     "output_type": "stream",
     "text": [
      "source:https://www.asiaone.com/world/trump-administration-says-gulf-america-name-change-now-official\n",
      "title:The US President's Inauguration Ball: A Look Back\n",
      "summary:The Trump administration's Interior Department said on Friday (Jan 24) it had officially changed the name of the Gulf of Mexico to the Gulf of America, and the Alaskan peak Denali to Mount McKinley.\n",
      "US President Donald Trump ordered the name changes as part of a flurry of executive actions hours after taking office on Monday, making good on a campaign promise.\n",
      "\"As directed by the President, the Gulf of Mexico will now officially be known as the Gulf of America and North America's highest peak will once again bear the name Mount McKinley,\" the Interior Department said in a statement.\n",
      "While Trump can direct the US Geological Survey to change how it denotes the Gulf of Mexico, such a name change would be unlikely to be recognised internationally.\n",
      "Mexican President Claudia Sheinbaum earlier this month jokingly suggested North America, including the United States, be renamed \"Mexican America\" — an historic name used on an early map of the region.\n",
      "keywords:Snoop Dogg, Donald Trump, Inauguration Ball\n",
      "categories:Entertainment\n",
      "text:Trump administration says 'Gulf of America' name change now official, World News - AsiaOne ··· Latest ··· News ··· Entertainment ··· Lifestyle ··· Video ··· Digicult ··· EarthOne ··· More ··· world Tr...\n"
     ]
    }
   ],
   "source": [
    "from gai.selenium.client import SeleniumClient\n",
    "\n",
    "selenium_client = SeleniumClient()\n",
    "result = await selenium_client.get_parsed_text(root_url=\"https://www.asiaone.com/world/trump-administration-says-gulf-america-name-change-now-official\")\n",
    "display_parsed(result)\n"
   ]
  },
  {
   "cell_type": "markdown",
   "metadata": {},
   "source": [
    "---\n",
    "\n",
    "with cache"
   ]
  },
  {
   "cell_type": "code",
   "execution_count": 13,
   "metadata": {},
   "outputs": [
    {
     "name": "stdout",
     "output_type": "stream",
     "text": [
      "job_id='1d1afc71-e512-4518-8379-8c2b7622b0c9' root_url='https://www.asiaone.com/world/trump-administration-says-gulf-america-name-change-now-official' max_depth=0 max_count=1 include_external=False status='started' result={}\n",
      "completed\n",
      "source:https://www.asiaone.com/world/trump-administration-says-gulf-america-name-change-now-official\n",
      "title:The US President's Inauguration Ball: A Look Back\n",
      "summary:The Trump administration's Interior Department said on Friday (Jan 24) it had officially changed the name of the Gulf of Mexico to the Gulf of America, and the Alaskan peak Denali to Mount McKinley.\n",
      "US President Donald Trump ordered the name changes as part of a flurry of executive actions hours after taking office on Monday, making good on a campaign promise.\n",
      "\"As directed by the President, the Gulf of Mexico will now officially be known as the Gulf of America and North America's highest peak will once again bear the name Mount McKinley,\" the Interior Department said in a statement.\n",
      "While Trump can direct the US Geological Survey to change how it denotes the Gulf of Mexico, such a name change would be unlikely to be recognised internationally.\n",
      "Mexican President Claudia Sheinbaum earlier this month jokingly suggested North America, including the United States, be renamed \"Mexican America\" — an historic name used on an early map of the region.\n",
      "keywords:Snoop Dogg, Donald Trump, Inauguration Ball\n",
      "categories:Entertainment\n",
      "text:Trump administration says 'Gulf of America' name change now official, World News - AsiaOne ··· Latest ··· News ··· Entertainment ··· Lifestyle ··· Video ··· Digicult ··· EarthOne ··· More ··· world Tr...\n"
     ]
    }
   ],
   "source": [
    "from gai.selenium.client import SeleniumClient\n",
    "import time\n",
    "\n",
    "selenium_client = SeleniumClient()\n",
    "result = await selenium_client.crawl(\n",
    "    root_url=\"https://www.asiaone.com/world/trump-administration-says-gulf-america-name-change-now-official\",\n",
    "    max_depth=0, \n",
    "    max_count=1,\n",
    "    parser_type=\"hybrid\")\n",
    "print(result)\n",
    "while result.status != \"completed\":\n",
    "    result = await selenium_client.get_crawl_job(job_id=result.job_id)\n",
    "    print(result.status)\n",
    "    time.sleep(1)\n",
    "result = await selenium_client.get_parsed_text(root_url=\"https://www.asiaone.com/world/trump-administration-says-gulf-america-name-change-now-official\")\n",
    "\n",
    "def display_parsed(result):\n",
    "    print(\"source:\"+result.source)\n",
    "    print(\"title:\"+result.title)\n",
    "    print(\"summary:\"+result.summary)\n",
    "    print(\"keywords:\"+\",\".join(result.keywords))\n",
    "    print(\"categories:\"+\",\".join(result.categories))\n",
    "    print(\"text:\"+result.text[:200]+\"...\")\n",
    "\n",
    "display_parsed(result)"
   ]
  }
 ],
 "metadata": {
  "kernelspec": {
   "display_name": ".venv",
   "language": "python",
   "name": "python3"
  },
  "language_info": {
   "codemirror_mode": {
    "name": "ipython",
    "version": 3
   },
   "file_extension": ".py",
   "mimetype": "text/x-python",
   "name": "python",
   "nbconvert_exporter": "python",
   "pygments_lexer": "ipython3",
   "version": "3.10.12"
  }
 },
 "nbformat": 4,
 "nbformat_minor": 2
}
