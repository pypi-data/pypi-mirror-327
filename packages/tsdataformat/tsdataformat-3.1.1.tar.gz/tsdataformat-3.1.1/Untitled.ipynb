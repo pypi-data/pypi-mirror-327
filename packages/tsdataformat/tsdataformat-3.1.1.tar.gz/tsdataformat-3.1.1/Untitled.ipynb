{
 "cells": [
  {
   "cell_type": "code",
   "execution_count": 1,
   "metadata": {},
   "outputs": [
    {
     "name": "stdout",
     "output_type": "stream",
     "text": [
      "\n",
      "filetype\n",
      "project\n",
      "description here\n",
      "ISO8601 timestamp\tNA\tNA\tNA\tNA\tNA\tNA\tNA\tNA\tNA\tNA\tNA\tNA\tNA\tNA\tNA\tNA\tNA\tNA\tNA\tNA\tNA\tNA\tNA\tNA\tNA\tNA\tNA\n",
      "time\tfloat\tfloat\tfloat\tfloat\tfloat\tfloat\tfloat\tfloat\tfloat\tfloat\ttext\ttext\ttext\ttext\tfloat\tboolean\ttext\ttext\tfloat\tboolean\tboolean\ttext\tfloat\tfloat\ttext\ttext\tfloat\n",
      "NA\tNA\tNA\tNA\tNA\tNA\tNA\tNA\tNA\tNA\tNA\tNA\tNA\tNA\tNA\tNA\tNA\tNA\tNA\tNA\tNA\tNA\tNA\tNA\tNA\tNA\tNA\tNA\n",
      "time\tPMT1\tPMT2\tPMT3\tPMT4\tPMT5\tPMT6\tPMT7\tPMT8\tPMT_ALL\tcalibration\tcruise_name\tinlet_fault\tinstrument_operator\tinstrument_serial\tlaser\tlaser_alignment\tnote\tpump_fault\tpump_voltage_change\tstream_alignment\tstream_pressure_locked\tsyringe_pump_fault\tsyringe_pump_injection\ttrigger_level\ttrigger_source\tvessel\twrite_evt\n",
      "2015-03-14T00:26:52+00:00\tNA\tNA\tNA\tNA\tNA\tNA\tNA\tNA\tNA\t0\tNA\tNA\tNA\tNA\tNA\tNA\tNA\tNA\tNA\tNA\tNA\tNA\tNA\tNA\tNA\tNA\tNA\n",
      "2015-03-14T00:26:52+00:00\tNA\tNA\tNA\tNA\tNA\tNA\tNA\tNA\tNA\tNA\tNA\tNA\tNA\tNA\tNA\tNA\tNA\tNA\tNA\tNA\tNA\tNA\tNA\tNA\tNA\tNA\t0\n",
      "2015-03-15T00:26:52+00:00\tNA\tNA\tNA\tNA\tNA\tNA\tNA\tNA\tNA\tNA\tNA\tNA\tNA\tNA\tNA\tNA\tNA\tNA\tNA\tTRUE\tNA\tNA\tNA\tNA\tNA\tNA\tNA\n",
      "2015-03-16T00:26:52+00:00\tNA\tNA\tNA\tNA\tNA\tNA\tNA\tNA\tNA\tNA\tNA\tNA\tNA\tNA\tNA\tNA\tpossible coelacanth in the line?\tNA\tNA\tNA\tNA\tNA\tNA\tNA\tNA\tNA\tNA\n",
      "\n"
     ]
    }
   ],
   "source": [
    "answer = \"\"\"\n",
    "filetype\n",
    "project\n",
    "description here\n",
    "ISO8601 timestamp\tNA\tNA\tNA\tNA\tNA\tNA\tNA\tNA\tNA\tNA\tNA\tNA\tNA\tNA\tNA\tNA\tNA\tNA\tNA\tNA\tNA\tNA\tNA\tNA\tNA\tNA\tNA\n",
    "time\tfloat\tfloat\tfloat\tfloat\tfloat\tfloat\tfloat\tfloat\tfloat\tfloat\ttext\ttext\ttext\ttext\tfloat\tboolean\ttext\ttext\tfloat\tboolean\tboolean\ttext\tfloat\tfloat\ttext\ttext\tfloat\n",
    "NA\tNA\tNA\tNA\tNA\tNA\tNA\tNA\tNA\tNA\tNA\tNA\tNA\tNA\tNA\tNA\tNA\tNA\tNA\tNA\tNA\tNA\tNA\tNA\tNA\tNA\tNA\tNA\n",
    "time\tPMT1\tPMT2\tPMT3\tPMT4\tPMT5\tPMT6\tPMT7\tPMT8\tPMT_ALL\tcalibration\tcruise_name\tinlet_fault\tinstrument_operator\tinstrument_serial\tlaser\tlaser_alignment\tnote\tpump_fault\tpump_voltage_change\tstream_alignment\tstream_pressure_locked\tsyringe_pump_fault\tsyringe_pump_injection\ttrigger_level\ttrigger_source\tvessel\twrite_evt\n",
    "2015-03-14T00:26:52+00:00\tNA\tNA\tNA\tNA\tNA\tNA\tNA\tNA\tNA\t0\tNA\tNA\tNA\tNA\tNA\tNA\tNA\tNA\tNA\tNA\tNA\tNA\tNA\tNA\tNA\tNA\tNA\n",
    "2015-03-14T00:26:52+00:00\tNA\tNA\tNA\tNA\tNA\tNA\tNA\tNA\tNA\tNA\tNA\tNA\tNA\tNA\tNA\tNA\tNA\tNA\tNA\tNA\tNA\tNA\tNA\tNA\tNA\tNA\t0\n",
    "2015-03-15T00:26:52+00:00\tNA\tNA\tNA\tNA\tNA\tNA\tNA\tNA\tNA\tNA\tNA\tNA\tNA\tNA\tNA\tNA\tNA\tNA\tNA\tTRUE\tNA\tNA\tNA\tNA\tNA\tNA\tNA\n",
    "2015-03-16T00:26:52+00:00\tNA\tNA\tNA\tNA\tNA\tNA\tNA\tNA\tNA\tNA\tNA\tNA\tNA\tNA\tNA\tNA\tpossible coelacanth in the line?\tNA\tNA\tNA\tNA\tNA\tNA\tNA\tNA\tNA\tNA\n",
    "\"\"\"\n",
    "print(answer)"
   ]
  },
  {
   "cell_type": "code",
   "execution_count": null,
   "metadata": {},
   "outputs": [],
   "source": []
  }
 ],
 "metadata": {
  "kernelspec": {
   "display_name": "Python 3",
   "language": "python",
   "name": "python3"
  },
  "language_info": {
   "codemirror_mode": {
    "name": "ipython",
    "version": 3
   },
   "file_extension": ".py",
   "mimetype": "text/x-python",
   "name": "python",
   "nbconvert_exporter": "python",
   "pygments_lexer": "ipython3",
   "version": "3.8.6"
  }
 },
 "nbformat": 4,
 "nbformat_minor": 4
}
