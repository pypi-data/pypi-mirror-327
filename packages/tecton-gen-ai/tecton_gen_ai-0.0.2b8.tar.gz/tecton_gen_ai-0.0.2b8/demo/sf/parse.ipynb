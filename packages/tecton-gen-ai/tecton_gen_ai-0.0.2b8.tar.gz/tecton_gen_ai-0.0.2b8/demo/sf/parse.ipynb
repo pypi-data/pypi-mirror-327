{
 "cells": [
  {
   "cell_type": "code",
   "execution_count": null,
   "id": "7a27f3e5-902c-4141-aee3-4954020249b5",
   "metadata": {},
   "outputs": [],
   "source": [
    "from unstructured.partition.pdf import partition_pdf\n",
    "\n",
    "# Returns a List[Element] present in the pages of the parsed pdf document\n",
    "elements = partition_pdf(\"wa_rules.pdf\")"
   ]
  },
  {
   "cell_type": "code",
   "execution_count": null,
   "id": "4336968c-687a-4e1f-bde6-36c19bf65874",
   "metadata": {},
   "outputs": [],
   "source": [
    "import json\n",
    "\n",
    "def extract(elements):\n",
    "    key=None\n",
    "    cache = []\n",
    "    for e in elements:\n",
    "        if e.text.startswith(\"RCW 46\"):\n",
    "            parts = e.text.split(\" \",2)\n",
    "            if len(parts)==3:\n",
    "                if cache:\n",
    "                    yield key, \"\\n\".join(cache)\n",
    "                    cache = []\n",
    "                key = parts[0]+\" \"+parts[1]\n",
    "        if key is not None:\n",
    "            cache.append(e.text)\n",
    "    if key is not None:\n",
    "        yield key, \"\\n\".join(cache)\n",
    "\n",
    "with open(\"rules.json\",\"w\") as f:\n",
    "    json.dump(dict(extract(elements)), f)"
   ]
  },
  {
   "cell_type": "code",
   "execution_count": null,
   "id": "0f6cd330-6810-4b51-9d43-e5100eb83092",
   "metadata": {},
   "outputs": [],
   "source": [
    "import json \n",
    "\n",
    "with open(\"rules.json\",\"r\") as f:\n",
    "    data = json.load(f)"
   ]
  },
  {
   "cell_type": "code",
   "execution_count": null,
   "id": "88a32b0f-0a3b-49bc-ad49-2dcde456eebf",
   "metadata": {},
   "outputs": [],
   "source": [
    "from tecton_gen_ai.api import VectorDB\n",
    "\n",
    "vdb = VectorDB(\n",
    "    \"lancedb\",\n",
    "    embedding=\"openai/text-embedding-3-small\",\n",
    "    uri=\"/tmp/lancedb\",\n",
    "    table_name=\"wa_rules\",\n",
    "    mode=\"overwrite\",\n",
    ")"
   ]
  },
  {
   "cell_type": "code",
   "execution_count": null,
   "id": "e2e4fff3-4e74-4c2b-985c-44445bcef218",
   "metadata": {},
   "outputs": [],
   "source": [
    "vdb.ingest(texts=list(data.values()), metadatas=list({\"state\":\"wa\", \"rule_id\":x, \"rule_text\":t} for x, t in data.items()))"
   ]
  },
  {
   "cell_type": "code",
   "execution_count": null,
   "id": "6d2dfaf3-1d22-48ec-aa38-ba816861f120",
   "metadata": {},
   "outputs": [
    {
     "data": {
      "text/plain": [
       "[{'rule_id': 'RCW 46.61.290',\n",
       "  'rule_text': 'RCW 46.61.290 Required position and method of turning at\\nintersections. The driver of a vehicle intending to turn shall do so as follows:\\n(1) Right turns. Both the approach for a right turn and a right turn shall be made as close as practicable to the right-hand curb or edge of the roadway.\\n(2) Left turns. The driver of a vehicle intending to turn left\\nshall approach the turn in the extreme left-hand lane lawfully available to traffic moving in the direction of travel of the vehicle. Whenever practicable the left turn shall be made to the left of the center of the intersection and so as to leave the intersection or other location in the extreme left-hand lane lawfully available to traffic moving in the same direction as the vehicle on the roadway being entered.\\n(3) Two-way left turn lanes. (a) The department of transportation and local authorities in\\ntheir respective jurisdictions may designate a two-way left turn lane on a roadway. A two-way left turn lane is near the center of the roadway set aside for use by vehicles making left turns in either direction from or into the roadway.\\n(b) Two-way left turn lanes shall be designated by distinctive\\nuniform roadway markings. The department of transportation shall\\nCertified on 7/12/2024\\nCombined Chapter 46.61 RCW\\nPage 41\\ndetermine and prescribe standards and specifications governing type, length, width, and positioning of the distinctive permanent markings. The standards and specifications developed shall be filed with the code reviser in accordance with the procedures set forth in the administrative procedure act, chapter 34.05 RCW. On and after July 1, 1971, permanent markings designating a two-way left turn lane shall conform to such standards and specifications.\\n(c) Upon a roadway where a center lane has been provided by\\ndistinctive pavement markings for the use of vehicles turning left from either direction, no vehicles may turn left from any other lane. A vehicle shall not be driven in this center lane for the purpose of overtaking or passing another vehicle proceeding in the same direction. No vehicle may travel further than three hundred feet within the lane. A signal, either electric or manual, for indicating a left turn movement, shall be made at least one hundred feet before the actual left turn movement is made.\\n(4) The department of transportation and local authorities in\\ntheir respective jurisdictions may cause official traffic-control devices to be placed and thereby require and direct that a different course from that specified in this section be traveled by turning vehicles, and when the devices are so placed no driver of a vehicle may turn a vehicle other than as directed and required by the devices. [1997 c 202 s 1. Prior: 1984 c 12 s 1; 1984 c 7 s 68; 1975 c 62 s 28; 1969 ex.s. c 281 s 61; 1965 ex.s. c 155 s 40.]\\nRules of court: Monetary penalty schedule—IRLJ 6.2.\\nSeverability—1975 c 62: See note following RCW 36.75.010.',\n",
       "  'state': 'wa'},\n",
       " {'rule_id': 'RCW 46.61.315',\n",
       "  'rule_text': 'RCW 46.61.315 Method of giving hand and arm signals. All signals herein required given by hand and arm shall be given from the left side of the vehicle in the following manner and such signals shall indicate as follows:\\n(1) Left turn. Hand and arm extended horizontally. (2) Right turn. Hand and arm extended upward. (3) Stop or decrease speed. Hand and arm extended downward.\\n[1965 ex.s. c 155 s 45.]\\nSPECIAL STOPS REQUIRED',\n",
       "  'state': 'wa'},\n",
       " {'rule_id': 'RCW 46.61.070',\n",
       "  'rule_text': 'RCW 46.61.070 Lane-direction-control signals. When lane- direction-control signals are placed over the individual lanes of a street or highway, vehicular traffic may travel in any lane over which a green signal is shown, but shall not enter or travel in any lane over which a red signal is shown. [1965 ex.s. c 155 s 11.]',\n",
       "  'state': 'wa'},\n",
       " {'rule_id': 'RCW 46.61.427',\n",
       "  'rule_text': 'RCW 46.61.427 Slow-moving vehicle to pull off roadway. On a two-lane highway where passing is unsafe because of traffic in the opposite direction or other conditions, a slow moving vehicle, behind which five or more vehicles are formed in a line, shall turn off the roadway wherever sufficient area for a safe turn-out exists, in order to permit the vehicles following to proceed. As used in this section a slow moving vehicle is one which is proceeding at a rate of speed less than the normal flow of traffic at the particular time and place. [1973 c 88 s 1.]',\n",
       "  'state': 'wa'},\n",
       " {'rule_id': 'RCW 46.61.220',\n",
       "  'rule_text': \"RCW 46.61.220 Transit vehicles. (1) The driver of a vehicle shall yield the right-of-way to a transit vehicle traveling in the same direction that has signalled and is reentering the traffic flow. (2) Nothing in this section shall operate to relieve the driver\\nof a transit vehicle from the duty to drive with due regard for the safety of all persons using the roadway. [1993 c 401 s 1.]\\nPEDESTRIANS' RIGHTS AND DUTIES\",\n",
       "  'state': 'wa'}]"
      ]
     },
     "execution_count": null,
     "metadata": {},
     "output_type": "execute_result"
    }
   ],
   "source": [
    "vdb.search(\"left turn\")"
   ]
  },
  {
   "cell_type": "code",
   "execution_count": null,
   "id": "164f9609-8f4f-4619-9116-22889c0b5913",
   "metadata": {},
   "outputs": [],
   "source": [
    "!rm -rf /tmp/lancedb/wa_rules.lance"
   ]
  },
  {
   "cell_type": "code",
   "execution_count": null,
   "id": "ec644b5a-4a2d-4e7e-8e37-202bbaa31ff5",
   "metadata": {},
   "outputs": [],
   "source": []
  }
 ],
 "metadata": {
  "kernelspec": {
   "display_name": "python3",
   "language": "python",
   "name": "python3"
  }
 },
 "nbformat": 4,
 "nbformat_minor": 5
}
