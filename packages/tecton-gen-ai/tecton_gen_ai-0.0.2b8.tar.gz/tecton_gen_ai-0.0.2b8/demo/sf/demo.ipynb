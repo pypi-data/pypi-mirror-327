{
 "cells": [
  {
   "cell_type": "markdown",
   "id": "50165b0d-8c18-4d49-9ecb-d696b9eda636",
   "metadata": {},
   "source": [
    "# Claim Processing\n",
    "\n",
    "* We create a tool to help adjusters process claims with text and image\n",
    "* We will use tecton features to statically and dynamically enrich the context for the LLM\n",
    "* We will retrieve information from a vector db\n",
    "* We will show how to leverage ML models in GenAI workflows\n",
    "\n",
    "**The example claim is a real case, it happened last year, my car was totaled**\n",
    "\n",
    "## Setup"
   ]
  },
  {
   "cell_type": "code",
   "execution_count": null,
   "id": "3999eb0a-da02-4c7a-b322-09d52b9dcdbf",
   "metadata": {},
   "outputs": [],
   "source": [
    "from tecton_gen_ai.testing import set_dev_mode, make_local_batch_feature_view, print_md\n",
    "from tecton_gen_ai.testing.interactive import qna\n",
    "from tecton_gen_ai.api import Agent, prompt, tool\n",
    "\n",
    "set_dev_mode()\n",
    "llm = {\"model\":\"openai/gpt-4o\", \"temperature\":0}"
   ]
  },
  {
   "cell_type": "markdown",
   "id": "5d9e6b31-4183-4293-b77b-25f63d63e788",
   "metadata": {},
   "source": [
    "## Build a naive AI agent"
   ]
  },
  {
   "cell_type": "code",
   "execution_count": null,
   "id": "030ecc16-6984-4ea2-bd13-5a7cbfeb828d",
   "metadata": {},
   "outputs": [],
   "source": [
    "agent = Agent(\n",
    "    \"agent\",\n",
    "    prompt = \"You will evaluate a car accident based on the report from someone involved, you need to generate a detailed report for an adjuster to make further decisions\",\n",
    "    llm = llm,\n",
    ")\n",
    "\n",
    "print_md(agent.invoke(\"\"\"\n",
    "I have an accident at 10am, Feb 20, 2024 near Seattle Chinatown.\n",
    "I am driving my subaru, and the other driver drove on the bus lane and hit me when I tried to turn left into the garage.\n",
    "\"\"\"))"
   ]
  },
  {
   "cell_type": "markdown",
   "id": "c14c1dae-ef60-4add-8a70-a5db734390ab",
   "metadata": {},
   "source": [
    "## Knowing the customer"
   ]
  },
  {
   "cell_type": "markdown",
   "id": "d3005e8d-1d88-4dbd-8672-500302de1998",
   "metadata": {},
   "source": [
    "### Define a feature view to serve policies\n",
    "\n",
    "| policy_id* | policy |\n",
    "| -- | -- |"
   ]
  },
  {
   "cell_type": "code",
   "execution_count": null,
   "id": "42950d8e-6c8d-4cc7-b6ab-4f29b0ff22a9",
   "metadata": {},
   "outputs": [],
   "source": [
    "policy=\"\"\"\n",
    "Policy ID: p6909379\n",
    "Policyholder Information:\n",
    "- Name: John Doe\n",
    "- Address: 123 Main Street, San Francisco, CA, USA\n",
    "- Phone Number: (555) 123-4567\n",
    "- Email: john.doe@example.com\n",
    "Vehicle Information:\n",
    "1. Vehicle 1:\n",
    "   - Make: Toyota\n",
    "   - Model: Camry\n",
    "   - Year: 2020\n",
    "   - VIN: 1HGBH41JXMN109186\n",
    "2. Vehicle 2:\n",
    "   - Make: Subaru\n",
    "   - Model: Impreza\n",
    "   - Year: 2014\n",
    "   - VIN: 2FAGP9CW5EH123456\n",
    "Coverage Details:\n",
    "1. Liability Coverage:\n",
    "   - Bodily Injury Liability: $100,000 per person / $300,000 per accident\n",
    "   - Property Damage Liability: $50,000 per accident\n",
    "2. Personal Injury Protection (PIP):\n",
    "   - Medical Expenses: $10,000 per person\n",
    "3. Uninsured/Underinsured Motorist Coverage:\n",
    "   - Bodily Injury: $100,000 per person / $300,000 per accident\n",
    "4. Comprehensive Coverage:\n",
    "   - Deductible: $500\n",
    "   - Coverage Limit: Actual cash value of the vehicle\n",
    "5. Collision Coverage:\n",
    "   - Deductible: $500\n",
    "   - Coverage Limit: Actual cash value of the vehicle\n",
    "6. Additional Coverages:\n",
    "   - Rental Reimbursement: $30 per day, up to 30 days\n",
    "   - Roadside Assistance: Included\n",
    "Policy Period:\n",
    "- Effective Date: January 1, 2024\n",
    "- Expiration Date: December 31, 2024\n",
    "Premium Information:\n",
    "- Total Annual Premium: $1,800\n",
    "- Payment Plan: Monthly ($150 per month)\n",
    "\"\"\"\n",
    "\n",
    "policy_view = make_local_batch_feature_view(\n",
    "    \"policy_view\",\n",
    "    [{\"policy_id\": \"p6909379\", \"policy\": policy}],\n",
    "    entity_keys = [\"policy_id\"],\n",
    "    description=\"policy details\"\n",
    ")"
   ]
  },
  {
   "cell_type": "markdown",
   "id": "71fcfca4-5a46-42c8-a399-080e1f0ee1be",
   "metadata": {},
   "source": [
    "### Define policy enriched prompt"
   ]
  },
  {
   "cell_type": "code",
   "execution_count": null,
   "id": "065587a4-4bd2-4ebd-9184-5b12f4c8c152",
   "metadata": {},
   "outputs": [],
   "source": [
    "@prompt(sources=[policy_view])\n",
    "def sys_prompt(policy_view:dict) -> str:\n",
    "    return f\"\"\"You will evaluate a car accident based on the report from the policy holder who involved, you need to generate a detailed report for an adjuster to make further decisions\n",
    "\n",
    "    Here is the policy detail:\n",
    "\n",
    "    {policy_view['policy']}\n",
    "    \"\"\""
   ]
  },
  {
   "cell_type": "markdown",
   "id": "76d29688-bce2-4114-ac45-2a17505a959a",
   "metadata": {},
   "source": [
    "### Use the prompt in the agent"
   ]
  },
  {
   "cell_type": "code",
   "execution_count": null,
   "id": "297ca6d0-c1e3-4994-a193-757083bcbe18",
   "metadata": {},
   "outputs": [],
   "source": [
    "agent = Agent(\n",
    "    \"agent\",\n",
    "    prompt = sys_prompt,\n",
    "    llm = \"openai/gpt-4o\",\n",
    ")\n",
    "\n",
    "qna(agent, query=\"\"\"\n",
    "I have an accident at 10am, Feb 20, 2024 near Seattle Chinatown.\n",
    "I am driving my subaru, and the other driver drove on the bus lane and hit me when I tried to turn left into the garage.\n",
    "\"\"\", context={\"policy_id\":\"p6909379\"}, diagram=True)"
   ]
  },
  {
   "cell_type": "markdown",
   "id": "d690e1ad-9e9f-4f06-93b3-782b031112f0",
   "metadata": {},
   "source": [
    "## Structured output"
   ]
  },
  {
   "cell_type": "code",
   "execution_count": null,
   "id": "56ec8ab1-900b-4142-99aa-88c51eb8f309",
   "metadata": {},
   "outputs": [],
   "source": [
    "from pydantic import BaseModel, Field\n",
    "\n",
    "class Accident(BaseModel):\n",
    "    date_time: str = Field(description=\"Date and time in isoformat of the accident, set to empty if not mentioned\")\n",
    "    city: str = Field(description=\"City where the accident occurred, set to empty if not mentioned\")\n",
    "    vehicle_vin: str = Field(description=\"VIN number of the policy holder's car involved in this accident, VIN number is in the policy details\")\n",
    "    other_vehicles: list[str] = Field(description=\"Other vehicles involved in the accident, each should be in the format make-model-plate\")\n",
    "\n",
    "    collision_description: str = Field(description=\"Description of how the collision occurred\")\n",
    "    in_policy_vehicle_damage_description: str = Field(description=\"Description of the damage to the insured vehicle\")\n",
    "    other_vehicles_damage_description: str = Field(description=\"Description of the damage to other vehicles\")\n",
    "    \n",
    "    next_steps: list[str] = Field(description=\"Instructions of next steps and things to consider for the adjuster\")\n",
    "\n",
    "agent = Agent(\n",
    "    \"report_eval\",\n",
    "    prompt = sys_prompt,\n",
    "    llm = llm,\n",
    "    output_schema = Accident,\n",
    ")\n",
    "\n",
    "qna(agent, query=\"\"\"\n",
    "I have an accident at 10am, Feb 20, 2024 near Seattle Chinatown.\n",
    "I am driving my subaru, and the other driver drove on the bus lane and hit me when I tried to turn left into the garage.\n",
    "\"\"\", context={\"policy_id\":\"p6909379\"}, diagram=True)"
   ]
  },
  {
   "cell_type": "markdown",
   "id": "8ef5aaca-44a7-4cff-bbf3-cb1b3a51d990",
   "metadata": {},
   "source": [
    "## Understanding images and other multimedia sources\n",
    "\n",
    "Here are the pictures I took after the accident:"
   ]
  },
  {
   "cell_type": "code",
   "execution_count": null,
   "id": "91726541-c28a-49cc-896f-1f02956466b4",
   "metadata": {},
   "outputs": [],
   "source": [
    "from IPython.display import display\n",
    "from PIL import Image\n",
    "\n",
    "display(Image.open(\"/Users/han/Downloads/IMG_0483.jpg\").resize((512,512)))\n",
    "display(Image.open(\"/Users/han/Downloads/IMG_0484.jpg\").resize((512,512)))\n",
    "display(Image.open(\"/Users/han/Downloads/IMG_0488.jpg\").resize((512,512)))\n"
   ]
  },
  {
   "cell_type": "markdown",
   "id": "3e8380e1-1e96-4a1a-b1ac-3fdec8fe3865",
   "metadata": {},
   "source": [
    "### How to realize multi-modal?\n",
    "\n",
    "Using special syntax + tool calling can easily achieve multi-modal.\n",
    "\n",
    "For example if we define the syntax `[img:<id>]` to refer to an image, and then define a python function (as the tool) to retrieve the image data from the id and use a LLM to convert it to text inside the same function. Then the top level LLM is able to use the tool to understand images.\n",
    "\n",
    "### Define the image tool"
   ]
  },
  {
   "cell_type": "code",
   "execution_count": null,
   "id": "d1955317-1d53-4e08-8129-0fa8f9e72fc9",
   "metadata": {},
   "outputs": [],
   "source": [
    "def encode_img(img_id):\n",
    "    from PIL import Image\n",
    "    import base64\n",
    "    from io import BytesIO\n",
    "\n",
    "    new_size=(512, 512)\n",
    "    image_path = f\"/Users/han/Downloads/IMG_{img_id}.jpg\"\n",
    "    with Image.open(image_path) as img:\n",
    "        # Resize the image\n",
    "        resized_img = img.resize(new_size)\n",
    "        # Create a BytesIO buffer to hold the image data\n",
    "        buffered = BytesIO()\n",
    "        # Save the resized image to the buffer in the desired format (e.g., JPEG)\n",
    "        resized_img.save(buffered, format=\"JPEG\")\n",
    "        # Get the byte data from the buffer\n",
    "        img_bytes = buffered.getvalue()\n",
    "        # Encode the byte data to base64\n",
    "        img_base64 = base64.b64encode(img_bytes).decode('utf-8')\n",
    "        return img_base64\n",
    "        \n",
    "def describe_image(image_id:str) -> str:\n",
    "    \"\"\"\n",
    "    Describe a image that is related with an car accident.\n",
    "    \n",
    "    Args:\n",
    "\n",
    "        image_id: the id of the image in the format: `[img:<image_id>]`, for example, `[img:abc]` the id is `abc`\n",
    "\n",
    "    Return:\n",
    "\n",
    "        The full description of the image that can be helpful to understand the accident\n",
    "    \"\"\"\n",
    "    from openai import OpenAI\n",
    "\n",
    "    prompt = \"\"\"Describe a image that is related with an car accident.\n",
    "    It should have the details of the damage, it should include the car brand, color, and plate and vin if available.\n",
    "    \"\"\"\n",
    "    \n",
    "    client = OpenAI()\n",
    "    base64_image = encode_img(image_id)\n",
    "\n",
    "    response = client.chat.completions.create(\n",
    "        model=\"gpt-4o\",\n",
    "        messages=[\n",
    "            {\n",
    "                \"role\": \"user\",\n",
    "                \"content\": [\n",
    "                    {\"type\": \"text\", \"text\": prompt},\n",
    "                    {\n",
    "                        \"type\": \"image_url\",\n",
    "                        \"image_url\": {\n",
    "                            \"url\": f\"data:image/jpeg;base64,{base64_image}\"\n",
    "                        }\n",
    "                    },\n",
    "                ],\n",
    "            }\n",
    "        ],\n",
    "        max_tokens=1000,\n",
    "        temperature=0.0,\n",
    "    )\n",
    "\n",
    "    return response.choices[0].message.content"
   ]
  },
  {
   "cell_type": "markdown",
   "id": "f23f426c-d005-44b5-8184-4d944f6b2d2e",
   "metadata": {},
   "source": [
    "### Let the agent use the image tool (when necessary)"
   ]
  },
  {
   "cell_type": "code",
   "execution_count": null,
   "id": "56b1b13c-1761-43e3-95af-ae8ae2e2ebbc",
   "metadata": {},
   "outputs": [],
   "source": [
    "agent = Agent(\n",
    "    \"agent\",\n",
    "    prompt = sys_prompt,\n",
    "    tools = [describe_image],\n",
    "    llm = llm,\n",
    "    output_schema = Accident,\n",
    ")\n",
    "\n",
    "qna(agent, query=\"\"\"\n",
    "I have an accident at 10am, Feb 20, 2024 near Seattle Chinatown.\n",
    "I am driving my subaru, and the other driver drove on the bus lane and hit me when I tried to turn left into the garage.\n",
    "Here are the pictures of the accident.\n",
    "My damage: [img:0483]\n",
    "The dodge: [img:0484] [img:0488]\n",
    "\"\"\", context={\"policy_id\":\"p6909379\"}, diagram=True)"
   ]
  },
  {
   "cell_type": "markdown",
   "id": "5742485e-0791-4c43-a619-9b83cfb2a374",
   "metadata": {},
   "source": [
    "## Quantifying damage and loss\n",
    "\n",
    "LLM is not reliable on quantitative analysis. But we can let the agent use quantitative tools!"
   ]
  },
  {
   "cell_type": "markdown",
   "id": "e8d7090d-28b5-472b-9637-653d6b2eb59a",
   "metadata": {},
   "source": [
    "### Tecton Features as tools\n",
    "\n",
    "Market value of a vehicle can be served as a feature view:\n",
    "\n",
    "| make* | model* | year* | value |\n",
    "| -- | -- | -- | -- |"
   ]
  },
  {
   "cell_type": "code",
   "execution_count": null,
   "id": "fba5f84e-2e53-47f7-a95a-8b1b76ecc2e8",
   "metadata": {},
   "outputs": [],
   "source": [
    "market_value = make_local_batch_feature_view(\n",
    "    \"market_value\",\n",
    "    [\n",
    "        {\"make\":\"subaru\", \"model\":\"impreza\", \"year\":2014, \"value\":14500.0},\n",
    "    ],\n",
    "    entity_keys=[\"make\", \"model\", \"year\"],\n",
    "    description=\"\"\"\n",
    "    Get the current market value of certain make model and year, 0 means unknown\n",
    "\n",
    "    make: str: lower case maker of the car, for example: toyota\n",
    "    model: str: lower case model of the car, for example: tundra\n",
    "    year: int: the year of the car, for example: 2020\n",
    "    \"\"\"\n",
    ")"
   ]
  },
  {
   "cell_type": "markdown",
   "id": "71f9ca3d-88ba-480e-8716-5234910d941e",
   "metadata": {},
   "source": [
    "### ML Models as a tools\n",
    "\n",
    "Repair cost estimation can be done by a trained ML model.\n",
    "\n",
    "Assuming the model takes\n",
    "* features directly from the report and the policy (make, model, year, severity)\n",
    "* features derived from the report and policy (price factor that is state dependent)\n",
    "\n",
    "We can define a tool `estimate_cost` wrapping the ML model, and it also depends on the feature view `price_factor`"
   ]
  },
  {
   "cell_type": "code",
   "execution_count": null,
   "id": "f484f8e5-31dc-424f-83a2-ae2db99e6ad9",
   "metadata": {},
   "outputs": [],
   "source": [
    "from tecton import resource_provider\n",
    "from tecton_gen_ai.utils.runtime import get_runtime_resource\n",
    "\n",
    "@resource_provider()\n",
    "def my_model():\n",
    "    # initialize your model instance/client here\n",
    "    model = \"dummy\"\n",
    "    return model\n",
    "\n",
    "price_factor = make_local_batch_feature_view(\n",
    "    \"price_factor\",\n",
    "    [\n",
    "        {\"state\":\"wa\", \"factor\":1.5},\n",
    "        {\"state\":\"ca\", \"factor\":1.1},\n",
    "    ],\n",
    "    entity_keys=[\"state\"],\n",
    "    description=\"Price factor for damage estimates\"\n",
    ")\n",
    "\n",
    "@tool(sources=[price_factor], resource_providers={\"my_model\":my_model})\n",
    "def estimate_cost(\n",
    "    state:str,\n",
    "    make:str, model:str, year:int, front_damage:int, side_damage:int, back_damage:int,\n",
    "    price_factor,\n",
    ") -> float:\n",
    "    \"\"\"\n",
    "    Estimate the repair cost of the damage of a car\n",
    "\n",
    "    Args:\n",
    "\n",
    "        state: state abbr in lower case, for example: ca, wa, il. It should be the state where the accident happened\n",
    "        make: make of the car\n",
    "        model: model of the car\n",
    "        year: year of the car\n",
    "        front_damage: front damage severity, 0: no damage, 1: minor, 2: severe\n",
    "        side_damage: side damage severity, 0: no damage, 1: minor, 2: severe\n",
    "        back_damage: back damage severity, 0: no damage, 1: minor, 2: severe\n",
    "\n",
    "    Return:\n",
    "\n",
    "        The estimated repair cost\n",
    "    \"\"\"\n",
    "    model = get_runtime_resource(\"my_model\")\n",
    "    assert model == \"dummy\"\n",
    "    factor = price_factor.get(\"factor\", 1.0)\n",
    "    if max(front_damage, side_damage, back_damage)==2:\n",
    "        return 20000*factor\n",
    "    return 500*factor"
   ]
  },
  {
   "cell_type": "markdown",
   "id": "f5057eb7-0296-44b0-8a36-5dd1e1ba1c23",
   "metadata": {},
   "source": [
    "### Tell me the numbers!"
   ]
  },
  {
   "cell_type": "code",
   "execution_count": null,
   "id": "658274d3-cad3-478d-95fb-04c2c74b3009",
   "metadata": {},
   "outputs": [],
   "source": [
    "class Damage(BaseModel):\n",
    "    front_damage: int = Field(description=\"policyholder's vehicle front damage severity, 0: no damage, 1: minor, 2: severe\")\n",
    "    side_damage: int = Field(description=\"policyholder's vehicle side damage severity, 0: no damage, 1: minor, 2: severe\")\n",
    "    back_damage: int = Field(description=\"policyholder's vehicle back damage severity, 0: no damage, 1: minor, 2: severe\")\n",
    "    repair_cost: float = Field(description=\"The repair cost esimate to the policyholder's vehicle\")\n",
    "    market_value: float = Field(description=\"The current market value of the policyholder's vehicle\")\n",
    "    \n",
    "agent_damage = Agent(\n",
    "    \"agent_damage\",\n",
    "    prompt = sys_prompt,\n",
    "    tools = [describe_image, estimate_cost, market_value],\n",
    "    llm = llm,\n",
    "    output_schema = Damage,\n",
    ")\n",
    "\n",
    "qna(agent_damage, query=\"\"\"\n",
    "I have an accident at 10am, Feb 20, 2024 near Seattle Chinatown.\n",
    "I am driving my subaru, and the other driver drove on the bus lane and hit me when I tried to turn left into the garage.\n",
    "Here are the pictures of the accident.\n",
    "My damage: [img:0483]\n",
    "The dodge: [img:0484] [img:0488]\n",
    "\"\"\", context={\"policy_id\":\"p6909379\"}, diagram=True)"
   ]
  },
  {
   "cell_type": "markdown",
   "id": "891525ba-049e-4868-8738-ae1c38732230",
   "metadata": {},
   "source": [
    "## Interpreting violations\n",
    "\n",
    "Different states have different laws and rules, written in natural language. So RAG can be used as a tool to look up rules and interpret violations."
   ]
  },
  {
   "cell_type": "markdown",
   "id": "cf476483-41a4-4de4-b89e-e16a4a8f07be",
   "metadata": {},
   "source": [
    "### Connect to a vector db"
   ]
  },
  {
   "cell_type": "code",
   "execution_count": null,
   "id": "e0ebbb9e-d1a0-4d65-99f7-213798e84fb8",
   "metadata": {},
   "outputs": [],
   "source": [
    "from tecton_gen_ai.api import VectorDB\n",
    "\n",
    "vdb = VectorDB(\n",
    "    \"lancedb\",\n",
    "    embedding=\"openai/text-embedding-3-small\",\n",
    "    uri=\"/tmp/lancedb\",\n",
    "    table_name=\"wa_rules\",\n",
    ")\n",
    "\n",
    "vdb.search(\"left turn rules\", filter={\"state\":\"wa\"})"
   ]
  },
  {
   "cell_type": "markdown",
   "id": "a520045d-413c-43a3-9e19-825dd4679175",
   "metadata": {},
   "source": [
    "### Vector DB as a retrieval tool"
   ]
  },
  {
   "cell_type": "code",
   "execution_count": null,
   "id": "01e0984d-1b49-4bd2-80f5-b4eaa825e654",
   "metadata": {},
   "outputs": [],
   "source": [
    "class RuleFilter(BaseModel):\n",
    "    state: str = Field(description=\"lower case abbr of state that the rules belongs to, for example: ca, wa\")\n",
    "\n",
    "@vdb.retriever(filter=RuleFilter)\n",
    "def get_rules_of_the_road(query, filter, result):\n",
    "    \"\"\"Get the related rules of the road of a certain state\n",
    "\n",
    "    The query should contain the description of the accident (under 200 words)\n",
    "    \"\"\"\n",
    "    return \"\\n\\n\".join(x[\"rule_text\"] for x in result)"
   ]
  },
  {
   "cell_type": "markdown",
   "id": "8a4a485a-448a-4614-96d7-1b92e811494e",
   "metadata": {},
   "source": [
    "### Show me the violations"
   ]
  },
  {
   "cell_type": "code",
   "execution_count": null,
   "id": "724c99eb-4367-485c-887c-ee7b91ef3511",
   "metadata": {},
   "outputs": [],
   "source": [
    "class Violations(BaseModel):\n",
    "    rules_violated: str = Field(\"Based on the rules of the road of the state, explain the potential violations of either party inside this accident\")\n",
    "\n",
    "agent = Agent(\n",
    "    \"agent\",\n",
    "    prompt = sys_prompt,\n",
    "    tools = [describe_image, get_rules_of_the_road],\n",
    "    llm = llm,\n",
    "    output_schema = Violations,\n",
    ")\n",
    "\n",
    "qna(agent, query=\"\"\"\n",
    "I have an accident at 10am, Feb 20, 2024 near Seattle Chinatown.\n",
    "I am driving my subaru, and the other driver drove on the bus lane and hit me when I tried to turn left into the garage.\n",
    "Here are the pictures of the accident.\n",
    "My damage: [img:0483]\n",
    "The dodge: [img:0484] [img:0488]\n",
    "\"\"\", context={\"policy_id\":\"p6909379\"}, diagram=True)"
   ]
  },
  {
   "cell_type": "markdown",
   "id": "89a7f262-4068-4552-9c85-efbe37e4b462",
   "metadata": {},
   "source": [
    "## A full accident report"
   ]
  },
  {
   "cell_type": "code",
   "execution_count": null,
   "id": "7f4a6313-05ca-4c46-b3d7-69f06989c636",
   "metadata": {},
   "outputs": [],
   "source": [
    "class FullAccidentReport(Accident, Damage, Violations):\n",
    "    pass\n",
    "\n",
    "agent = Agent(\n",
    "    \"agent\",\n",
    "    prompt = sys_prompt,\n",
    "    tools = [describe_image, estimate_cost, market_value, get_rules_of_the_road],\n",
    "    llm = llm,\n",
    "    output_schema = FullAccidentReport,\n",
    ")\n",
    "\n",
    "qna(agent, query=\"\"\"\n",
    "I have an accident at 10am, Feb 20, 2024 near Seattle Chinatown.\n",
    "I am driving my subaru, and the other driver drove on the bus lane and hit me when I tried to turn left into the garage.\n",
    "Here are the pictures of the accident.\n",
    "My damage: [img:0483]\n",
    "The dodge: [img:0484] [img:0488]\n",
    "\"\"\", context={\"policy_id\":\"p6909379\"}, diagram=True)"
   ]
  },
  {
   "cell_type": "markdown",
   "id": "477a9cf6-79fb-4eda-9791-0752ee0704dd",
   "metadata": {},
   "source": [
    "# One last thing"
   ]
  },
  {
   "cell_type": "markdown",
   "id": "fcba856a-e3e8-4359-987c-5b12dffa8b9a",
   "metadata": {},
   "source": [
    "### Tecton agentic system is fully testable, deployable, composable and decomposable"
   ]
  },
  {
   "cell_type": "code",
   "execution_count": null,
   "id": "b02af84d-f878-42c2-88e0-f5fc140501b0",
   "metadata": {},
   "outputs": [],
   "source": []
  }
 ],
 "metadata": {
  "kernelspec": {
   "display_name": "python3",
   "language": "python",
   "name": "python3"
  }
 },
 "nbformat": 4,
 "nbformat_minor": 5
}
