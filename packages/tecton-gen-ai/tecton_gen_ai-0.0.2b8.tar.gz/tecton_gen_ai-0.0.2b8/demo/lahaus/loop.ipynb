{
 "cells": [
  {
   "cell_type": "markdown",
   "metadata": {},
   "source": [
    "# Close The Loops\n",
    "\n",
    "## Setup"
   ]
  },
  {
   "cell_type": "code",
   "execution_count": null,
   "metadata": {},
   "outputs": [],
   "source": [
    "from tecton_gen_ai.testing import set_dev_mode, print_md\n",
    "\n",
    "set_dev_mode()\n",
    "\n",
    "task = \"You are an assistant helping a user find a real estate property based on their preferences\"\n",
    "model = {\"model\": \"openai/gpt-4o\", \"temperature\": 0}"
   ]
  },
  {
   "cell_type": "markdown",
   "metadata": {},
   "source": [
    "## The naive agent"
   ]
  },
  {
   "cell_type": "code",
   "execution_count": null,
   "metadata": {},
   "outputs": [],
   "source": [
    "from tecton_gen_ai.api import Agent\n",
    "\n",
    "agent = Agent(\n",
    "    name=\"agent\",\n",
    "    prompt=task,\n",
    "    llm=model,\n",
    ")"
   ]
  },
  {
   "cell_type": "markdown",
   "metadata": {},
   "source": [
    "### Test the agent"
   ]
  },
  {
   "cell_type": "code",
   "execution_count": null,
   "metadata": {},
   "outputs": [],
   "source": [
    "print_md(agent.invoke(\"what properties are under 300k\"))"
   ]
  },
  {
   "cell_type": "markdown",
   "metadata": {},
   "source": [
    "## Let the agent access properties"
   ]
  },
  {
   "cell_type": "code",
   "execution_count": null,
   "metadata": {},
   "outputs": [],
   "source": [
    "def get_candidates(\n",
    "    min_budget: float,\n",
    "    max_budget: float,\n",
    "    min_area: float,\n",
    "    max_area: float,\n",
    "    min_bedrooms: int,\n",
    "    max_bedrooms: int,\n",
    ") -> list[dict]:\n",
    "    \"\"\"\n",
    "    Get properties based on the given budget, bedroom count and area range\n",
    "\n",
    "    Args:\n",
    "\n",
    "        min_budget (float): Minimum budget, 0 if not specified\n",
    "        max_budget (float): Maximum budget, 0 if not specified\n",
    "        min_area (float): Minimum area, 0 if not specified\n",
    "        max_area (float): Maximum area, 0 if not specified\n",
    "        min_bedrooms (int): Minimum bedroom count, 0 if not specified\n",
    "        max_bedrooms (int): Maximum bedroom count, 0 if not specified\n",
    "\n",
    "    Returns:\n",
    "\n",
    "        list[dict]: List of properties that match the given budget and room count range\n",
    "    \"\"\"\n",
    "    properties = [\n",
    "        {\n",
    "            \"id\": 1,\n",
    "            \"price\": 100000,\n",
    "            \"room_count\": 2,\n",
    "            \"name\": \"Meadowbrook Estates\",\n",
    "            \"area\": 1000,\n",
    "        },\n",
    "        {\n",
    "            \"id\": 2,\n",
    "            \"price\": 220000,\n",
    "            \"room_count\": 3,\n",
    "            \"name\": \"Pinecrest Villas\",\n",
    "            \"area\": 1500,\n",
    "        },\n",
    "        {\n",
    "            \"id\": 3,\n",
    "            \"price\": 280000,\n",
    "            \"room_count\": 2,\n",
    "            \"name\": \"Oceanview Residences\",\n",
    "            \"area\": 2200,\n",
    "        },\n",
    "        {\n",
    "            \"id\": 4,\n",
    "            \"price\": 400000,\n",
    "            \"room_count\": 5,\n",
    "            \"name\": \"Maplewood Manor\",\n",
    "            \"area\": 2000,\n",
    "        },\n",
    "        {\n",
    "            \"id\": 5,\n",
    "            \"price\": 500000,\n",
    "            \"room_count\": 3,\n",
    "            \"name\": \"Riverstone Heights\",\n",
    "            \"area\": 1800,\n",
    "        },\n",
    "    ]\n",
    "    filtered_properties = [\n",
    "        p\n",
    "        for p in properties\n",
    "        if (min_budget == 0 or p[\"price\"] >= min_budget)\n",
    "        and (max_budget == 0 or p[\"price\"] <= max_budget)\n",
    "        and (min_area == 0 or p[\"area\"] >= min_area)\n",
    "        and (max_area == 0 or p[\"area\"] <= max_area)\n",
    "        and (min_bedrooms == 0 or p[\"room_count\"] >= min_bedrooms)\n",
    "        and (max_bedrooms == 0 or p[\"room_count\"] <= max_bedrooms)\n",
    "    ]\n",
    "    return filtered_properties"
   ]
  },
  {
   "cell_type": "code",
   "execution_count": null,
   "metadata": {},
   "outputs": [],
   "source": [
    "agent = Agent(\n",
    "    name=\"agent\",\n",
    "    prompt=task,\n",
    "    tools=[get_candidates],\n",
    "    llm=model,\n",
    ")\n",
    "\n",
    "print_md(agent.invoke(\"what properties are under 300k?\"))"
   ]
  },
  {
   "cell_type": "markdown",
   "metadata": {},
   "source": [
    "## Let the agent read user preferences\n",
    "\n",
    "See the user preference features [in the UI](https://dev-gen-ai.tecton.ai/app/repo/han-stream-1/home/dataflow)"
   ]
  },
  {
   "cell_type": "code",
   "execution_count": null,
   "metadata": {},
   "outputs": [],
   "source": [
    "from tecton_gen_ai.api import FeatureServiceConfig\n",
    "\n",
    "user_preference = FeatureServiceConfig(\n",
    "    service=\"user_preference\",\n",
    "    workspace=\"han-stream-1\",\n",
    ")"
   ]
  },
  {
   "cell_type": "code",
   "execution_count": null,
   "metadata": {},
   "outputs": [],
   "source": [
    "agent = Agent(\n",
    "    name=\"agent\",\n",
    "    prompt=task,\n",
    "    tools=[get_candidates, user_preference],\n",
    "    llm=model,\n",
    ")\n",
    "\n",
    "agent.invoke_tool(\"han-stream-1_user_preference\", kwargs={\"user_id\": \"john\"})"
   ]
  },
  {
   "cell_type": "code",
   "execution_count": null,
   "metadata": {},
   "outputs": [],
   "source": [
    "print_md(agent.invoke(\"what properties do you recommend\", context={\"user_id\": \"john\"}))"
   ]
  },
  {
   "cell_type": "code",
   "execution_count": null,
   "metadata": {},
   "outputs": [],
   "source": [
    "from tecton_gen_ai.testing.interactive import chat\n",
    "\n",
    "chat(agent, context={\"user_id\": \"john\"})"
   ]
  },
  {
   "cell_type": "markdown",
   "metadata": {},
   "source": [
    "## Let the agent update user preference while chatting"
   ]
  },
  {
   "cell_type": "code",
   "execution_count": null,
   "metadata": {},
   "outputs": [],
   "source": [
    "agent = Agent(\n",
    "    name=\"agent\",\n",
    "    prompt=task,\n",
    "    tools=[get_candidates, user_preference],\n",
    "    emitters=[user_preference],\n",
    "    llm=model,\n",
    ")"
   ]
  },
  {
   "cell_type": "code",
   "execution_count": null,
   "metadata": {},
   "outputs": [],
   "source": [
    "user_id = \"user22\"\n",
    "agent.invoke_tool(\"han-stream-1_user_preference\", kwargs={\"user_id\": user_id})"
   ]
  },
  {
   "cell_type": "code",
   "execution_count": null,
   "metadata": {},
   "outputs": [],
   "source": [
    "chat(agent, context={\"user_id\": user_id})"
   ]
  },
  {
   "cell_type": "code",
   "execution_count": null,
   "metadata": {},
   "outputs": [],
   "source": []
  }
 ],
 "metadata": {
  "kernelspec": {
   "display_name": "python3",
   "language": "python",
   "name": "python3"
  }
 },
 "nbformat": 4,
 "nbformat_minor": 4
}
