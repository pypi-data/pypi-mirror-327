{
 "cells": [
  {
   "cell_type": "markdown",
   "id": "d6833321-8e1c-4951-9127-c86183abfad8",
   "metadata": {},
   "source": [
    "## Setup"
   ]
  },
  {
   "cell_type": "code",
   "execution_count": null,
   "id": "c2f1e422",
   "metadata": {},
   "outputs": [],
   "source": [
    "from tecton_gen_ai.testing import set_dev_mode, print_md\n",
    "\n",
    "set_dev_mode()\n",
    "\n",
    "task = \"You are an assistant helping a user find a real estate property based on their preferences\"\n",
    "model = {\"model\": \"openai/gpt-4o\", \"temperature\": 0}"
   ]
  },
  {
   "cell_type": "markdown",
   "id": "4ff8241d-e94d-4343-ad89-45398063f284",
   "metadata": {},
   "source": [
    "## Ingesting properties into vector db"
   ]
  },
  {
   "cell_type": "code",
   "execution_count": null,
   "id": "35186e60-c35b-4a62-b3f0-45bc81636fc1",
   "metadata": {},
   "outputs": [],
   "source": [
    "PROPERTIES = [\n",
    "    {\n",
    "        \"id\": 1,\n",
    "        \"price\": 100000,\n",
    "        \"room_count\": 2,\n",
    "        \"name\": \"Meadowbrook Estates\",\n",
    "        \"description\": \"near school\",\n",
    "        \"area\": 1000,\n",
    "    },\n",
    "    {\n",
    "        \"id\": 2,\n",
    "        \"price\": 220000,\n",
    "        \"room_count\": 3,\n",
    "        \"name\": \"Pinecrest Villas\",\n",
    "        \"description\": \"very quiet\",\n",
    "        \"area\": 1500,\n",
    "    },\n",
    "    {\n",
    "        \"id\": 3,\n",
    "        \"price\": 280000,\n",
    "        \"room_count\": 2,\n",
    "        \"name\": \"Oceanview Residences\",\n",
    "        \"description\": \"near shopping mall\",\n",
    "        \"area\": 2200,\n",
    "    },\n",
    "    {\n",
    "        \"id\": 4,\n",
    "        \"price\": 400000,\n",
    "        \"room_count\": 5,\n",
    "        \"name\": \"Maplewood Manor\",\n",
    "        \"description\": \"very special design\",\n",
    "        \"area\": 2000,\n",
    "    },\n",
    "    {\n",
    "        \"id\": 5,\n",
    "        \"price\": 500000,\n",
    "        \"room_count\": 3,\n",
    "        \"name\": \"Riverstone Heights\",\n",
    "        \"description\": \"with a beautify garden\",\n",
    "        \"area\": 1800,\n",
    "    },\n",
    "]"
   ]
  },
  {
   "cell_type": "code",
   "execution_count": null,
   "id": "5ab5ffca-4865-4187-a9aa-fd3e368fcac7",
   "metadata": {},
   "outputs": [],
   "source": [
    "from tecton_gen_ai.api import VectorDB\n",
    "\n",
    "vdb = VectorDB(\n",
    "    \"lancedb\",\n",
    "    embedding=\"openai/text-embedding-3-small\",\n",
    "    uri=\"/tmp/lancedb\",\n",
    "    table_name=\"properties\",\n",
    ")\n",
    "\n",
    "vdb.ingest(texts = [p[\"description\"] for p in PROPERTIES], ids = [p[\"id\"] for p in PROPERTIES], metadatas=PROPERTIES)\n",
    "vdb.search(\"school\", top_k=2)"
   ]
  },
  {
   "cell_type": "markdown",
   "id": "5f56b756-3d9c-4bb6-b53c-50904085afe4",
   "metadata": {},
   "source": [
    "## Retriever as a tool"
   ]
  },
  {
   "cell_type": "code",
   "execution_count": null,
   "id": "6f0f32f5",
   "metadata": {},
   "outputs": [],
   "source": [
    "from tecton_gen_ai.api import Agent\n",
    "\n",
    "@vdb.retriever(top_k=2)\n",
    "def retrieve(query, filter, result):\n",
    "    \"\"\"Get properties based on user preferences provided in the query\"\"\"\n",
    "    return result\n",
    "    \n",
    "agent = Agent(\n",
    "    \"agent\",\n",
    "    prompt = task,\n",
    "    tools = [retrieve],\n",
    "    llm = model\n",
    ")"
   ]
  },
  {
   "cell_type": "code",
   "execution_count": null,
   "id": "a4da8b79",
   "metadata": {},
   "outputs": [],
   "source": [
    "print_md(agent.invoke(\"find properties near school\"))"
   ]
  },
  {
   "cell_type": "markdown",
   "id": "d8e012c2-5887-4b37-954c-19d10f189b70",
   "metadata": {},
   "source": [
    "# Think Differently\n",
    "\n",
    "## Rule based filtering + LLM reranking\n",
    "\n",
    "We just need the agent to remember unstructured data"
   ]
  },
  {
   "cell_type": "code",
   "execution_count": null,
   "id": "7a3f6a8c",
   "metadata": {},
   "outputs": [],
   "source": [
    "def get_candidates(\n",
    "    min_budget: float=0,\n",
    "    max_budget: float=0,\n",
    "    min_area: float=0,\n",
    "    max_area: float=0,\n",
    "    min_bedrooms: int=0,\n",
    "    max_bedrooms: int=0,\n",
    "    other_preferences: str=\"\",\n",
    ") -> list[dict]:\n",
    "    \"\"\"\n",
    "    Get properties based on the given budget, bedroom count and area range\n",
    "\n",
    "    Args:\n",
    "\n",
    "        min_budget (float): Minimum budget, defaults to 0 (not specified)\n",
    "        max_budget (float): Maximum budget, defaults to 0 (not specified)\n",
    "        min_area (float): Minimum area, defaults to 0 (not specified)\n",
    "        max_area (float): Maximum area, defaults to 0 (not specified)\n",
    "        min_bedrooms (int): Minimum bedroom count, defaults to 0 (not specified)\n",
    "        max_bedrooms (int): Maximum bedroom count, defaults to 0 (not specified)\n",
    "        other_preferences (str): Miscellaneous preferences, defaults to empty string (not specified)\n",
    "\n",
    "    Returns:\n",
    "\n",
    "        list[dict]: List of properties that match the given budget and room count range\n",
    "    \"\"\"\n",
    "    filtered_properties = [\n",
    "        p\n",
    "        for p in PROPERTIES\n",
    "        if (min_budget == 0 or p[\"price\"] >= min_budget)\n",
    "        and (max_budget == 0 or p[\"price\"] <= max_budget)\n",
    "        and (min_area == 0 or p[\"area\"] >= min_area)\n",
    "        and (max_area == 0 or p[\"area\"] <= max_area)\n",
    "        and (min_bedrooms == 0 or p[\"room_count\"] >= min_bedrooms)\n",
    "        and (max_bedrooms == 0 or p[\"room_count\"] <= max_bedrooms)\n",
    "    ]\n",
    "    if not other_preferences:\n",
    "        return filtered_properties\n",
    "    \n",
    "    from langchain_core.vectorstores import InMemoryVectorStore\n",
    "    from langchain_openai import OpenAIEmbeddings\n",
    "\n",
    "    vector_store = InMemoryVectorStore(OpenAIEmbeddings())\n",
    "    vector_store.add_texts(\n",
    "        [p[\"description\"] for p in filtered_properties],\n",
    "        metadatas=filtered_properties, \n",
    "        ids= [p[\"id\"] for p in filtered_properties]\n",
    "    )\n",
    "    res=vector_store.search(other_preferences, search_type=\"mmr\", k=2)\n",
    "    return [r.metadata for r in res]"
   ]
  },
  {
   "cell_type": "code",
   "execution_count": null,
   "id": "6b39a048",
   "metadata": {},
   "outputs": [],
   "source": [
    "from tecton_gen_ai.api import FeatureServiceConfig\n",
    "\n",
    "user_preference = FeatureServiceConfig(\n",
    "    service=\"user_preference\",\n",
    "    workspace=\"han-stream-1\",\n",
    ")\n",
    "\n",
    "agent = Agent(\n",
    "    name=\"agent\",\n",
    "    prompt=task,\n",
    "    tools=[get_candidates, user_preference],\n",
    "    emitters=[user_preference],\n",
    "    llm=model,\n",
    ")"
   ]
  },
  {
   "cell_type": "code",
   "execution_count": null,
   "id": "81bbcc1c",
   "metadata": {},
   "outputs": [],
   "source": [
    "user_id = \"user28\"\n",
    "agent.invoke_tool(\"han-stream-1_user_preference\", kwargs={\"user_id\": user_id})"
   ]
  },
  {
   "cell_type": "code",
   "execution_count": null,
   "id": "76a23d8f",
   "metadata": {},
   "outputs": [],
   "source": [
    "from tecton_gen_ai.testing.interactive import chat\n",
    "\n",
    "chat(agent, context={\"user_id\": user_id})\n",
    "#i can consider 1-3 bedrooms, 1000-3000sqft and 100k-500k budget"
   ]
  },
  {
   "cell_type": "code",
   "execution_count": null,
   "id": "1393dbca-66dd-485f-89e0-84ecbf2e9fe0",
   "metadata": {},
   "outputs": [],
   "source": []
  }
 ],
 "metadata": {
  "kernelspec": {
   "display_name": "python3",
   "language": "python",
   "name": "python3"
  }
 },
 "nbformat": 4,
 "nbformat_minor": 5
}
