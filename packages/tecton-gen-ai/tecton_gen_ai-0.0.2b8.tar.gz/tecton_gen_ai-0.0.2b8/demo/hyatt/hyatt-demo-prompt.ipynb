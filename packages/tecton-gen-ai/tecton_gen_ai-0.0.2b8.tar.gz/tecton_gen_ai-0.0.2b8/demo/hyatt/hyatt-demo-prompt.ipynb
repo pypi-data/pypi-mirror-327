{
 "cells": [
  {
   "cell_type": "markdown",
   "metadata": {},
   "source": [
    "### Preamble"
   ]
  },
  {
   "cell_type": "code",
   "execution_count": null,
   "metadata": {},
   "outputs": [
    {
     "name": "stdout",
     "output_type": "stream",
     "text": [
      "The dotenv extension is already loaded. To reload it, use:\n",
      "  %reload_ext dotenv\n"
     ]
    }
   ],
   "source": [
    "%load_ext dotenv\n",
    "%dotenv"
   ]
  },
  {
   "cell_type": "code",
   "execution_count": null,
   "metadata": {},
   "outputs": [],
   "source": [
    "from tecton_gen_ai.testing.utils import set_dev_mode\n",
    "\n",
    "set_dev_mode()"
   ]
  },
  {
   "cell_type": "markdown",
   "metadata": {},
   "source": [
    "# Prompt only"
   ]
  },
  {
   "cell_type": "markdown",
   "metadata": {},
   "source": [
    "## Local Development"
   ]
  },
  {
   "cell_type": "code",
   "execution_count": null,
   "metadata": {},
   "outputs": [],
   "source": [
    "from tecton_gen_ai.agent import AgentClient, AgentService\n",
    "from tecton_gen_ai.api import prompt\n",
    "\n",
    "\n",
    "@prompt()\n",
    "def sys_prompt():\n",
    "    from textwrap import dedent\n",
    "\n",
    "    return dedent(\"\"\"\n",
    "        You are an AI assistant for Hyatt Hotels Corporation. You have access to a knowledge base containing information about Hyatt's properties, services, loyalty program, and policies. Your role is to assist customers with inquiries and provide accurate information based on the retrieved content.\n",
    "\n",
    "        ### Instructions\n",
    "\n",
    "        1. Analyze the user's question carefully.\n",
    "        2. Use the provided relevant information from the knowledge base to formulate your response.\n",
    "        3. If the retrieved information doesn't fully answer the query, use your general knowledge to provide a helpful response, but clearly indicate when you're doing so.\n",
    "        4. Always maintain a professional and courteous tone consistent with Hyatt's brand voice.\n",
    "        5. If you're unsure about any information, ask the user for clarification or admit that you don't have the specific details.\n",
    "                        \n",
    "        ### Response Format\n",
    "\n",
    "        - Greet the user politely.\n",
    "        - Provide a clear and concise answer to their query.\n",
    "        - If appropriate, offer additional relevant information or suggestions.\n",
    "        - Ask if the user needs any further assistance.\n",
    "    \"\"\")\n",
    "\n",
    "\n",
    "agent = AgentService(\n",
    "    name=\"hyatt_concierge\",\n",
    "    prompts=[sys_prompt],\n",
    ")"
   ]
  },
  {
   "cell_type": "code",
   "execution_count": null,
   "metadata": {},
   "outputs": [
    {
     "data": {
      "text/html": [
       "<pre style=\"white-space:pre;overflow-x:auto;line-height:normal;font-family:Menlo,'DejaVu Sans Mono',consolas,'Courier New',monospace\">You are an AI assistant for Hyatt Hotels Corporation. You have access to a knowledge base containing information   \n",
       "about Hyatt's properties, services, loyalty program, and policies. Your role is to assist customers with inquiries \n",
       "and provide accurate information based on the retrieved content.                                                   \n",
       "\n",
       "                                                   <span style=\"font-weight: bold\">Instructions</span>                                                    \n",
       "\n",
       "<span style=\"color: #808000; text-decoration-color: #808000; font-weight: bold\"> 1 </span>Analyze the user's question carefully.                                                                          \n",
       "<span style=\"color: #808000; text-decoration-color: #808000; font-weight: bold\"> 2 </span>Use the provided relevant information from the knowledge base to formulate your response.                       \n",
       "<span style=\"color: #808000; text-decoration-color: #808000; font-weight: bold\"> 3 </span>If the retrieved information doesn't fully answer the query, use your general knowledge to provide a helpful    \n",
       "<span style=\"color: #808000; text-decoration-color: #808000; font-weight: bold\">   </span>response, but clearly indicate when you're doing so.                                                            \n",
       "<span style=\"color: #808000; text-decoration-color: #808000; font-weight: bold\"> 4 </span>Always maintain a professional and courteous tone consistent with Hyatt's brand voice.                          \n",
       "<span style=\"color: #808000; text-decoration-color: #808000; font-weight: bold\"> 5 </span>If you're unsure about any information, ask the user for clarification or admit that you don't have the specific\n",
       "<span style=\"color: #808000; text-decoration-color: #808000; font-weight: bold\">   </span>details.                                                                                                        \n",
       "\n",
       "                                                  <span style=\"font-weight: bold\">Response Format</span>                                                  \n",
       "\n",
       "<span style=\"color: #808000; text-decoration-color: #808000; font-weight: bold\"> • </span>Greet the user politely.                                                                                        \n",
       "<span style=\"color: #808000; text-decoration-color: #808000; font-weight: bold\"> • </span>Provide a clear and concise answer to their query.                                                              \n",
       "<span style=\"color: #808000; text-decoration-color: #808000; font-weight: bold\"> • </span>If appropriate, offer additional relevant information or suggestions.                                           \n",
       "<span style=\"color: #808000; text-decoration-color: #808000; font-weight: bold\"> • </span>Ask if the user needs any further assistance.                                                                   \n",
       "</pre>\n"
      ],
      "text/plain": [
       "You are an AI assistant for Hyatt Hotels Corporation. You have access to a knowledge base containing information   \n",
       "about Hyatt's properties, services, loyalty program, and policies. Your role is to assist customers with inquiries \n",
       "and provide accurate information based on the retrieved content.                                                   \n",
       "\n",
       "                                                   \u001b[1mInstructions\u001b[0m                                                    \n",
       "\n",
       "\u001b[1;33m 1 \u001b[0mAnalyze the user's question carefully.                                                                          \n",
       "\u001b[1;33m 2 \u001b[0mUse the provided relevant information from the knowledge base to formulate your response.                       \n",
       "\u001b[1;33m 3 \u001b[0mIf the retrieved information doesn't fully answer the query, use your general knowledge to provide a helpful    \n",
       "\u001b[1;33m   \u001b[0mresponse, but clearly indicate when you're doing so.                                                            \n",
       "\u001b[1;33m 4 \u001b[0mAlways maintain a professional and courteous tone consistent with Hyatt's brand voice.                          \n",
       "\u001b[1;33m 5 \u001b[0mIf you're unsure about any information, ask the user for clarification or admit that you don't have the specific\n",
       "\u001b[1;33m   \u001b[0mdetails.                                                                                                        \n",
       "\n",
       "                                                  \u001b[1mResponse Format\u001b[0m                                                  \n",
       "\n",
       "\u001b[1;33m • \u001b[0mGreet the user politely.                                                                                        \n",
       "\u001b[1;33m • \u001b[0mProvide a clear and concise answer to their query.                                                              \n",
       "\u001b[1;33m • \u001b[0mIf appropriate, offer additional relevant information or suggestions.                                           \n",
       "\u001b[1;33m • \u001b[0mAsk if the user needs any further assistance.                                                                   \n"
      ]
     },
     "metadata": {},
     "output_type": "display_data"
    }
   ],
   "source": [
    "from tecton_gen_ai.testing.utils import print_md\n",
    "\n",
    "# create the Tecton Agent\n",
    "# create a client to invoke with the agent\n",
    "client = AgentClient.from_local(agent)\n",
    "\n",
    "# test the agent using \"sys_prompt\" prompt\n",
    "print_md(client.invoke_prompt(\"sys_prompt\"))"
   ]
  },
  {
   "cell_type": "markdown",
   "metadata": {},
   "source": [
    "## Tecton Apply + Online Retrieval"
   ]
  },
  {
   "cell_type": "code",
   "execution_count": null,
   "metadata": {},
   "outputs": [],
   "source": [
    "import os\n",
    "\n",
    "client = AgentClient.from_remote(\n",
    "    \"https://dev-gen-ai.tecton.ai\",\n",
    "    workspace=\"brian-live\",\n",
    "    service=\"hyatt_concierge\",\n",
    "    api_key=os.environ[\"TECTON_API_KEY\"],\n",
    ")"
   ]
  },
  {
   "cell_type": "code",
   "execution_count": null,
   "metadata": {},
   "outputs": [
    {
     "data": {
      "text/html": [
       "<pre style=\"white-space:pre;overflow-x:auto;line-height:normal;font-family:Menlo,'DejaVu Sans Mono',consolas,'Courier New',monospace\">You are an AI assistant for Hyatt Hotels Corporation. You have access to a knowledge base containing information   \n",
       "about Hyatt's properties, services, loyalty program, and policies. Your role is to assist customers with inquiries \n",
       "and provide accurate information based on the retrieved content.                                                   \n",
       "\n",
       "                                                   <span style=\"font-weight: bold\">Instructions</span>                                                    \n",
       "\n",
       "<span style=\"color: #808000; text-decoration-color: #808000; font-weight: bold\"> 1 </span>Analyze the user's question carefully.                                                                          \n",
       "<span style=\"color: #808000; text-decoration-color: #808000; font-weight: bold\"> 2 </span>Use the provided relevant information from the knowledge base to formulate your response.                       \n",
       "<span style=\"color: #808000; text-decoration-color: #808000; font-weight: bold\"> 3 </span>If the retrieved information doesn't fully answer the query, use your general knowledge to provide a helpful    \n",
       "<span style=\"color: #808000; text-decoration-color: #808000; font-weight: bold\">   </span>response, but clearly indicate when you're doing so.                                                            \n",
       "<span style=\"color: #808000; text-decoration-color: #808000; font-weight: bold\"> 4 </span>Always maintain a professional and courteous tone consistent with Hyatt's brand voice.                          \n",
       "<span style=\"color: #808000; text-decoration-color: #808000; font-weight: bold\"> 5 </span>If you're unsure about any information, ask the user for clarification or admit that you don't have the specific\n",
       "<span style=\"color: #808000; text-decoration-color: #808000; font-weight: bold\">   </span>details.                                                                                                        \n",
       "\n",
       "                                                  <span style=\"font-weight: bold\">Response Format</span>                                                  \n",
       "\n",
       "<span style=\"color: #808000; text-decoration-color: #808000; font-weight: bold\"> • </span>Greet the user politely.                                                                                        \n",
       "<span style=\"color: #808000; text-decoration-color: #808000; font-weight: bold\"> • </span>Provide a clear and concise answer to their query.                                                              \n",
       "<span style=\"color: #808000; text-decoration-color: #808000; font-weight: bold\"> • </span>If appropriate, offer additional relevant information or suggestions.                                           \n",
       "<span style=\"color: #808000; text-decoration-color: #808000; font-weight: bold\"> • </span>Ask if the user needs any further assistance.                                                                   \n",
       "</pre>\n"
      ],
      "text/plain": [
       "You are an AI assistant for Hyatt Hotels Corporation. You have access to a knowledge base containing information   \n",
       "about Hyatt's properties, services, loyalty program, and policies. Your role is to assist customers with inquiries \n",
       "and provide accurate information based on the retrieved content.                                                   \n",
       "\n",
       "                                                   \u001b[1mInstructions\u001b[0m                                                    \n",
       "\n",
       "\u001b[1;33m 1 \u001b[0mAnalyze the user's question carefully.                                                                          \n",
       "\u001b[1;33m 2 \u001b[0mUse the provided relevant information from the knowledge base to formulate your response.                       \n",
       "\u001b[1;33m 3 \u001b[0mIf the retrieved information doesn't fully answer the query, use your general knowledge to provide a helpful    \n",
       "\u001b[1;33m   \u001b[0mresponse, but clearly indicate when you're doing so.                                                            \n",
       "\u001b[1;33m 4 \u001b[0mAlways maintain a professional and courteous tone consistent with Hyatt's brand voice.                          \n",
       "\u001b[1;33m 5 \u001b[0mIf you're unsure about any information, ask the user for clarification or admit that you don't have the specific\n",
       "\u001b[1;33m   \u001b[0mdetails.                                                                                                        \n",
       "\n",
       "                                                  \u001b[1mResponse Format\u001b[0m                                                  \n",
       "\n",
       "\u001b[1;33m • \u001b[0mGreet the user politely.                                                                                        \n",
       "\u001b[1;33m • \u001b[0mProvide a clear and concise answer to their query.                                                              \n",
       "\u001b[1;33m • \u001b[0mIf appropriate, offer additional relevant information or suggestions.                                           \n",
       "\u001b[1;33m • \u001b[0mAsk if the user needs any further assistance.                                                                   \n"
      ]
     },
     "metadata": {},
     "output_type": "display_data"
    }
   ],
   "source": [
    "from tecton_gen_ai.testing.utils import print_md\n",
    "\n",
    "print_md(client.invoke_prompt(\"sys_prompt\"))"
   ]
  },
  {
   "cell_type": "code",
   "execution_count": null,
   "metadata": {},
   "outputs": [],
   "source": [
    "from langchain_openai import ChatOpenAI\n",
    "\n",
    "gpt_llm = ChatOpenAI(model=\"gpt-4o-mini\")"
   ]
  },
  {
   "cell_type": "code",
   "execution_count": null,
   "metadata": {},
   "outputs": [
    {
     "data": {
      "text/html": [
       "<pre style=\"white-space:pre;overflow-x:auto;line-height:normal;font-family:Menlo,'DejaVu Sans Mono',consolas,'Courier New',monospace\">To change your recent reservation, follow these general steps:                                                     \n",
       "\n",
       "<span style=\"color: #808000; text-decoration-color: #808000; font-weight: bold\"> 1 </span><span style=\"font-weight: bold\">Locate Your Confirmation</span>: Find your reservation confirmation email or reference number. This is usually sent to \n",
       "<span style=\"color: #808000; text-decoration-color: #808000; font-weight: bold\">   </span>you when you made the reservation.                                                                              \n",
       "<span style=\"color: #808000; text-decoration-color: #808000; font-weight: bold\"> 2 </span><span style=\"font-weight: bold\">Visit the Website or App</span>: Go to the website or app of the service you used to make the reservation (e.g., hotel,\n",
       "<span style=\"color: #808000; text-decoration-color: #808000; font-weight: bold\">   </span>airline, restaurant).                                                                                           \n",
       "<span style=\"color: #808000; text-decoration-color: #808000; font-weight: bold\"> 3 </span><span style=\"font-weight: bold\">Log In or Enter Details</span>: If required, log in to your account or enter your reservation details (like your       \n",
       "<span style=\"color: #808000; text-decoration-color: #808000; font-weight: bold\">   </span>confirmation number and last name) to access your booking.                                                      \n",
       "<span style=\"color: #808000; text-decoration-color: #808000; font-weight: bold\"> 4 </span><span style=\"font-weight: bold\">Find the Option to Modify</span>: Look for an option such as “Manage Reservation,” “Modify Booking,” or similar. This  \n",
       "<span style=\"color: #808000; text-decoration-color: #808000; font-weight: bold\">   </span>may be found in your account settings or directly on the reservation page.                                      \n",
       "<span style=\"color: #808000; text-decoration-color: #808000; font-weight: bold\"> 5 </span><span style=\"font-weight: bold\">Make Changes</span>: Follow the prompts to change your reservation details, such as dates, times, or number of guests. \n",
       "<span style=\"color: #808000; text-decoration-color: #808000; font-weight: bold\">   </span>Be sure to check for any additional fees or changes in rates.                                                   \n",
       "<span style=\"color: #808000; text-decoration-color: #808000; font-weight: bold\"> 6 </span><span style=\"font-weight: bold\">Confirm Changes</span>: Once you have made your changes, confirm them and check for a new confirmation email.          \n",
       "<span style=\"color: #808000; text-decoration-color: #808000; font-weight: bold\"> 7 </span><span style=\"font-weight: bold\">Contact Customer Service (if needed)</span>: If you encounter any issues, you can contact the customer service of the  \n",
       "<span style=\"color: #808000; text-decoration-color: #808000; font-weight: bold\">   </span>service provider directly for assistance.                                                                       \n",
       "\n",
       "Always check the cancellation and change policies to understand any potential fees or restrictions before          \n",
       "proceeding.                                                                                                        \n",
       "</pre>\n"
      ],
      "text/plain": [
       "To change your recent reservation, follow these general steps:                                                     \n",
       "\n",
       "\u001b[1;33m 1 \u001b[0m\u001b[1mLocate Your Confirmation\u001b[0m: Find your reservation confirmation email or reference number. This is usually sent to \n",
       "\u001b[1;33m   \u001b[0myou when you made the reservation.                                                                              \n",
       "\u001b[1;33m 2 \u001b[0m\u001b[1mVisit the Website or App\u001b[0m: Go to the website or app of the service you used to make the reservation (e.g., hotel,\n",
       "\u001b[1;33m   \u001b[0mairline, restaurant).                                                                                           \n",
       "\u001b[1;33m 3 \u001b[0m\u001b[1mLog In or Enter Details\u001b[0m: If required, log in to your account or enter your reservation details (like your       \n",
       "\u001b[1;33m   \u001b[0mconfirmation number and last name) to access your booking.                                                      \n",
       "\u001b[1;33m 4 \u001b[0m\u001b[1mFind the Option to Modify\u001b[0m: Look for an option such as “Manage Reservation,” “Modify Booking,” or similar. This  \n",
       "\u001b[1;33m   \u001b[0mmay be found in your account settings or directly on the reservation page.                                      \n",
       "\u001b[1;33m 5 \u001b[0m\u001b[1mMake Changes\u001b[0m: Follow the prompts to change your reservation details, such as dates, times, or number of guests. \n",
       "\u001b[1;33m   \u001b[0mBe sure to check for any additional fees or changes in rates.                                                   \n",
       "\u001b[1;33m 6 \u001b[0m\u001b[1mConfirm Changes\u001b[0m: Once you have made your changes, confirm them and check for a new confirmation email.          \n",
       "\u001b[1;33m 7 \u001b[0m\u001b[1mContact Customer Service (if needed)\u001b[0m: If you encounter any issues, you can contact the customer service of the  \n",
       "\u001b[1;33m   \u001b[0mservice provider directly for assistance.                                                                       \n",
       "\n",
       "Always check the cancellation and change policies to understand any potential fees or restrictions before          \n",
       "proceeding.                                                                                                        \n"
      ]
     },
     "metadata": {},
     "output_type": "display_data"
    }
   ],
   "source": [
    "print_md(\n",
    "    client.invoke_agent(llm=gpt_llm, message=\"How do I change my recent reservation?\")\n",
    ")"
   ]
  },
  {
   "cell_type": "markdown",
   "metadata": {},
   "source": [
    "# Contextual prompts with features"
   ]
  },
  {
   "cell_type": "markdown",
   "metadata": {},
   "source": [
    "### Feature view creation"
   ]
  },
  {
   "cell_type": "code",
   "execution_count": null,
   "metadata": {},
   "outputs": [],
   "source": [
    "import pandas as pd\n",
    "\n",
    "from tecton_gen_ai.testing import make_local_batch_feature_view\n",
    "\n",
    "\n",
    "mock_data = pd.DataFrame(\n",
    "    [\n",
    "        {\n",
    "            \"user_id\": \"user1\",\n",
    "            \"name\": \"Jim\",\n",
    "            \"membership_tier\": \"discoverist\",\n",
    "        },\n",
    "        {\n",
    "            \"user_id\": \"user2\",\n",
    "            \"name\": \"John\",\n",
    "            \"membership_tier\": \"explorist\",\n",
    "        },\n",
    "        {\n",
    "            \"user_id\": \"user3\",\n",
    "            \"name\": \"Jane\",\n",
    "            \"membership_tier\": \"lifetime-globalist\",\n",
    "        },\n",
    "    ]\n",
    ")\n",
    "\n",
    "user_info_fv = make_local_batch_feature_view(\n",
    "    \"user_info\",\n",
    "    mock_data,\n",
    "    entity_keys=[\"user_id\"],\n",
    "    description=\"User's profile with name and membership tier.\",\n",
    ")"
   ]
  },
  {
   "cell_type": "markdown",
   "metadata": {},
   "source": [
    "### Prompt logic"
   ]
  },
  {
   "cell_type": "code",
   "execution_count": null,
   "metadata": {},
   "outputs": [],
   "source": [
    "@prompt(sources=[user_info_fv])\n",
    "def sys_prompt(user_info):\n",
    "    from textwrap import dedent\n",
    "\n",
    "    return dedent(f\"\"\"\n",
    "        You are an AI assistant for Hyatt Hotels Corporation. You have access to a knowledge base containing information about Hyatt's properties, services, loyalty program, and policies. Your role is to assist customers with inquiries and provide accurate information based on the retrieved content.\n",
    "                  \n",
    "        ### Context\n",
    "        You are serving {user_info[\"name\"]}. They are a {user_info[\"membership_tier\"]} member.\n",
    "\n",
    "        ### Instructions\n",
    "\n",
    "        1. Analyze the user's question carefully.\n",
    "        2. Use the provided relevant information from the knowledge base to formulate your response.\n",
    "        3. If the retrieved information doesn't fully answer the query, use your general knowledge to provide a helpful response, but clearly indicate when you're doing so.\n",
    "        4. Always maintain a professional and courteous tone consistent with Hyatt's brand voice.\n",
    "        5. If you're unsure about any information, ask the user for clarification or admit that you don't have the specific details.\n",
    "                        \n",
    "        ### Response Format\n",
    "\n",
    "        - Greet the user politely.\n",
    "        - Provide a clear and concise answer to their query.\n",
    "        - If appropriate, offer additional relevant information or suggestions.\n",
    "        - Ask if the user needs any further assistance.\n",
    "    \"\"\")\n",
    "\n",
    "\n",
    "agent = AgentService(\n",
    "    name=\"hyatt_concierge\",\n",
    "    prompts=[sys_prompt],\n",
    ")"
   ]
  },
  {
   "cell_type": "code",
   "execution_count": null,
   "metadata": {},
   "outputs": [
    {
     "data": {
      "text/html": [
       "<pre style=\"white-space:pre;overflow-x:auto;line-height:normal;font-family:Menlo,'DejaVu Sans Mono',consolas,'Courier New',monospace\">You are an AI assistant for Hyatt Hotels Corporation. You have access to a knowledge base containing information   \n",
       "about Hyatt's properties, services, loyalty program, and policies. Your role is to assist customers with inquiries \n",
       "and provide accurate information based on the retrieved content.                                                   \n",
       "\n",
       "                                                      <span style=\"font-weight: bold\">Context</span>                                                      \n",
       "\n",
       "You are serving Jane. They are a lifetime-globalist member.                                                        \n",
       "\n",
       "                                                   <span style=\"font-weight: bold\">Instructions</span>                                                    \n",
       "\n",
       "<span style=\"color: #808000; text-decoration-color: #808000; font-weight: bold\"> 1 </span>Analyze the user's question carefully.                                                                          \n",
       "<span style=\"color: #808000; text-decoration-color: #808000; font-weight: bold\"> 2 </span>Use the provided relevant information from the knowledge base to formulate your response.                       \n",
       "<span style=\"color: #808000; text-decoration-color: #808000; font-weight: bold\"> 3 </span>If the retrieved information doesn't fully answer the query, use your general knowledge to provide a helpful    \n",
       "<span style=\"color: #808000; text-decoration-color: #808000; font-weight: bold\">   </span>response, but clearly indicate when you're doing so.                                                            \n",
       "<span style=\"color: #808000; text-decoration-color: #808000; font-weight: bold\"> 4 </span>Always maintain a professional and courteous tone consistent with Hyatt's brand voice.                          \n",
       "<span style=\"color: #808000; text-decoration-color: #808000; font-weight: bold\"> 5 </span>If you're unsure about any information, ask the user for clarification or admit that you don't have the specific\n",
       "<span style=\"color: #808000; text-decoration-color: #808000; font-weight: bold\">   </span>details.                                                                                                        \n",
       "\n",
       "                                                  <span style=\"font-weight: bold\">Response Format</span>                                                  \n",
       "\n",
       "<span style=\"color: #808000; text-decoration-color: #808000; font-weight: bold\"> • </span>Greet the user politely.                                                                                        \n",
       "<span style=\"color: #808000; text-decoration-color: #808000; font-weight: bold\"> • </span>Provide a clear and concise answer to their query.                                                              \n",
       "<span style=\"color: #808000; text-decoration-color: #808000; font-weight: bold\"> • </span>If appropriate, offer additional relevant information or suggestions.                                           \n",
       "<span style=\"color: #808000; text-decoration-color: #808000; font-weight: bold\"> • </span>Ask if the user needs any further assistance.                                                                   \n",
       "</pre>\n"
      ],
      "text/plain": [
       "You are an AI assistant for Hyatt Hotels Corporation. You have access to a knowledge base containing information   \n",
       "about Hyatt's properties, services, loyalty program, and policies. Your role is to assist customers with inquiries \n",
       "and provide accurate information based on the retrieved content.                                                   \n",
       "\n",
       "                                                      \u001b[1mContext\u001b[0m                                                      \n",
       "\n",
       "You are serving Jane. They are a lifetime-globalist member.                                                        \n",
       "\n",
       "                                                   \u001b[1mInstructions\u001b[0m                                                    \n",
       "\n",
       "\u001b[1;33m 1 \u001b[0mAnalyze the user's question carefully.                                                                          \n",
       "\u001b[1;33m 2 \u001b[0mUse the provided relevant information from the knowledge base to formulate your response.                       \n",
       "\u001b[1;33m 3 \u001b[0mIf the retrieved information doesn't fully answer the query, use your general knowledge to provide a helpful    \n",
       "\u001b[1;33m   \u001b[0mresponse, but clearly indicate when you're doing so.                                                            \n",
       "\u001b[1;33m 4 \u001b[0mAlways maintain a professional and courteous tone consistent with Hyatt's brand voice.                          \n",
       "\u001b[1;33m 5 \u001b[0mIf you're unsure about any information, ask the user for clarification or admit that you don't have the specific\n",
       "\u001b[1;33m   \u001b[0mdetails.                                                                                                        \n",
       "\n",
       "                                                  \u001b[1mResponse Format\u001b[0m                                                  \n",
       "\n",
       "\u001b[1;33m • \u001b[0mGreet the user politely.                                                                                        \n",
       "\u001b[1;33m • \u001b[0mProvide a clear and concise answer to their query.                                                              \n",
       "\u001b[1;33m • \u001b[0mIf appropriate, offer additional relevant information or suggestions.                                           \n",
       "\u001b[1;33m • \u001b[0mAsk if the user needs any further assistance.                                                                   \n"
      ]
     },
     "metadata": {},
     "output_type": "display_data"
    }
   ],
   "source": [
    "# create the Tecton Agent\n",
    "# create a client to invoke with the agent\n",
    "client = AgentClient.from_local(agent)\n",
    "\n",
    "# test the agent using \"sys_prompt\" prompt\n",
    "print_md(\n",
    "    client.invoke_prompt(\"sys_prompt\", kwargs=dict(user_id=\"user3\", location=\"Chicago\"))\n",
    ")"
   ]
  },
  {
   "cell_type": "markdown",
   "metadata": {},
   "source": [
    "## Execute with an agent"
   ]
  },
  {
   "cell_type": "code",
   "execution_count": null,
   "metadata": {},
   "outputs": [],
   "source": [
    "lc_agent = client.make_local_agent(llm=gpt_llm, system_prompt=\"sys_prompt\")"
   ]
  },
  {
   "cell_type": "code",
   "execution_count": null,
   "metadata": {},
   "outputs": [
    {
     "data": {
      "text/html": [
       "<pre style=\"white-space:pre;overflow-x:auto;line-height:normal;font-family:Menlo,'DejaVu Sans Mono',consolas,'Courier New',monospace\">Hello Jim!                                                                                                         \n",
       "\n",
       "To change your reservation with Hyatt, you can follow these steps:                                                 \n",
       "\n",
       "<span style=\"color: #808000; text-decoration-color: #808000; font-weight: bold\"> 1 </span><span style=\"font-weight: bold\">Online:</span> Visit the Hyatt website and log in to your account. Navigate to \"My Reservations\" where you can find    \n",
       "<span style=\"color: #808000; text-decoration-color: #808000; font-weight: bold\">   </span>your booking and make the necessary changes.                                                                    \n",
       "<span style=\"color: #808000; text-decoration-color: #808000; font-weight: bold\"> 2 </span><span style=\"font-weight: bold\">Mobile App:</span> If you have the Hyatt app, you can access your reservations directly through the app and make       \n",
       "<span style=\"color: #808000; text-decoration-color: #808000; font-weight: bold\">   </span>changes.                                                                                                        \n",
       "<span style=\"color: #808000; text-decoration-color: #808000; font-weight: bold\"> 3 </span><span style=\"font-weight: bold\">Phone:</span> You can also call Hyatt’s customer service at 1-800-228-3360 for assistance. They can help you modify    \n",
       "<span style=\"color: #808000; text-decoration-color: #808000; font-weight: bold\">   </span>your reservation.                                                                                               \n",
       "\n",
       "Please note that the ability to change your reservation may depend on the terms of your booking, including         \n",
       "cancellation policies and any associated fees.                                                                     \n",
       "\n",
       "If you need any further assistance or have additional questions, feel free to ask!                                 \n",
       "</pre>\n"
      ],
      "text/plain": [
       "Hello Jim!                                                                                                         \n",
       "\n",
       "To change your reservation with Hyatt, you can follow these steps:                                                 \n",
       "\n",
       "\u001b[1;33m 1 \u001b[0m\u001b[1mOnline:\u001b[0m Visit the Hyatt website and log in to your account. Navigate to \"My Reservations\" where you can find    \n",
       "\u001b[1;33m   \u001b[0myour booking and make the necessary changes.                                                                    \n",
       "\u001b[1;33m 2 \u001b[0m\u001b[1mMobile App:\u001b[0m If you have the Hyatt app, you can access your reservations directly through the app and make       \n",
       "\u001b[1;33m   \u001b[0mchanges.                                                                                                        \n",
       "\u001b[1;33m 3 \u001b[0m\u001b[1mPhone:\u001b[0m You can also call Hyatt’s customer service at 1-800-228-3360 for assistance. They can help you modify    \n",
       "\u001b[1;33m   \u001b[0myour reservation.                                                                                               \n",
       "\n",
       "Please note that the ability to change your reservation may depend on the terms of your booking, including         \n",
       "cancellation policies and any associated fees.                                                                     \n",
       "\n",
       "If you need any further assistance or have additional questions, feel free to ask!                                 \n"
      ]
     },
     "metadata": {},
     "output_type": "display_data"
    }
   ],
   "source": [
    "with client.set_context({\"user_id\": \"user1\"}):\n",
    "    print_md(lc_agent.invoke({\"input\": \"How do I change my reservation?\"})[\"output\"])"
   ]
  },
  {
   "cell_type": "markdown",
   "metadata": {},
   "source": [
    "# Knowledge + Prompt"
   ]
  },
  {
   "cell_type": "code",
   "execution_count": null,
   "metadata": {},
   "outputs": [],
   "source": [
    "import json\n",
    "import pathlib\n",
    "\n",
    "faq_info = json.loads(pathlib.Path(\"data/faq.json\").read_text())\n",
    "faq_df = pd.DataFrame(faq_info)"
   ]
  },
  {
   "cell_type": "code",
   "execution_count": null,
   "metadata": {},
   "outputs": [],
   "source": [
    "from tecton_gen_ai.testing import make_local_source\n",
    "from tecton_gen_ai.testing.utils import make_local_vector_db_config\n",
    "from tecton_gen_ai.api import source_as_knowledge\n",
    "\n",
    "# Create embeddings of the FAQ and store in a Vector DB\n",
    "src = make_local_source(\n",
    "    \"hyatt_faq\", faq_df, auto_timestamp=True, description=\"Hyatt FAQ\"\n",
    ")\n",
    "conf = make_local_vector_db_config(\"/tmp/test.db\", remove_if_exists=True)\n",
    "faq_knowledge = source_as_knowledge(\n",
    "    src,\n",
    "    vector_db_config=conf,\n",
    "    vectorize_column=\"question\",\n",
    ")\n",
    "\n",
    "# Rebuild the service with restaurant knowledge included\n",
    "service = AgentService(\n",
    "    name=\"hyatt_concierge\",\n",
    "    prompts=[sys_prompt],\n",
    "    knowledge=[faq_knowledge],  # added a source of knowledge\n",
    ")\n",
    "client = AgentClient.from_local(service)\n",
    "lc_agent = client.make_local_agent(llm=gpt_llm, system_prompt=\"sys_prompt\")"
   ]
  },
  {
   "cell_type": "code",
   "execution_count": null,
   "metadata": {},
   "outputs": [
    {
     "data": {
      "text/html": [
       "<pre style=\"white-space:pre;overflow-x:auto;line-height:normal;font-family:Menlo,'DejaVu Sans Mono',consolas,'Courier New',monospace\">Hello Jim!                                                                                                         \n",
       "\n",
       "To change your reservation with Hyatt, you can follow these steps:                                                 \n",
       "\n",
       "<span style=\"color: #808000; text-decoration-color: #808000; font-weight: bold\"> 1 </span><span style=\"font-weight: bold\">Visit the Hyatt Website</span>: Go to the Hyatt website and log into your account.                                     \n",
       "<span style=\"color: #808000; text-decoration-color: #808000; font-weight: bold\"> 2 </span><span style=\"font-weight: bold\">Manage Reservations</span>: Navigate to the \"Manage Reservations\" section.                                             \n",
       "<span style=\"color: #808000; text-decoration-color: #808000; font-weight: bold\"> 3 </span><span style=\"font-weight: bold\">Enter Your Details</span>: Input your confirmation number and last name to locate your reservation.                    \n",
       "<span style=\"color: #808000; text-decoration-color: #808000; font-weight: bold\"> 4 </span><span style=\"font-weight: bold\">Select Change</span>: Once your reservation is displayed, look for the option to change your reservation.              \n",
       "<span style=\"color: #808000; text-decoration-color: #808000; font-weight: bold\"> 5 </span><span style=\"font-weight: bold\">Make Changes</span>: Follow the prompts to modify your dates, room type, or any other details.                         \n",
       "\n",
       "Alternatively, you can also contact Hyatt's customer service for assistance with changing your reservation.        \n",
       "\n",
       "If you need further assistance or have any other questions, feel free to ask!                                      \n",
       "</pre>\n"
      ],
      "text/plain": [
       "Hello Jim!                                                                                                         \n",
       "\n",
       "To change your reservation with Hyatt, you can follow these steps:                                                 \n",
       "\n",
       "\u001b[1;33m 1 \u001b[0m\u001b[1mVisit the Hyatt Website\u001b[0m: Go to the Hyatt website and log into your account.                                     \n",
       "\u001b[1;33m 2 \u001b[0m\u001b[1mManage Reservations\u001b[0m: Navigate to the \"Manage Reservations\" section.                                             \n",
       "\u001b[1;33m 3 \u001b[0m\u001b[1mEnter Your Details\u001b[0m: Input your confirmation number and last name to locate your reservation.                    \n",
       "\u001b[1;33m 4 \u001b[0m\u001b[1mSelect Change\u001b[0m: Once your reservation is displayed, look for the option to change your reservation.              \n",
       "\u001b[1;33m 5 \u001b[0m\u001b[1mMake Changes\u001b[0m: Follow the prompts to modify your dates, room type, or any other details.                         \n",
       "\n",
       "Alternatively, you can also contact Hyatt's customer service for assistance with changing your reservation.        \n",
       "\n",
       "If you need further assistance or have any other questions, feel free to ask!                                      \n"
      ]
     },
     "metadata": {},
     "output_type": "display_data"
    }
   ],
   "source": [
    "with client.set_context({\"user_id\": \"user1\"}):\n",
    "    print_md(lc_agent.invoke({\"input\": \"How do I change my reservation?\"})[\"output\"])"
   ]
  },
  {
   "cell_type": "markdown",
   "metadata": {},
   "source": [
    "# Prompt + Knowledge + Features"
   ]
  },
  {
   "cell_type": "markdown",
   "metadata": {},
   "source": [
    "### Feature view creation"
   ]
  },
  {
   "cell_type": "code",
   "execution_count": null,
   "metadata": {},
   "outputs": [],
   "source": [
    "mock_data = pd.DataFrame(\n",
    "    [\n",
    "        {\n",
    "            \"user_id\": \"user1\",\n",
    "            \"last_updated\": \"2024-01-01\",\n",
    "            \"reservations\": json.dumps(\n",
    "                [\n",
    "                    {\n",
    "                        \"hotel_name\": \"Grand Hyatt Bogotá\",\n",
    "                        \"reservation_id\": \"123456\",\n",
    "                        \"check_in\": \"2025-01-01\",\n",
    "                        \"check_out\": \"2025-01-02\",\n",
    "                    },\n",
    "                    {\n",
    "                        \"hotel_name\": \"Hyatt Regency Houston/Galleria\",\n",
    "                        \"reservation_id\": \"654321\",\n",
    "                        \"check_in\": \"2025-02-01\",\n",
    "                        \"check_out\": \"2025-02-02\",\n",
    "                    },\n",
    "                ]\n",
    "            ),\n",
    "        },\n",
    "    ]\n",
    ")\n",
    "\n",
    "reservations_fv = make_local_batch_feature_view(\n",
    "    \"user_reservations\",\n",
    "    mock_data,\n",
    "    entity_keys=[\"user_id\"],\n",
    "    description=\"User's recent reservations. Call this whenever a user mentions a reservation.\",\n",
    ")"
   ]
  },
  {
   "cell_type": "markdown",
   "metadata": {},
   "source": [
    "### Prompt logic"
   ]
  },
  {
   "cell_type": "code",
   "execution_count": null,
   "metadata": {},
   "outputs": [],
   "source": [
    "@prompt(sources=[user_info_fv])\n",
    "def sys_prompt(user_info):\n",
    "    from textwrap import dedent\n",
    "\n",
    "    name = user_info[\"name\"]\n",
    "    return dedent(f\"\"\"\n",
    "    You are a customer support chatbot for Hyatt Hotels.\n",
    "    Your goal is to efficiently answer the user's question,\n",
    "    and effectively direct them to the appropriate resources.\n",
    "\n",
    "    You are serving {name}, an existing customer who is logged in. \n",
    "    Please address them by name.\n",
    "\n",
    "    Rules:\n",
    "      - Respond to the user query using the provided knowledge base and tools. Do not make up information.\n",
    "      - There are times where you will need just knowledge, just tools, or both.\n",
    "      - Always provide links as context if they are retrieved from the knowledge base.\n",
    "    \"\"\")"
   ]
  },
  {
   "cell_type": "code",
   "execution_count": null,
   "metadata": {},
   "outputs": [],
   "source": [
    "hyatt_service = AgentService(\n",
    "    name=\"hyatt_concierge\",\n",
    "    prompts=[sys_prompt],\n",
    "    knowledge=[faq_knowledge],  # added a source of knowledge\n",
    "    tools=[reservations_fv],\n",
    ")\n",
    "hyatt_client = AgentClient.from_local(hyatt_service)\n",
    "lc_agent = hyatt_client.make_local_agent(llm=gpt_llm, system_prompt=\"sys_prompt\")"
   ]
  },
  {
   "cell_type": "code",
   "execution_count": null,
   "metadata": {},
   "outputs": [
    {
     "data": {
      "text/html": [
       "<pre style=\"white-space:pre;overflow-x:auto;line-height:normal;font-family:Menlo,'DejaVu Sans Mono',consolas,'Courier New',monospace\">Jim, I see you have two recent reservations:                                                                       \n",
       "\n",
       "<span style=\"color: #808000; text-decoration-color: #808000; font-weight: bold\"> 1 </span><span style=\"font-weight: bold\">Grand Hyatt Bogotá</span>                                                                                              \n",
       "<span style=\"color: #808000; text-decoration-color: #808000; font-weight: bold\">    • </span>Reservation ID: 123456                                                                                       \n",
       "<span style=\"color: #808000; text-decoration-color: #808000; font-weight: bold\">    • </span>Check-in: January 1, 2025                                                                                    \n",
       "<span style=\"color: #808000; text-decoration-color: #808000; font-weight: bold\">    • </span>Check-out: January 2, 2025                                                                                   \n",
       "<span style=\"color: #808000; text-decoration-color: #808000; font-weight: bold\"> 2 </span><span style=\"font-weight: bold\">Hyatt Regency Houston/Galleria</span>                                                                                  \n",
       "<span style=\"color: #808000; text-decoration-color: #808000; font-weight: bold\">    • </span>Reservation ID: 654321                                                                                       \n",
       "<span style=\"color: #808000; text-decoration-color: #808000; font-weight: bold\">    • </span>Check-in: February 1, 2025                                                                                   \n",
       "<span style=\"color: #808000; text-decoration-color: #808000; font-weight: bold\">    • </span>Check-out: February 2, 2025                                                                                  \n",
       "\n",
       "To change a reservation, you can follow these steps:                                                               \n",
       "\n",
       "<span style=\"color: #808000; text-decoration-color: #808000; font-weight: bold\"> 1 </span><span style=\"font-weight: bold\">Log in to your Hyatt account</span> on the Hyatt website or mobile app.                                                \n",
       "<span style=\"color: #808000; text-decoration-color: #808000; font-weight: bold\"> 2 </span>Navigate to the \"My Reservations\" section.                                                                      \n",
       "<span style=\"color: #808000; text-decoration-color: #808000; font-weight: bold\"> 3 </span>Select the reservation you want to change.                                                                      \n",
       "<span style=\"color: #808000; text-decoration-color: #808000; font-weight: bold\"> 4 </span>Follow the prompts to modify your reservation details (dates, room type, etc.).                                 \n",
       "\n",
       "If you need more assistance or specific instructions, I can look up more detailed FAQs for you. Would you like     \n",
       "that?                                                                                                              \n",
       "</pre>\n"
      ],
      "text/plain": [
       "Jim, I see you have two recent reservations:                                                                       \n",
       "\n",
       "\u001b[1;33m 1 \u001b[0m\u001b[1mGrand Hyatt Bogotá\u001b[0m                                                                                              \n",
       "\u001b[1;33m   \u001b[0m\u001b[1;33m • \u001b[0mReservation ID: 123456                                                                                       \n",
       "\u001b[1;33m   \u001b[0m\u001b[1;33m • \u001b[0mCheck-in: January 1, 2025                                                                                    \n",
       "\u001b[1;33m   \u001b[0m\u001b[1;33m • \u001b[0mCheck-out: January 2, 2025                                                                                   \n",
       "\u001b[1;33m 2 \u001b[0m\u001b[1mHyatt Regency Houston/Galleria\u001b[0m                                                                                  \n",
       "\u001b[1;33m   \u001b[0m\u001b[1;33m • \u001b[0mReservation ID: 654321                                                                                       \n",
       "\u001b[1;33m   \u001b[0m\u001b[1;33m • \u001b[0mCheck-in: February 1, 2025                                                                                   \n",
       "\u001b[1;33m   \u001b[0m\u001b[1;33m • \u001b[0mCheck-out: February 2, 2025                                                                                  \n",
       "\n",
       "To change a reservation, you can follow these steps:                                                               \n",
       "\n",
       "\u001b[1;33m 1 \u001b[0m\u001b[1mLog in to your Hyatt account\u001b[0m on the Hyatt website or mobile app.                                                \n",
       "\u001b[1;33m 2 \u001b[0mNavigate to the \"My Reservations\" section.                                                                      \n",
       "\u001b[1;33m 3 \u001b[0mSelect the reservation you want to change.                                                                      \n",
       "\u001b[1;33m 4 \u001b[0mFollow the prompts to modify your reservation details (dates, room type, etc.).                                 \n",
       "\n",
       "If you need more assistance or specific instructions, I can look up more detailed FAQs for you. Would you like     \n",
       "that?                                                                                                              \n"
      ]
     },
     "metadata": {},
     "output_type": "display_data"
    }
   ],
   "source": [
    "with hyatt_client.set_context({\"user_id\": \"user1\", \"location\": \"Charlotte, NC\"}):\n",
    "    print_md(\n",
    "        lc_agent.invoke({\"input\": \"How do I change my recent reservation?\"})[\"output\"]\n",
    "    )"
   ]
  },
  {
   "cell_type": "code",
   "execution_count": null,
   "metadata": {},
   "outputs": [],
   "source": []
  }
 ],
 "metadata": {
  "kernelspec": {
   "display_name": "python3",
   "language": "python",
   "name": "python3"
  }
 },
 "nbformat": 4,
 "nbformat_minor": 2
}
