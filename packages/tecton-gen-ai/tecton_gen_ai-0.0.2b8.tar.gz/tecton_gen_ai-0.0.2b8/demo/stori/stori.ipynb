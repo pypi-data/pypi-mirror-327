{
 "cells": [
  {
   "cell_type": "markdown",
   "id": "cc4e26b8-01c2-4d16-8ce6-e38e5ece783b",
   "metadata": {},
   "source": [
    "# Building Hyper-Personalized Branding Agents\n",
    "\n",
    "## Objective\n",
    "\n",
    "**We want to leverage historical datapoints on Linkedin posts to optimize and personalize the next post.**\n",
    "\n",
    "## Assumption\n",
    "\n",
    "1. Stori can track each user's Linkedin posts (views and comments)\n",
    "2. There are already a way to do topic clustering, so we know each post's topic, and for each user, there are limited number of topics associated with posts\n",
    "3. Stori can in near real time collect these data points\n",
    "\n"
   ]
  },
  {
   "cell_type": "code",
   "execution_count": null,
   "id": "dcb45e5c-e55c-47f9-abe8-3857d17b9398",
   "metadata": {},
   "outputs": [],
   "source": [
    "import pandas as pd\n",
    "from datetime import datetime, timedelta\n",
    "import random\n",
    "from uuid import uuid4\n",
    "\n",
    "topics1 = [\n",
    "    \"Real-time feature engineering\",\n",
    "    \"Scalable data processing\",\n",
    "    \"Automated model deployment\",\n",
    "    \"Feature store integration\",\n",
    "    \"Data versioning and lineage\",\n",
    "    \"Low-latency predictions\",\n",
    "    \"Seamless data ingestion\",\n",
    "    \"Advanced analytics capabilities\",\n",
    "    \"Custom feature transformations\",\n",
    "    \"End-to-end ML pipeline\",\n",
    "]\n",
    "\n",
    "topics2 = [\n",
    "    \"Beginner Fashion Design Workshop\",\n",
    "    \"Advanced Sewing Techniques\",\n",
    "    \"Sustainable Fashion Practices\",\n",
    "    \"Digital Fashion Illustration\",\n",
    "    \"Textile Design Basics\",\n",
    "    \"Fashion Portfolio Development\",\n",
    "    \"Creative Pattern Making\",\n",
    "    \"Fashion Trend Forecasting\",\n",
    "    \"Couture Embroidery Techniques\",\n",
    "    \"Fashion Business Essentials\",\n",
    "]\n",
    "\n",
    "\n",
    "random.seed(42)\n",
    "\n",
    "\n",
    "def generate_views_events(user, topics, cap):\n",
    "    for topic in topics:\n",
    "        n = random.randint(1, cap)\n",
    "        for _ in range(n):\n",
    "            t = random.uniform(0, 5)\n",
    "            yield dict(\n",
    "                ts=datetime(2024, 10, 10) + timedelta(days=t),\n",
    "                stori_user_id=user,\n",
    "                post_id=str(uuid4()).split(\"-\")[0],\n",
    "                topic=topic,\n",
    "                views=random.randint(10, 50),\n",
    "            )\n",
    "\n",
    "\n",
    "def generate_comments(user, topics, cap):\n",
    "    comments = [\"it is bad!\", \"it is good!\", \"i am not sure\"]\n",
    "    for topic in topics:\n",
    "        n = random.randint(1, cap)\n",
    "        for _ in range(n):\n",
    "            t = random.uniform(0, 5)\n",
    "            yield dict(\n",
    "                ts=datetime(2024, 10, 10) + timedelta(days=t),\n",
    "                stori_user_id=user,\n",
    "                post_id=str(uuid4()).split(\"-\")[0],\n",
    "                topic=topic,\n",
    "                comment=random.choice(comments),\n",
    "            )"
   ]
  },
  {
   "cell_type": "markdown",
   "id": "c5891a58-c281-4584-b5a0-b8a88d11bbbf",
   "metadata": {},
   "source": [
    "## Post Views Events"
   ]
  },
  {
   "cell_type": "code",
   "execution_count": null,
   "id": "a04fdc66-c656-4b42-859b-bfadf3d9522e",
   "metadata": {},
   "outputs": [
    {
     "data": {
      "text/html": [
       "<div>\n",
       "<style scoped>\n",
       "    .dataframe tbody tr th:only-of-type {\n",
       "        vertical-align: middle;\n",
       "    }\n",
       "\n",
       "    .dataframe tbody tr th {\n",
       "        vertical-align: top;\n",
       "    }\n",
       "\n",
       "    .dataframe thead th {\n",
       "        text-align: right;\n",
       "    }\n",
       "</style>\n",
       "<table border=\"1\" class=\"dataframe\">\n",
       "  <thead>\n",
       "    <tr style=\"text-align: right;\">\n",
       "      <th></th>\n",
       "      <th>ts</th>\n",
       "      <th>stori_user_id</th>\n",
       "      <th>post_id</th>\n",
       "      <th>topic</th>\n",
       "      <th>views</th>\n",
       "    </tr>\n",
       "  </thead>\n",
       "  <tbody>\n",
       "    <tr>\n",
       "      <th>0</th>\n",
       "      <td>2024-10-10 03:00:04.646256</td>\n",
       "      <td>user_tecton</td>\n",
       "      <td>d7a315ea</td>\n",
       "      <td>Real-time feature engineering</td>\n",
       "      <td>27</td>\n",
       "    </tr>\n",
       "    <tr>\n",
       "      <th>1</th>\n",
       "      <td>2024-10-10 03:34:32.398797</td>\n",
       "      <td>user_tecton</td>\n",
       "      <td>736d6905</td>\n",
       "      <td>Automated model deployment</td>\n",
       "      <td>23</td>\n",
       "    </tr>\n",
       "    <tr>\n",
       "      <th>2</th>\n",
       "      <td>2024-10-10 05:29:56.133739</td>\n",
       "      <td>user_tecton</td>\n",
       "      <td>60ccf091</td>\n",
       "      <td>Seamless data ingestion</td>\n",
       "      <td>24</td>\n",
       "    </tr>\n",
       "    <tr>\n",
       "      <th>3</th>\n",
       "      <td>2024-10-10 07:40:59.187213</td>\n",
       "      <td>user_fashon</td>\n",
       "      <td>59139683</td>\n",
       "      <td>Fashion Trend Forecasting</td>\n",
       "      <td>11</td>\n",
       "    </tr>\n",
       "    <tr>\n",
       "      <th>4</th>\n",
       "      <td>2024-10-10 07:56:33.477451</td>\n",
       "      <td>user_tecton</td>\n",
       "      <td>32beb38c</td>\n",
       "      <td>End-to-end ML pipeline</td>\n",
       "      <td>46</td>\n",
       "    </tr>\n",
       "    <tr>\n",
       "      <th>...</th>\n",
       "      <td>...</td>\n",
       "      <td>...</td>\n",
       "      <td>...</td>\n",
       "      <td>...</td>\n",
       "      <td>...</td>\n",
       "    </tr>\n",
       "    <tr>\n",
       "      <th>85</th>\n",
       "      <td>2024-10-14 15:28:10.628977</td>\n",
       "      <td>user_fashon</td>\n",
       "      <td>4023563f</td>\n",
       "      <td>Creative Pattern Making</td>\n",
       "      <td>22</td>\n",
       "    </tr>\n",
       "    <tr>\n",
       "      <th>86</th>\n",
       "      <td>2024-10-14 17:37:18.629633</td>\n",
       "      <td>user_fashon</td>\n",
       "      <td>04c60767</td>\n",
       "      <td>Creative Pattern Making</td>\n",
       "      <td>20</td>\n",
       "    </tr>\n",
       "    <tr>\n",
       "      <th>87</th>\n",
       "      <td>2024-10-14 18:51:56.047193</td>\n",
       "      <td>user_tecton</td>\n",
       "      <td>066a6e17</td>\n",
       "      <td>Data versioning and lineage</td>\n",
       "      <td>31</td>\n",
       "    </tr>\n",
       "    <tr>\n",
       "      <th>88</th>\n",
       "      <td>2024-10-14 22:44:34.087475</td>\n",
       "      <td>user_tecton</td>\n",
       "      <td>2a7b84c0</td>\n",
       "      <td>Custom feature transformations</td>\n",
       "      <td>50</td>\n",
       "    </tr>\n",
       "    <tr>\n",
       "      <th>89</th>\n",
       "      <td>2024-10-14 23:25:04.522078</td>\n",
       "      <td>user_fashon</td>\n",
       "      <td>930aab9e</td>\n",
       "      <td>Creative Pattern Making</td>\n",
       "      <td>33</td>\n",
       "    </tr>\n",
       "  </tbody>\n",
       "</table>\n",
       "<p>90 rows × 5 columns</p>\n",
       "</div>"
      ],
      "text/plain": [
       "                           ts stori_user_id   post_id  \\\n",
       "0  2024-10-10 03:00:04.646256   user_tecton  d7a315ea   \n",
       "1  2024-10-10 03:34:32.398797   user_tecton  736d6905   \n",
       "2  2024-10-10 05:29:56.133739   user_tecton  60ccf091   \n",
       "3  2024-10-10 07:40:59.187213   user_fashon  59139683   \n",
       "4  2024-10-10 07:56:33.477451   user_tecton  32beb38c   \n",
       "..                        ...           ...       ...   \n",
       "85 2024-10-14 15:28:10.628977   user_fashon  4023563f   \n",
       "86 2024-10-14 17:37:18.629633   user_fashon  04c60767   \n",
       "87 2024-10-14 18:51:56.047193   user_tecton  066a6e17   \n",
       "88 2024-10-14 22:44:34.087475   user_tecton  2a7b84c0   \n",
       "89 2024-10-14 23:25:04.522078   user_fashon  930aab9e   \n",
       "\n",
       "                             topic  views  \n",
       "0    Real-time feature engineering     27  \n",
       "1       Automated model deployment     23  \n",
       "2          Seamless data ingestion     24  \n",
       "3        Fashion Trend Forecasting     11  \n",
       "4           End-to-end ML pipeline     46  \n",
       "..                             ...    ...  \n",
       "85         Creative Pattern Making     22  \n",
       "86         Creative Pattern Making     20  \n",
       "87     Data versioning and lineage     31  \n",
       "88  Custom feature transformations     50  \n",
       "89         Creative Pattern Making     33  \n",
       "\n",
       "[90 rows x 5 columns]"
      ]
     },
     "execution_count": null,
     "metadata": {},
     "output_type": "execute_result"
    }
   ],
   "source": [
    "df1 = pd.DataFrame(generate_views_events(\"user_tecton\", topics1, 10))\n",
    "df2 = pd.DataFrame(generate_views_events(\"user_fashon\", topics2, 10))\n",
    "df = pd.concat([df1, df2])\n",
    "df[\"ts\"] = pd.to_datetime(df.ts)\n",
    "views = df.sort_values(by=[\"ts\"]).reset_index(drop=True)\n",
    "\n",
    "views"
   ]
  },
  {
   "cell_type": "markdown",
   "id": "1d690c85-5752-4b73-b42c-36c2535f83d4",
   "metadata": {},
   "source": [
    "## Post Comment Events"
   ]
  },
  {
   "cell_type": "code",
   "execution_count": null,
   "id": "b6fd81f3-aaf4-4bde-a9aa-202438335066",
   "metadata": {},
   "outputs": [
    {
     "data": {
      "text/html": [
       "<div>\n",
       "<style scoped>\n",
       "    .dataframe tbody tr th:only-of-type {\n",
       "        vertical-align: middle;\n",
       "    }\n",
       "\n",
       "    .dataframe tbody tr th {\n",
       "        vertical-align: top;\n",
       "    }\n",
       "\n",
       "    .dataframe thead th {\n",
       "        text-align: right;\n",
       "    }\n",
       "</style>\n",
       "<table border=\"1\" class=\"dataframe\">\n",
       "  <thead>\n",
       "    <tr style=\"text-align: right;\">\n",
       "      <th></th>\n",
       "      <th>ts</th>\n",
       "      <th>stori_user_id</th>\n",
       "      <th>post_id</th>\n",
       "      <th>topic</th>\n",
       "      <th>comment</th>\n",
       "    </tr>\n",
       "  </thead>\n",
       "  <tbody>\n",
       "    <tr>\n",
       "      <th>0</th>\n",
       "      <td>2024-10-10 01:07:04.277374</td>\n",
       "      <td>user_tecton</td>\n",
       "      <td>b0001dbb</td>\n",
       "      <td>Advanced analytics capabilities</td>\n",
       "      <td>i am not sure</td>\n",
       "    </tr>\n",
       "    <tr>\n",
       "      <th>1</th>\n",
       "      <td>2024-10-10 01:09:37.310231</td>\n",
       "      <td>user_fashon</td>\n",
       "      <td>4b5251a4</td>\n",
       "      <td>Digital Fashion Illustration</td>\n",
       "      <td>it is bad!</td>\n",
       "    </tr>\n",
       "    <tr>\n",
       "      <th>2</th>\n",
       "      <td>2024-10-10 04:19:24.155642</td>\n",
       "      <td>user_fashon</td>\n",
       "      <td>9e5b2e14</td>\n",
       "      <td>Digital Fashion Illustration</td>\n",
       "      <td>it is good!</td>\n",
       "    </tr>\n",
       "    <tr>\n",
       "      <th>3</th>\n",
       "      <td>2024-10-10 04:35:27.109257</td>\n",
       "      <td>user_fashon</td>\n",
       "      <td>785373b2</td>\n",
       "      <td>Fashion Business Essentials</td>\n",
       "      <td>i am not sure</td>\n",
       "    </tr>\n",
       "    <tr>\n",
       "      <th>4</th>\n",
       "      <td>2024-10-10 04:46:08.398109</td>\n",
       "      <td>user_tecton</td>\n",
       "      <td>cefd3dc5</td>\n",
       "      <td>Seamless data ingestion</td>\n",
       "      <td>it is bad!</td>\n",
       "    </tr>\n",
       "    <tr>\n",
       "      <th>...</th>\n",
       "      <td>...</td>\n",
       "      <td>...</td>\n",
       "      <td>...</td>\n",
       "      <td>...</td>\n",
       "      <td>...</td>\n",
       "    </tr>\n",
       "    <tr>\n",
       "      <th>95</th>\n",
       "      <td>2024-10-14 20:14:42.445667</td>\n",
       "      <td>user_tecton</td>\n",
       "      <td>f191feb9</td>\n",
       "      <td>Low-latency predictions</td>\n",
       "      <td>i am not sure</td>\n",
       "    </tr>\n",
       "    <tr>\n",
       "      <th>96</th>\n",
       "      <td>2024-10-14 20:16:46.383147</td>\n",
       "      <td>user_tecton</td>\n",
       "      <td>595f3483</td>\n",
       "      <td>Feature store integration</td>\n",
       "      <td>it is bad!</td>\n",
       "    </tr>\n",
       "    <tr>\n",
       "      <th>97</th>\n",
       "      <td>2024-10-14 22:03:44.630029</td>\n",
       "      <td>user_tecton</td>\n",
       "      <td>ecc27d1a</td>\n",
       "      <td>Custom feature transformations</td>\n",
       "      <td>i am not sure</td>\n",
       "    </tr>\n",
       "    <tr>\n",
       "      <th>98</th>\n",
       "      <td>2024-10-14 23:48:52.318449</td>\n",
       "      <td>user_tecton</td>\n",
       "      <td>3ba4dc83</td>\n",
       "      <td>Advanced analytics capabilities</td>\n",
       "      <td>it is bad!</td>\n",
       "    </tr>\n",
       "    <tr>\n",
       "      <th>99</th>\n",
       "      <td>2024-10-14 23:54:50.026354</td>\n",
       "      <td>user_tecton</td>\n",
       "      <td>5ded35a5</td>\n",
       "      <td>Feature store integration</td>\n",
       "      <td>it is bad!</td>\n",
       "    </tr>\n",
       "  </tbody>\n",
       "</table>\n",
       "<p>100 rows × 5 columns</p>\n",
       "</div>"
      ],
      "text/plain": [
       "                           ts stori_user_id   post_id  \\\n",
       "0  2024-10-10 01:07:04.277374   user_tecton  b0001dbb   \n",
       "1  2024-10-10 01:09:37.310231   user_fashon  4b5251a4   \n",
       "2  2024-10-10 04:19:24.155642   user_fashon  9e5b2e14   \n",
       "3  2024-10-10 04:35:27.109257   user_fashon  785373b2   \n",
       "4  2024-10-10 04:46:08.398109   user_tecton  cefd3dc5   \n",
       "..                        ...           ...       ...   \n",
       "95 2024-10-14 20:14:42.445667   user_tecton  f191feb9   \n",
       "96 2024-10-14 20:16:46.383147   user_tecton  595f3483   \n",
       "97 2024-10-14 22:03:44.630029   user_tecton  ecc27d1a   \n",
       "98 2024-10-14 23:48:52.318449   user_tecton  3ba4dc83   \n",
       "99 2024-10-14 23:54:50.026354   user_tecton  5ded35a5   \n",
       "\n",
       "                              topic        comment  \n",
       "0   Advanced analytics capabilities  i am not sure  \n",
       "1      Digital Fashion Illustration     it is bad!  \n",
       "2      Digital Fashion Illustration    it is good!  \n",
       "3       Fashion Business Essentials  i am not sure  \n",
       "4           Seamless data ingestion     it is bad!  \n",
       "..                              ...            ...  \n",
       "95          Low-latency predictions  i am not sure  \n",
       "96        Feature store integration     it is bad!  \n",
       "97   Custom feature transformations  i am not sure  \n",
       "98  Advanced analytics capabilities     it is bad!  \n",
       "99        Feature store integration     it is bad!  \n",
       "\n",
       "[100 rows x 5 columns]"
      ]
     },
     "execution_count": null,
     "metadata": {},
     "output_type": "execute_result"
    }
   ],
   "source": [
    "df1 = pd.DataFrame(generate_comments(\"user_tecton\", topics1, 9))\n",
    "df2 = pd.DataFrame(generate_comments(\"user_fashon\", topics2, 9))\n",
    "df = pd.concat([df1, df2])\n",
    "df[\"ts\"] = pd.to_datetime(df.ts)\n",
    "comments = df.sort_values(by=[\"ts\"]).reset_index(drop=True)\n",
    "\n",
    "comments"
   ]
  },
  {
   "cell_type": "code",
   "execution_count": null,
   "id": "95fca36b-de6e-4d1f-a737-a6daf936b35b",
   "metadata": {},
   "outputs": [],
   "source": [
    "from tecton import Aggregate\n",
    "from tecton.types import Field as TectonField, Int64, Float64, String\n",
    "from tecton_gen_ai.testing import (\n",
    "    make_local_source,\n",
    "    set_dev_mode,\n",
    "    make_local_batch_feature_view,\n",
    ")\n",
    "\n",
    "set_dev_mode()"
   ]
  },
  {
   "cell_type": "markdown",
   "id": "d5798b1c-673c-4f35-a525-4bbb02e9594d",
   "metadata": {},
   "source": [
    "## User Info as Context"
   ]
  },
  {
   "cell_type": "code",
   "execution_count": null,
   "id": "18323080-3663-43dd-9173-9e7bfd998e7d",
   "metadata": {},
   "outputs": [],
   "source": [
    "user_info_data = [\n",
    "    {\n",
    "        \"stori_user_id\": \"user_tecton\",\n",
    "        \"company_name\": \"Tecton\",\n",
    "        \"description\": \"Tecton is a SaaS company that provides a feature platform designed to streamline the creation, management, and deployment of machine learning features. It enables data teams to build real-time, production-ready features efficiently, enhancing the performance and scalability of AI models.\",\n",
    "    },\n",
    "    {\n",
    "        \"stori_user_id\": \"user_fashon\",\n",
    "        \"company_name\": \"Fashon\",\n",
    "        \"description\": \"Fashon is a cutting-edge fashion design studio that specializes in creating innovative and trendsetting apparel. With a focus on creativity and craftsmanship, Fashon delivers unique and stylish designs that cater to diverse tastes, setting new standards in the fashion industry.\",\n",
    "    },\n",
    "]\n",
    "\n",
    "user_info = make_local_batch_feature_view(\n",
    "    \"user_info\",\n",
    "    user_info_data,\n",
    "    entity_keys=[\"stori_user_id\"],\n",
    "    description=\"User company profile\",\n",
    ")"
   ]
  },
  {
   "cell_type": "markdown",
   "id": "0bad9d75-92c5-45c0-89f2-20757bf7d846",
   "metadata": {},
   "source": [
    "## Topic Views as Context"
   ]
  },
  {
   "cell_type": "code",
   "execution_count": null,
   "id": "8fef5ccd-ea75-430d-a6f8-0df24281e2b1",
   "metadata": {},
   "outputs": [],
   "source": [
    "topic_views = make_local_batch_feature_view(\n",
    "    \"topic_views\",\n",
    "    views,\n",
    "    entity_keys=[\"stori_user_id\"],\n",
    "    aggregation_secondary_key=\"topic\",\n",
    "    timestamp_field=\"ts\",\n",
    "    features=[\n",
    "        Aggregate(\n",
    "            input_column=TectonField(\"views\", Int64),\n",
    "            function=\"sum\",\n",
    "            time_window=timedelta(days=365),\n",
    "            name=\"total_views\",\n",
    "        ),\n",
    "    ],\n",
    "    description=\"Total views of posts of each topic\",\n",
    "    aggregation_interval=timedelta(hours=4),\n",
    ")"
   ]
  },
  {
   "cell_type": "code",
   "execution_count": null,
   "id": "5ad6a1ab-bd24-48d6-bf28-178cd1edf295",
   "metadata": {},
   "outputs": [],
   "source": [
    "request = pd.DataFrame([{\"stori_user_id\": \"user_tecton\", \"ts\": datetime.now()}])\n",
    "topic_views.get_features_for_events(request).to_pandas()"
   ]
  },
  {
   "cell_type": "markdown",
   "id": "506df00f-e4a9-473d-b561-7622dd690a02",
   "metadata": {},
   "source": [
    "## Using LLM to extract comment sentiment as Context"
   ]
  },
  {
   "cell_type": "code",
   "execution_count": null,
   "id": "092358ba-5e04-4daa-858a-6b5329da9e44",
   "metadata": {},
   "outputs": [],
   "source": [
    "from pydantic import BaseModel, Field\n",
    "from tecton import Entity\n",
    "from tecton_gen_ai.extraction import llm_extraction\n",
    "\n",
    "\n",
    "class Sentiment(BaseModel):\n",
    "    sentiment_score: float = Field(\n",
    "        description=\"sentiment score of the text, from 0 (most negative) to 1 (most positive)\"\n",
    "    )\n",
    "    keywords: list[str] = Field(description=\"keywords extracted from the comment\")\n",
    "\n",
    "\n",
    "src = make_local_source(\n",
    "    \"src\",\n",
    "    comments,\n",
    "    timestamp_field=\"ts\",\n",
    ")\n",
    "\n",
    "user_id = Entity(\n",
    "    name=\"stori_user_id\",\n",
    "    join_keys=[TectonField(name=\"stori_user_id\", dtype=String)],\n",
    "    description=\"Stori user id, starting with `user_`\",\n",
    ")\n",
    "\n",
    "topic_sentiments = llm_extraction(\n",
    "    src,\n",
    "    name=\"topic_sentiments\",\n",
    "    aggregation_secondary_key=\"topic\",\n",
    "    extraction_config=[\n",
    "        {\n",
    "            \"model\": \"openai/gpt-4o-mini\",\n",
    "            \"column\": \"comment\",\n",
    "            \"output_schema\": Sentiment,\n",
    "        },\n",
    "    ],\n",
    "    features=[\n",
    "        Aggregate(\n",
    "            input_column=TectonField(\"sentiment_score\", Float64),\n",
    "            function=\"mean\",\n",
    "            time_window=timedelta(days=365),\n",
    "            name=\"average_sentiment\",\n",
    "        ),\n",
    "    ],\n",
    "    entities=[user_id],\n",
    "    aggregation_interval=timedelta(hours=4),\n",
    "    description=\"Comments average sentiment (0 - 1) on posts with certain topics on linkedin\",\n",
    ")"
   ]
  },
  {
   "cell_type": "code",
   "execution_count": null,
   "id": "7f68f665-3c85-4e76-a4be-95762f0ad7a8",
   "metadata": {},
   "outputs": [
    {
     "data": {
      "text/html": [
       "<div>\n",
       "<style scoped>\n",
       "    .dataframe tbody tr th:only-of-type {\n",
       "        vertical-align: middle;\n",
       "    }\n",
       "\n",
       "    .dataframe tbody tr th {\n",
       "        vertical-align: top;\n",
       "    }\n",
       "\n",
       "    .dataframe thead th {\n",
       "        text-align: right;\n",
       "    }\n",
       "</style>\n",
       "<table border=\"1\" class=\"dataframe\">\n",
       "  <thead>\n",
       "    <tr style=\"text-align: right;\">\n",
       "      <th></th>\n",
       "      <th>stori_user_id</th>\n",
       "      <th>ts</th>\n",
       "      <th>topic_sentiments_batch__sentiment_score</th>\n",
       "      <th>topic_sentiments_batch__keywords</th>\n",
       "    </tr>\n",
       "  </thead>\n",
       "  <tbody>\n",
       "    <tr>\n",
       "      <th>0</th>\n",
       "      <td>user_tecton</td>\n",
       "      <td>2024-12-03 16:09:34.050764+00:00</td>\n",
       "      <td>0.0</td>\n",
       "      <td>[bad]</td>\n",
       "    </tr>\n",
       "  </tbody>\n",
       "</table>\n",
       "</div>"
      ],
      "text/plain": [
       "  stori_user_id                               ts  \\\n",
       "0   user_tecton 2024-12-03 16:09:34.050764+00:00   \n",
       "\n",
       "   topic_sentiments_batch__sentiment_score topic_sentiments_batch__keywords  \n",
       "0                                      0.0                            [bad]  "
      ]
     },
     "execution_count": null,
     "metadata": {},
     "output_type": "execute_result"
    }
   ],
   "source": [
    "topic_sentiments.get_features_for_events(request).to_pandas()"
   ]
  },
  {
   "cell_type": "markdown",
   "id": "145c0cdb-2a6b-408c-851b-d529a8e7af2f",
   "metadata": {},
   "source": [
    "## Building A Naive Agent Using tecton_gen_ai"
   ]
  },
  {
   "cell_type": "code",
   "execution_count": null,
   "id": "864fdd05-f737-4975-9286-2ad1c61f0a4f",
   "metadata": {},
   "outputs": [],
   "source": [
    "from tecton_gen_ai.api import prompt, Agent\n",
    "\n",
    "agent1 = Agent(\n",
    "    \"app\",\n",
    "    prompt=\"You are an agent who helps people build brands. You response should be under 200 words\",\n",
    "    llm=\"openai/gpt-4o\",\n",
    ")"
   ]
  },
  {
   "cell_type": "code",
   "execution_count": null,
   "id": "bf016aad-d8f1-4101-bd5e-745acc6c4861",
   "metadata": {},
   "outputs": [
    {
     "data": {
      "application/vnd.jupyter.widget-view+json": {
       "model_id": "52dbebc7729e4582a9074b7cce6476d4",
       "version_major": 2,
       "version_minor": 0
      },
      "text/plain": [
       "VBox(children=(Text(value='', continuous_update=False, layout=Layout(width='90%'), placeholder='Type something…"
      ]
     },
     "metadata": {},
     "output_type": "display_data"
    }
   ],
   "source": [
    "from tecton_gen_ai.testing.interactive import qna\n",
    "\n",
    "qna(agent1, diagram=True)"
   ]
  },
  {
   "cell_type": "markdown",
   "id": "df0a2a2e-2992-47b8-9258-c47663a7a405",
   "metadata": {},
   "source": [
    "## Building A Better Agent With Personal Info Enriched Prompts"
   ]
  },
  {
   "cell_type": "code",
   "execution_count": null,
   "id": "aea7a912-5ed0-4dab-968f-701492ba93f9",
   "metadata": {},
   "outputs": [
    {
     "data": {
      "application/vnd.jupyter.widget-view+json": {
       "model_id": "74864665104043b99aa3045c631c2156",
       "version_major": 2,
       "version_minor": 0
      },
      "text/plain": [
       "VBox(children=(Text(value='', continuous_update=False, layout=Layout(width='90%'), placeholder='Type something…"
      ]
     },
     "metadata": {},
     "output_type": "display_data"
    }
   ],
   "source": [
    "@prompt(sources=[user_info])\n",
    "def sys_prompt(user_info):\n",
    "    prefix = \"You are an agent who helps people build brands. You response should be under 200 words\"\n",
    "    return (\n",
    "        prefix\n",
    "        + f\" You are serving a company {user_info['company_name']}: {user_info['description']}\"\n",
    "    )\n",
    "\n",
    "\n",
    "agent2 = Agent(\"app\", prompt=sys_prompt, llm=\"openai/gpt-4o\")\n",
    "\n",
    "qna(agent2, context={\"stori_user_id\": \"user_tecton\"}, diagram=True)"
   ]
  },
  {
   "cell_type": "markdown",
   "id": "95b41267-b91b-49b6-8f4e-9d6ea2a1baea",
   "metadata": {},
   "source": [
    "## Building An Even Better Agent With Views as Dynamic Context"
   ]
  },
  {
   "cell_type": "code",
   "execution_count": null,
   "id": "b23ebe89-ab3c-4ddc-aa70-4749eafb21ff",
   "metadata": {},
   "outputs": [
    {
     "data": {
      "application/vnd.jupyter.widget-view+json": {
       "model_id": "83f6f3f16d5f4c3e98001a46e8a38b59",
       "version_major": 2,
       "version_minor": 0
      },
      "text/plain": [
       "VBox(children=(Text(value='', continuous_update=False, layout=Layout(width='90%'), placeholder='Type something…"
      ]
     },
     "metadata": {},
     "output_type": "display_data"
    }
   ],
   "source": [
    "agent3 = Agent(\"app\", prompt=sys_prompt, tools=[topic_views], llm=\"openai/gpt-4o\")\n",
    "\n",
    "qna(agent3, context={\"stori_user_id\": \"user_tecton\"}, diagram=True)"
   ]
  },
  {
   "cell_type": "markdown",
   "id": "c5bcec36-a6c9-4db7-ad99-c5f936e6a317",
   "metadata": {},
   "source": [
    "## Build The Best Agent With All Structured Context Data You Have"
   ]
  },
  {
   "cell_type": "code",
   "execution_count": null,
   "id": "3360bcc9-53be-48f4-9564-03612bac9613",
   "metadata": {},
   "outputs": [
    {
     "data": {
      "application/vnd.jupyter.widget-view+json": {
       "model_id": "7f5f3c8452054e858246d63d87fe641b",
       "version_major": 2,
       "version_minor": 0
      },
      "text/plain": [
       "VBox(children=(Text(value='', continuous_update=False, layout=Layout(width='90%'), placeholder='Type something…"
      ]
     },
     "metadata": {},
     "output_type": "display_data"
    }
   ],
   "source": [
    "agent4 = Agent(\n",
    "    \"app\", prompt=sys_prompt, tools=[topic_views, topic_sentiments], llm=\"openai/gpt-4o\"\n",
    ")\n",
    "\n",
    "qna(agent4, context={\"stori_user_id\": \"user_tecton\"}, diagram=True)"
   ]
  },
  {
   "cell_type": "code",
   "execution_count": null,
   "id": "59a88e43-08db-4709-a5ce-2a948afa810e",
   "metadata": {},
   "outputs": [],
   "source": []
  }
 ],
 "metadata": {
  "kernelspec": {
   "display_name": "python3",
   "language": "python",
   "name": "python3"
  }
 },
 "nbformat": 4,
 "nbformat_minor": 5
}
