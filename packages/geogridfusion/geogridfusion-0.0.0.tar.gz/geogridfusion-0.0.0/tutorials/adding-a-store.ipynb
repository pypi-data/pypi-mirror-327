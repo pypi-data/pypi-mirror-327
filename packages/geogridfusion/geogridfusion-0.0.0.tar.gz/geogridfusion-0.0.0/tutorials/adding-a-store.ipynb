{
 "cells": [
  {
   "cell_type": "code",
   "execution_count": 1,
   "metadata": {},
   "outputs": [],
   "source": [
    "import geogridfusion\n",
    "import geogridfusion.templates"
   ]
  },
  {
   "cell_type": "markdown",
   "metadata": {},
   "source": [
    "### Starting a New Store\n",
    "\n",
    "We need to define a place for our living datastore to grow, along with some other useful information. This includes \n",
    "- name \n",
    "- file path\n",
    "- periods (length)\n",
    "- grid resolution (km)\n",
    "- template\n",
    "\n",
    "**Name**: a name that can be referenced throgh the top level `geogridfusion` namespace.\n",
    "**File Path**: a location where your data will sit.  \n",
    "**Periods**: number of entries along time axis in your data, all data-points should have uniform length in periods.  \n",
    "**Grid Resolition**: resolution of grid in km.  \n",
    "**template**: a template of how your data will be stored. this is the most complicated part. We seek to provide templates for common data sources (PVGIS, NSRDB) but you may have to produce your own. Documenation coming on this soon.  "
   ]
  },
  {
   "cell_type": "code",
   "execution_count": 2,
   "metadata": {},
   "outputs": [],
   "source": [
    "geogridfusion.add_user_path(\n",
    "    name=\"pvgis_tmy\", \n",
    "    path=\"c:/Users/tford/dev/GeoGridFusion/saves/dir-a\", \n",
    "    periods=\"8760\", # tmy is hourly data and contains 8760 per year for a single year\n",
    "    grid_resolution=\"4\", # dataset based resolution, PVGIS is 2km?\n",
    "    template_ds=geogridfusion.templates.PVGIS_TMY_TEMPLATE\n",
    ")"
   ]
  },
  {
   "cell_type": "code",
   "execution_count": null,
   "metadata": {},
   "outputs": [],
   "source": [
    "geogridfusion.display_paths()"
   ]
  },
  {
   "cell_type": "code",
   "execution_count": null,
   "metadata": {},
   "outputs": [],
   "source": []
  }
 ],
 "metadata": {
  "kernelspec": {
   "display_name": "deg",
   "language": "python",
   "name": "python3"
  },
  "language_info": {
   "codemirror_mode": {
    "name": "ipython",
    "version": 3
   },
   "file_extension": ".py",
   "mimetype": "text/x-python",
   "name": "python",
   "nbconvert_exporter": "python",
   "pygments_lexer": "ipython3",
   "version": "3.9.19"
  }
 },
 "nbformat": 4,
 "nbformat_minor": 2
}
